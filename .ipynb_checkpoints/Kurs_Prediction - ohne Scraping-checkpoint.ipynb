{
 "cells": [
  {
   "cell_type": "code",
   "execution_count": 182,
   "id": "238285bf",
   "metadata": {
    "pycharm": {
     "name": "#%%\n"
    }
   },
   "outputs": [
    {
     "name": "stdout",
     "output_type": "stream",
     "text": [
      "<class 'pandas.core.frame.DataFrame'>\n",
      "RangeIndex: 5077 entries, 0 to 5076\n",
      "Data columns (total 6 columns):\n",
      " #   Column     Non-Null Count  Dtype         \n",
      "---  ------     --------------  -----         \n",
      " 0   Datum      5077 non-null   datetime64[ns]\n",
      " 1   Eröffnung  5077 non-null   float64       \n",
      " 2   Hoch       5077 non-null   float64       \n",
      " 3   Tief       5077 non-null   float64       \n",
      " 4   Schluss    5077 non-null   float64       \n",
      " 5   Volumen    5077 non-null   object        \n",
      "dtypes: datetime64[ns](1), float64(4), object(1)\n",
      "memory usage: 238.1+ KB\n"
     ]
    }
   ],
   "source": [
    "import math\n",
    "import pandas_datareader as web\n",
    "import numpy as np\n",
    "import pandas as pd\n",
    "from sklearn.preprocessing import MinMaxScaler\n",
    "from keras.models import Sequential\n",
    "from keras.layers import Dense, LSTM\n",
    "import matplotlib.pyplot as plt\n",
    "import plotly.express as px\n",
    "import os\n",
    "import datetime\n",
    "import plotly.graph_objects as go\n",
    "from plotly.subplots import make_subplots\n",
    "\n",
    "IndexListe= [\"DAX\", \"EURO STOXX 50\", \"Dow Jones\",  \"SMI\", \"MSCI World\", \"FTSE\", \"ATX\", \"SDAX\", \"Tec DAX\", \"NASDAQ 100\", \"Nikkei\", \"Hang Seng\", \"SHANGHAI STOCK EXCHANGE B SHARES\", \"Emerging Markets\", \"Bovespa\"]\n",
    "os.chdir('C:/Users/Sven Konermann/Documents/GitHub/DataScience/Data')\n",
    "while x < len(IndexListe):\n",
    "    df = pd.read_csv('Dax.csv', delimiter=' ', header=None, skiprows=2, names=['Datum','Eröffnung','Hoch','Tief','Schluss','Volumen'], index_col=False)\n",
    "    for i in range (len(df)):\n",
    "        df.loc[i,'Eröffnung'] = df.loc[i,'Eröffnung'].replace('.','')\n",
    "        df.loc[i,'Eröffnung'] = df.loc[i,'Eröffnung'].replace(',','.')\n",
    "        df.loc[i,'Hoch'] = df.loc[i,'Hoch'].replace('.','')\n",
    "        df.loc[i,'Hoch'] = df.loc[i,'Hoch'].replace(',','.')\n",
    "        df.loc[i,'Tief'] = df.loc[i,'Tief'].replace('.','')\n",
    "        df.loc[i,'Tief'] = df.loc[i,'Tief'].replace(',','.')\n",
    "        df.loc[i,'Schluss'] = df.loc[i,'Schluss'].replace('.','')\n",
    "        df.loc[i,'Schluss'] = df.loc[i,'Schluss'].replace(',','.')\n",
    "        df.loc[i,'Volumen'] = df.loc[i,'Volumen'].replace('.','')\n",
    "        df.loc[i,'Volumen'] = df.loc[i,'Volumen'].replace(',','.')\n",
    "        i+=1\n",
    "\n",
    "    df['Datum'] = pd.to_datetime(df.Datum, format=\"%d.%m.%Y\")\n",
    "    df['Eröffnung'] = df['Eröffnung'].astype(float)\n",
    "    df['Hoch'] = df['Hoch'].astype(float)\n",
    "    df['Tief'] = df['Tief'].astype(float)\n",
    "    df['Schluss'] = df['Schluss'].astype(float)\n",
    "    \n",
    "#Data Normalization\n",
    "\n",
    "    data = df.filter(['Schluss'])\n",
    "    dataset = data.values\n",
    "    training_data_len = math.ceil(len(dataset) * .8)\n",
    "    training_data_len\n",
    "    \n",
    "    scaler = MinMaxScaler(feature_range=(0,1))\n",
    "    scaled_data = scaler.fit_transform(dataset)\n",
    "\n",
    "    train_data = scaled_data[0:training_data_len ,:]\n",
    "\n",
    "    x_train = []\n",
    "    y_train = []\n",
    "\n",
    "    for i in range(60, len(train_data)):\n",
    "        x_train.append(train_data[i-60:i, 0])\n",
    "        y_train.append(train_data[i, 0])\n",
    "\n",
    "    x_train, y_train = np.array(x_train), np.array(y_train)\n",
    "    \n",
    "    "
   ]
  },
  {
   "cell_type": "markdown",
   "id": "19ac8d05",
   "metadata": {},
   "source": [
    "DATA EXPLORATION & PROCESSING"
   ]
  },
  {
   "cell_type": "code",
   "execution_count": 197,
   "id": "02844ddc",
   "metadata": {
    "pycharm": {
     "name": "#%%\n"
    }
   },
   "outputs": [
    {
     "data": {
      "text/plain": [
       "(4002, 60, 1)"
      ]
     },
     "execution_count": 197,
     "metadata": {},
     "output_type": "execute_result"
    }
   ],
   "source": [
    "x_train = np.reshape(x_train, (x_train.shape[0], x_train.shape[1],1))\n",
    "x_train.shape"
   ]
  },
  {
   "cell_type": "markdown",
   "id": "66de8dda",
   "metadata": {},
   "source": [
    "Model"
   ]
  },
  {
   "cell_type": "code",
   "execution_count": 198,
   "id": "a7f35770",
   "metadata": {},
   "outputs": [],
   "source": [
    "model = Sequential()\n",
    "model.add(LSTM(50, return_sequences=True, input_shape=(x_train.shape[1],1)))\n",
    "model.add(LSTM(50, return_sequences=False))\n",
    "model.add(Dense(25))\n",
    "model.add(Dense(1))"
   ]
  },
  {
   "cell_type": "code",
   "execution_count": 199,
   "id": "ad065461",
   "metadata": {
    "pycharm": {
     "name": "#%%\n"
    }
   },
   "outputs": [],
   "source": [
    "model.compile(optimizer='adam', loss='mean_squared_error')"
   ]
  },
  {
   "cell_type": "code",
   "execution_count": 200,
   "id": "ff49f062",
   "metadata": {
    "pycharm": {
     "name": "#%%\n"
    }
   },
   "outputs": [
    {
     "name": "stdout",
     "output_type": "stream",
     "text": [
      "4002/4002 [==============================] - 71s 17ms/step - loss: 5.6126e-04\n"
     ]
    },
    {
     "data": {
      "text/plain": [
       "<keras.callbacks.History at 0x21c7201cc40>"
      ]
     },
     "execution_count": 200,
     "metadata": {},
     "output_type": "execute_result"
    }
   ],
   "source": [
    "model.fit(x_train, y_train, batch_size=1, epochs=1)"
   ]
  },
  {
   "cell_type": "code",
   "execution_count": 204,
   "id": "f7896350",
   "metadata": {
    "pycharm": {
     "name": "#%%\n"
    }
   },
   "outputs": [],
   "source": [
    "test_data = scaled_data[training_data_len - 60: , :]\n",
    "x_test = []\n",
    "y_test = dataset[training_data_len:, :]\n",
    "for i in range(60, len(test_data)):\n",
    "    x_test.append(test_data[i-60:i, 0])"
   ]
  },
  {
   "cell_type": "code",
   "execution_count": 205,
   "id": "da49c1be",
   "metadata": {
    "pycharm": {
     "name": "#%%\n"
    }
   },
   "outputs": [],
   "source": [
    "x_test = np.array(x_test)"
   ]
  },
  {
   "cell_type": "code",
   "execution_count": 203,
   "id": "bcd0924b",
   "metadata": {
    "pycharm": {
     "name": "#%%\n"
    }
   },
   "outputs": [],
   "source": [
    "x_test = np.reshape(x_test, (x_test.shape[0], x_test.shape[1],1))"
   ]
  },
  {
   "cell_type": "code",
   "execution_count": 206,
   "id": "dfe59f2b",
   "metadata": {
    "pycharm": {
     "name": "#%%\n"
    }
   },
   "outputs": [],
   "source": [
    "predictions = model.predict(x_test)\n",
    "predictions = scaler.inverse_transform(predictions)\n"
   ]
  },
  {
   "cell_type": "code",
   "execution_count": 207,
   "id": "369a996d",
   "metadata": {
    "pycharm": {
     "name": "#%%\n"
    }
   },
   "outputs": [
    {
     "data": {
      "text/plain": [
       "257.6583984643029"
      ]
     },
     "execution_count": 207,
     "metadata": {},
     "output_type": "execute_result"
    }
   ],
   "source": [
    "rmse = np.sqrt(np.mean(((predictions - y_test)**2)))\n",
    "rmse"
   ]
  },
  {
   "cell_type": "code",
   "execution_count": 208,
   "id": "52b916dd",
   "metadata": {
    "pycharm": {
     "name": "#%%\n"
    }
   },
   "outputs": [
    {
     "name": "stderr",
     "output_type": "stream",
     "text": [
      "C:\\Users\\Sven Konermann\\AppData\\Local\\Temp\\ipykernel_23076\\3950293827.py:3: SettingWithCopyWarning:\n",
      "\n",
      "\n",
      "A value is trying to be set on a copy of a slice from a DataFrame.\n",
      "Try using .loc[row_indexer,col_indexer] = value instead\n",
      "\n",
      "See the caveats in the documentation: https://pandas.pydata.org/pandas-docs/stable/user_guide/indexing.html#returning-a-view-versus-a-copy\n",
      "\n"
     ]
    },
    {
     "data": {
      "text/plain": [
       "<function matplotlib.pyplot.show(close=None, block=None)>"
      ]
     },
     "execution_count": 208,
     "metadata": {},
     "output_type": "execute_result"
    },
    {
     "data": {
      "image/png": "[encoded data removed]",
      "text/plain": [
       "<Figure size 1152x576 with 1 Axes>"
      ]
     },
     "metadata": {
      "needs_background": "light"
     },
     "output_type": "display_data"
    }
   ],
   "source": [
    "train = data[:training_data_len]\n",
    "valid = data[training_data_len:]\n",
    "valid['Predictions'] = predictions\n",
    "plt.figure(figsize=(16,8))\n",
    "plt.title('Model')\n",
    "plt.xlabel('Date')\n",
    "plt.plot(train['Schluss'])\n",
    "plt.plot(valid[['Schluss', 'Predictions']])\n",
    "plt.legend(['Train', 'Val', 'Predictions'], loc='lower right')\n",
    "plt.show"
   ]
  },
  {
   "cell_type": "code",
   "execution_count": 209,
   "id": "725cc7d7",
   "metadata": {
    "pycharm": {
     "name": "#%%\n"
    }
   },
   "outputs": [
    {
     "data": {
      "text/html": [
       "<div>\n",
       "<style scoped>\n",
       "    .dataframe tbody tr th:only-of-type {\n",
       "        vertical-align: middle;\n",
       "    }\n",
       "\n",
       "    .dataframe tbody tr th {\n",
       "        vertical-align: top;\n",
       "    }\n",
       "\n",
       "    .dataframe thead th {\n",
       "        text-align: right;\n",
       "    }\n",
       "</style>\n",
       "<table border=\"1\" class=\"dataframe\">\n",
       "  <thead>\n",
       "    <tr style=\"text-align: right;\">\n",
       "      <th></th>\n",
       "      <th>Schluss</th>\n",
       "      <th>Predictions</th>\n",
       "    </tr>\n",
       "  </thead>\n",
       "  <tbody>\n",
       "    <tr>\n",
       "      <th>4062</th>\n",
       "      <td>12422.30</td>\n",
       "      <td>12559.410156</td>\n",
       "    </tr>\n",
       "    <tr>\n",
       "      <th>4063</th>\n",
       "      <td>12500.47</td>\n",
       "      <td>12536.656250</td>\n",
       "    </tr>\n",
       "    <tr>\n",
       "      <th>4064</th>\n",
       "      <td>12580.87</td>\n",
       "      <td>12523.855469</td>\n",
       "    </tr>\n",
       "    <tr>\n",
       "      <th>4065</th>\n",
       "      <td>12612.11</td>\n",
       "      <td>12532.239258</td>\n",
       "    </tr>\n",
       "    <tr>\n",
       "      <th>4066</th>\n",
       "      <td>12802.25</td>\n",
       "      <td>12553.064453</td>\n",
       "    </tr>\n",
       "    <tr>\n",
       "      <th>...</th>\n",
       "      <td>...</td>\n",
       "      <td>...</td>\n",
       "    </tr>\n",
       "    <tr>\n",
       "      <th>5072</th>\n",
       "      <td>13924.17</td>\n",
       "      <td>14256.412109</td>\n",
       "    </tr>\n",
       "    <tr>\n",
       "      <th>5073</th>\n",
       "      <td>13756.40</td>\n",
       "      <td>14190.640625</td>\n",
       "    </tr>\n",
       "    <tr>\n",
       "      <th>5074</th>\n",
       "      <td>13793.94</td>\n",
       "      <td>14080.902344</td>\n",
       "    </tr>\n",
       "    <tr>\n",
       "      <th>5075</th>\n",
       "      <td>13979.84</td>\n",
       "      <td>13984.487305</td>\n",
       "    </tr>\n",
       "    <tr>\n",
       "      <th>5076</th>\n",
       "      <td>14097.88</td>\n",
       "      <td>13947.503906</td>\n",
       "    </tr>\n",
       "  </tbody>\n",
       "</table>\n",
       "<p>1015 rows × 2 columns</p>\n",
       "</div>"
      ],
      "text/plain": [
       "       Schluss   Predictions\n",
       "4062  12422.30  12559.410156\n",
       "4063  12500.47  12536.656250\n",
       "4064  12580.87  12523.855469\n",
       "4065  12612.11  12532.239258\n",
       "4066  12802.25  12553.064453\n",
       "...        ...           ...\n",
       "5072  13924.17  14256.412109\n",
       "5073  13756.40  14190.640625\n",
       "5074  13793.94  14080.902344\n",
       "5075  13979.84  13984.487305\n",
       "5076  14097.88  13947.503906\n",
       "\n",
       "[1015 rows x 2 columns]"
      ]
     },
     "execution_count": 209,
     "metadata": {},
     "output_type": "execute_result"
    }
   ],
   "source": [
    "valid"
   ]
  },
  {
   "cell_type": "code",
   "execution_count": 211,
   "id": "4726c678",
   "metadata": {
    "pycharm": {
     "name": "#%%\n"
    }
   },
   "outputs": [
    {
     "name": "stdout",
     "output_type": "stream",
     "text": [
      "1.3926006738507644\n"
     ]
    }
   ],
   "source": [
    "score=(sum(abs(valid['Schluss']-valid['Predictions'])/valid['Schluss'])/len(valid['Schluss']))*100\n",
    "print(score)"
   ]
  },
  {
   "cell_type": "code",
   "execution_count": 212,
   "id": "038e704a",
   "metadata": {
    "pycharm": {
     "name": "#%%\n"
    }
   },
   "outputs": [
    {
     "name": "stdout",
     "output_type": "stream",
     "text": [
      "98.60739932614923\n"
     ]
    }
   ],
   "source": [
    "acc_score=(1-sum(abs(valid['Schluss']-valid['Predictions'])/valid['Schluss'])/len(valid['Schluss']))*100\n",
    "print(acc_score)"
   ]
  }
 ],
 "metadata": {
  "kernelspec": {
   "display_name": "Python 3 (ipykernel)",
   "language": "python",
   "name": "python3"
  },
  "language_info": {
   "codemirror_mode": {
    "name": "ipython",
    "version": 3
   },
   "file_extension": ".py",
   "mimetype": "text/x-python",
   "name": "python",
   "nbconvert_exporter": "python",
   "pygments_lexer": "ipython3",
   "version": "3.8.12"
  }
 },
 "nbformat": 4,
 "nbformat_minor": 5
}
