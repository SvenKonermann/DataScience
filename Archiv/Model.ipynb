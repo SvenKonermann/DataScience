{
 "cells": [
  {
   "cell_type": "markdown",
   "metadata": {
    "pycharm": {
     "name": "#%% md\n"
    }
   },
   "source": [
    "## Machine Learning Pipeline: Wrapping up for Deployment\n",
    "\n",
    "\n",
    "In the previous notebooks, we worked through the typical Machine Learning pipeline steps to build a regression model that allows us to predict house prices. Briefly, we transformed variables in the dataset to make them suitable for use in a Regression model, then we selected the most predictive variables and finally we trained our model.\n",
    "\n",
    "Now, we want to deploy our model. We want to create an API, which we can call with new data, with new characteristics about houses, to get an estimate of the SalePrice. In order to do so, we need to write code in a very specific way. We will show you how to write production code in the next sections.\n",
    "\n",
    "Here, we will summarise the key pieces of code, that we need to take forward for this particular project, to put our model in production.\n",
    "\n",
    "Let's go ahead and get started."
   ]
  },
  {
   "cell_type": "markdown",
   "metadata": {
    "pycharm": {
     "name": "#%% md\n"
    }
   },
   "source": [
    "### Setting the seed\n",
    "\n",
    "It is important to note, that we are engineering variables and pre-processing data with the idea of deploying the model. Therefore, from now on, for each step that includes some element of randomness, it is extremely important that we **set the seed**. This way, we can obtain reproducibility between our research and our development code.\n",
    "\n",
    "This is perhaps one of the most important lessons that you need to take away from this course: **Always set the seeds**.\n",
    "\n",
    "Let's go ahead and load the dataset."
   ]
  },
  {
   "cell_type": "code",
   "execution_count": 2,
   "metadata": {
    "pycharm": {
     "name": "#%%\n"
    }
   },
   "outputs": [],
   "source": [
    "# to handle datasets\n",
    "import pandas as pd\n",
    "import numpy as np\n",
    "import matplotlib.pyplot as plt\n",
    "\n",
    "# to divide train and test set\n",
    "from sklearn.model_selection import train_test_split\n",
    "\n",
    "# feature scaling\n",
    "from sklearn.preprocessing import MinMaxScaler\n",
    "\n",
    "# to build the models\n",
    "from sklearn.linear_model import Lasso\n",
    "\n",
    "# to evaluate the models\n",
    "from sklearn.metrics import mean_squared_error, r2_score\n",
    "from math import sqrt\n",
    "\n",
    "# to persist the model and the scaler\n",
    "import joblib\n",
    "\n",
    "# to visualise al the columns in the dataframe\n",
    "pd.pandas.set_option('display.max_columns', None)\n",
    "\n",
    "import warnings\n",
    "warnings.simplefilter(action='ignore')\n"
   ]
  },
  {
   "cell_type": "markdown",
   "metadata": {
    "pycharm": {
     "name": "#%% md\n"
    }
   },
   "source": [
    "## Load data\n",
    "\n",
    "We need the training data to train our model in the production environment. "
   ]
  },
  {
   "cell_type": "code",
   "execution_count": 3,
   "metadata": {
    "pycharm": {
     "name": "#%%\n"
    },
    "scrolled": true,
    "tags": []
   },
   "outputs": [
    {
     "name": "stdout",
     "output_type": "stream",
     "text": [
      "      Schluss DAX  Schluss EURO STOXX 50  Schluss Dow Jones  Schluss SMI  \\\n",
      "0         2548.37                2124.78            8214.60      4230.70   \n",
      "1         2636.10                2184.98            8280.20      4263.60   \n",
      "2         2579.33                2172.64            8229.80      4247.10   \n",
      "3         2584.05                2132.51            8201.40      4194.50   \n",
      "4         2520.84                2132.11            8145.70      4207.60   \n",
      "...           ...                    ...                ...          ...   \n",
      "3772     14142.09                3840.01           33811.40     12258.33   \n",
      "3773     13924.17                3757.59           34049.46     12084.98   \n",
      "3774     13756.40                3721.36           33240.18     11933.28   \n",
      "3775     13793.94                3734.64           33301.93     12051.48   \n",
      "3776     13979.84                3777.02           33916.39     12068.41   \n",
      "\n",
      "      Schluss MSCI World  Schluss FTSE  Schluss ATX  Schluss SDAX  \\\n",
      "0                764.795       3743.30      1157.18       1700.34   \n",
      "1                771.798       3762.00      1159.88       1712.51   \n",
      "2                770.102       3793.10      1171.04       1717.30   \n",
      "3                766.602       3729.10      1166.62       1703.45   \n",
      "4                762.954       3708.50      1162.82       1697.90   \n",
      "...                  ...           ...          ...           ...   \n",
      "3772            2882.453       7521.68      3295.16      14225.23   \n",
      "3773            2877.705       7380.54      3227.02      13882.57   \n",
      "3774            2810.996       7386.19      3194.05      13706.51   \n",
      "3775            2807.510       7425.61      3232.27      13684.57   \n",
      "3776            2861.549       7509.19      3268.90      13812.68   \n",
      "\n",
      "      Schluss Tec DAX  Schluss NASDAQ 100  Schluss Nikkei  Schluss Hang Seng  \\\n",
      "0              337.78            1047.100         8435.07            9108.45   \n",
      "1              344.77            1066.570         8238.76            9062.15   \n",
      "2              346.33            1066.300         8351.92            9047.09   \n",
      "3              340.55            1061.930         8368.67            8872.32   \n",
      "4              338.76            1046.720         8280.16            8848.26   \n",
      "...               ...                 ...             ...                ...   \n",
      "3772          3172.62           13356.869        27105.26           20616.81   \n",
      "3773          3146.53           13533.224        26590.78           19876.88   \n",
      "3774          3079.53           13009.712        26700.11           19898.74   \n",
      "3775          3091.05           13003.356        26386.63           19972.84   \n",
      "3776          3135.84           13456.058        26847.90           20238.22   \n",
      "\n",
      "      Schluss SHANGHAI STOCK EXCHANGE B SHARES  Schluss Emerging Markets  \\\n",
      "0                                      120.800                   279.256   \n",
      "1                                      119.090                   277.982   \n",
      "2                                      118.060                   278.743   \n",
      "3                                      122.610                   277.431   \n",
      "4                                      121.650                   277.317   \n",
      "...                                        ...                       ...   \n",
      "3772                                   288.973                  1075.598   \n",
      "3773                                   278.236                  1046.043   \n",
      "3774                                   275.658                  1049.394   \n",
      "3775                                   283.198                  1043.744   \n",
      "3776                                   285.964                  1053.817   \n",
      "\n",
      "      Schluss Bovespa  \n",
      "0            11052.00  \n",
      "1            11248.00  \n",
      "2            11206.00  \n",
      "3            11233.00  \n",
      "4            11396.00  \n",
      "...               ...  \n",
      "3772        111077.51  \n",
      "3773        110684.95  \n",
      "3774        108212.86  \n",
      "3775        109349.37  \n",
      "3776        109918.97  \n",
      "\n",
      "[3777 rows x 15 columns]\n",
      "<class 'pandas.core.frame.DataFrame'>\n",
      "RangeIndex: 3777 entries, 0 to 3776\n",
      "Data columns (total 15 columns):\n",
      " #   Column                                    Non-Null Count  Dtype  \n",
      "---  ------                                    --------------  -----  \n",
      " 0   Schluss DAX                               3777 non-null   float64\n",
      " 1   Schluss EURO STOXX 50                     3777 non-null   float64\n",
      " 2   Schluss Dow Jones                         3777 non-null   float64\n",
      " 3   Schluss SMI                               3777 non-null   float64\n",
      " 4   Schluss MSCI World                        3777 non-null   float64\n",
      " 5   Schluss FTSE                              3777 non-null   float64\n",
      " 6   Schluss ATX                               3777 non-null   float64\n",
      " 7   Schluss SDAX                              3777 non-null   float64\n",
      " 8   Schluss Tec DAX                           3777 non-null   float64\n",
      " 9   Schluss NASDAQ 100                        3777 non-null   float64\n",
      " 10  Schluss Nikkei                            3777 non-null   float64\n",
      " 11  Schluss Hang Seng                         3777 non-null   float64\n",
      " 12  Schluss SHANGHAI STOCK EXCHANGE B SHARES  3777 non-null   float64\n",
      " 13  Schluss Emerging Markets                  3777 non-null   float64\n",
      " 14  Schluss Bovespa                           3777 non-null   float64\n",
      "dtypes: float64(15)\n",
      "memory usage: 442.7 KB\n",
      "      Schluss DAX  Schluss EURO STOXX 50  Schluss Dow Jones  Schluss SMI  \\\n",
      "0         2548.37                2124.78            8214.60      4230.70   \n",
      "1         2636.10                2184.98            8280.20      4263.60   \n",
      "2         2579.33                2172.64            8229.80      4247.10   \n",
      "3         2584.05                2132.51            8201.40      4194.50   \n",
      "4         2520.84                2132.11            8145.70      4207.60   \n",
      "...           ...                    ...                ...          ...   \n",
      "3772     14142.09                3840.01           33811.40     12258.33   \n",
      "3773     13924.17                3757.59           34049.46     12084.98   \n",
      "3774     13756.40                3721.36           33240.18     11933.28   \n",
      "3775     13793.94                3734.64           33301.93     12051.48   \n",
      "3776     13979.84                3777.02           33916.39     12068.41   \n",
      "\n",
      "      Schluss MSCI World  Schluss FTSE  Schluss ATX  Schluss SDAX  \\\n",
      "0                764.795       3743.30      1157.18       1700.34   \n",
      "1                771.798       3762.00      1159.88       1712.51   \n",
      "2                770.102       3793.10      1171.04       1717.30   \n",
      "3                766.602       3729.10      1166.62       1703.45   \n",
      "4                762.954       3708.50      1162.82       1697.90   \n",
      "...                  ...           ...          ...           ...   \n",
      "3772            2882.453       7521.68      3295.16      14225.23   \n",
      "3773            2877.705       7380.54      3227.02      13882.57   \n",
      "3774            2810.996       7386.19      3194.05      13706.51   \n",
      "3775            2807.510       7425.61      3232.27      13684.57   \n",
      "3776            2861.549       7509.19      3268.90      13812.68   \n",
      "\n",
      "      Schluss Tec DAX  Schluss NASDAQ 100  Schluss Nikkei  Schluss Hang Seng  \\\n",
      "0              337.78            1047.100         8435.07            9108.45   \n",
      "1              344.77            1066.570         8238.76            9062.15   \n",
      "2              346.33            1066.300         8351.92            9047.09   \n",
      "3              340.55            1061.930         8368.67            8872.32   \n",
      "4              338.76            1046.720         8280.16            8848.26   \n",
      "...               ...                 ...             ...                ...   \n",
      "3772          3172.62           13356.869        27105.26           20616.81   \n",
      "3773          3146.53           13533.224        26590.78           19876.88   \n",
      "3774          3079.53           13009.712        26700.11           19898.74   \n",
      "3775          3091.05           13003.356        26386.63           19972.84   \n",
      "3776          3135.84           13456.058        26847.90           20238.22   \n",
      "\n",
      "      Schluss SHANGHAI STOCK EXCHANGE B SHARES  Schluss Emerging Markets  \\\n",
      "0                                      120.800                   279.256   \n",
      "1                                      119.090                   277.982   \n",
      "2                                      118.060                   278.743   \n",
      "3                                      122.610                   277.431   \n",
      "4                                      121.650                   277.317   \n",
      "...                                        ...                       ...   \n",
      "3772                                   288.973                  1075.598   \n",
      "3773                                   278.236                  1046.043   \n",
      "3774                                   275.658                  1049.394   \n",
      "3775                                   283.198                  1043.744   \n",
      "3776                                   285.964                  1053.817   \n",
      "\n",
      "      Schluss Bovespa  \n",
      "0            11052.00  \n",
      "1            11248.00  \n",
      "2            11206.00  \n",
      "3            11233.00  \n",
      "4            11396.00  \n",
      "...               ...  \n",
      "3772        111077.51  \n",
      "3773        110684.95  \n",
      "3774        108212.86  \n",
      "3775        109349.37  \n",
      "3776        109918.97  \n",
      "\n",
      "[3777 rows x 15 columns]\n",
      "<class 'pandas.core.frame.DataFrame'>\n",
      "RangeIndex: 3777 entries, 0 to 3776\n",
      "Data columns (total 15 columns):\n",
      " #   Column                                    Non-Null Count  Dtype  \n",
      "---  ------                                    --------------  -----  \n",
      " 0   Schluss DAX                               3777 non-null   float64\n",
      " 1   Schluss EURO STOXX 50                     3777 non-null   float64\n",
      " 2   Schluss Dow Jones                         3777 non-null   float64\n",
      " 3   Schluss SMI                               3777 non-null   float64\n",
      " 4   Schluss MSCI World                        3777 non-null   float64\n",
      " 5   Schluss FTSE                              3777 non-null   float64\n",
      " 6   Schluss ATX                               3777 non-null   float64\n",
      " 7   Schluss SDAX                              3777 non-null   float64\n",
      " 8   Schluss Tec DAX                           3777 non-null   float64\n",
      " 9   Schluss NASDAQ 100                        3777 non-null   float64\n",
      " 10  Schluss Nikkei                            3777 non-null   float64\n",
      " 11  Schluss Hang Seng                         3777 non-null   float64\n",
      " 12  Schluss SHANGHAI STOCK EXCHANGE B SHARES  3777 non-null   float64\n",
      " 13  Schluss Emerging Markets                  3777 non-null   float64\n",
      " 14  Schluss Bovespa                           3777 non-null   float64\n",
      "dtypes: float64(15)\n",
      "memory usage: 442.7 KB\n"
     ]
    }
   ],
   "source": [
    "# load dataset\n",
    "data = pd.read_csv('Indizes.csv')\n",
    "data = data.drop(data.columns[0],axis=1)\n",
    "data = data.drop(data.columns[0],axis=1)\n",
    "#data = data['Eröffnung_x'.replace('.','')\n",
    "\n",
    "\n",
    "\n",
    "#data['Eröffnung_x'] = data['Eröffnung_x'].astype(\"float64\")\n",
    "#data['Eröffnung_y'] = data['Eröffnung_y'].astype(\"float64\")\n",
    "#data = data.drop(data.columns[0],axis=1)\n",
    "print(data)\n",
    "#data.head()\n",
    "data.info()\n",
    "\n",
    "#data = data['Eröffnung_x'.replace('.','')\n",
    "\n",
    "\n",
    "\n",
    "#data['Eröffnung_x'] = data['Eröffnung_x'].astype(\"float64\")\n",
    "#data['Eröffnung_y'] = data['Eröffnung_y'].astype(\"float64\")\n",
    "#data = data.drop(data.columns[0],axis=1)\n",
    "print(data)\n",
    "#data.head()\n",
    "data.info()\n"
   ]
  },
  {
   "cell_type": "code",
   "execution_count": 4,
   "metadata": {
    "pycharm": {
     "name": "#%%\n"
    }
   },
   "outputs": [
    {
     "data": {
      "text/plain": [
       "<AxesSubplot:>"
      ]
     },
     "execution_count": 4,
     "metadata": {},
     "output_type": "execute_result"
    },
    {
     "data": {
      "image/png": "[encoded data removed]",
      "text/plain": [
       "<Figure size 1080x360 with 2 Axes>"
      ]
     },
     "metadata": {
      "needs_background": "light"
     },
     "output_type": "display_data"
    }
   ],
   "source": [
    "import seaborn as sns\n",
    "df_heatmap = data.corr().round(2)\n",
    "f, ax = plt.subplots(figsize=(15, 5))\n",
    "sns.heatmap(df_heatmap, annot=True, annot_kws={'size': 12}, linewidths=.5)"
   ]
  },
  {
   "cell_type": "markdown",
   "metadata": {
    "pycharm": {
     "name": "#%% md\n"
    }
   },
   "source": [
    "## Separate dataset into train and test"
   ]
  },
  {
   "cell_type": "code",
   "execution_count": 6,
   "metadata": {
    "pycharm": {
     "name": "#%%\n"
    }
   },
   "outputs": [
    {
     "data": {
      "text/plain": [
       "((3399, 15), (378, 15))"
      ]
     },
     "execution_count": 6,
     "metadata": {},
     "output_type": "execute_result"
    }
   ],
   "source": [
    "X_train, X_test, y_train, y_test = train_test_split(\n",
    "    data,\n",
    "    data['Schluss DAX'],\n",
    "    test_size=0.1,\n",
    "    # we are setting the seed here\n",
    "    random_state=0)\n",
    "\n",
    "X_train.shape, X_test.shape\n"
   ]
  },
  {
   "cell_type": "code",
   "execution_count": 7,
   "metadata": {
    "pycharm": {
     "name": "#%%\n"
    }
   },
   "outputs": [
    {
     "data": {
      "text/html": [
       "<div>\n",
       "<style scoped>\n",
       "    .dataframe tbody tr th:only-of-type {\n",
       "        vertical-align: middle;\n",
       "    }\n",
       "\n",
       "    .dataframe tbody tr th {\n",
       "        vertical-align: top;\n",
       "    }\n",
       "\n",
       "    .dataframe thead th {\n",
       "        text-align: right;\n",
       "    }\n",
       "</style>\n",
       "<table border=\"1\" class=\"dataframe\">\n",
       "  <thead>\n",
       "    <tr style=\"text-align: right;\">\n",
       "      <th></th>\n",
       "      <th>Schluss DAX</th>\n",
       "      <th>Schluss EURO STOXX 50</th>\n",
       "      <th>Schluss Dow Jones</th>\n",
       "      <th>Schluss SMI</th>\n",
       "      <th>Schluss MSCI World</th>\n",
       "      <th>Schluss FTSE</th>\n",
       "      <th>Schluss ATX</th>\n",
       "      <th>Schluss SDAX</th>\n",
       "      <th>Schluss Tec DAX</th>\n",
       "      <th>Schluss NASDAQ 100</th>\n",
       "      <th>Schluss Nikkei</th>\n",
       "      <th>Schluss Hang Seng</th>\n",
       "      <th>Schluss SHANGHAI STOCK EXCHANGE B SHARES</th>\n",
       "      <th>Schluss Emerging Markets</th>\n",
       "      <th>Schluss Bovespa</th>\n",
       "    </tr>\n",
       "  </thead>\n",
       "  <tbody>\n",
       "    <tr>\n",
       "      <th>1710</th>\n",
       "      <td>6346.19</td>\n",
       "      <td>2462.36</td>\n",
       "      <td>12231.11</td>\n",
       "      <td>5852.66</td>\n",
       "      <td>1254.203</td>\n",
       "      <td>5702.24</td>\n",
       "      <td>2065.30</td>\n",
       "      <td>4661.45</td>\n",
       "      <td>716.82</td>\n",
       "      <td>2401.290</td>\n",
       "      <td>9050.47</td>\n",
       "      <td>20019.24</td>\n",
       "      <td>253.584</td>\n",
       "      <td>1010.119</td>\n",
       "      <td>59333.53</td>\n",
       "    </tr>\n",
       "    <tr>\n",
       "      <th>326</th>\n",
       "      <td>3854.41</td>\n",
       "      <td>2734.37</td>\n",
       "      <td>9749.99</td>\n",
       "      <td>5309.70</td>\n",
       "      <td>1047.084</td>\n",
       "      <td>4564.50</td>\n",
       "      <td>2082.97</td>\n",
       "      <td>2874.10</td>\n",
       "      <td>491.41</td>\n",
       "      <td>1432.570</td>\n",
       "      <td>10659.15</td>\n",
       "      <td>12818.10</td>\n",
       "      <td>86.240</td>\n",
       "      <td>464.380</td>\n",
       "      <td>22602.60</td>\n",
       "    </tr>\n",
       "    <tr>\n",
       "      <th>3221</th>\n",
       "      <td>12490.74</td>\n",
       "      <td>3532.87</td>\n",
       "      <td>27349.19</td>\n",
       "      <td>9965.15</td>\n",
       "      <td>2209.587</td>\n",
       "      <td>7556.86</td>\n",
       "      <td>3017.63</td>\n",
       "      <td>11075.25</td>\n",
       "      <td>2912.46</td>\n",
       "      <td>7954.564</td>\n",
       "      <td>21620.88</td>\n",
       "      <td>28465.65</td>\n",
       "      <td>287.382</td>\n",
       "      <td>1055.486</td>\n",
       "      <td>103704.28</td>\n",
       "    </tr>\n",
       "    <tr>\n",
       "      <th>1364</th>\n",
       "      <td>5654.48</td>\n",
       "      <td>2793.29</td>\n",
       "      <td>10185.53</td>\n",
       "      <td>6496.33</td>\n",
       "      <td>1129.287</td>\n",
       "      <td>5247.41</td>\n",
       "      <td>2541.25</td>\n",
       "      <td>3668.68</td>\n",
       "      <td>812.90</td>\n",
       "      <td>1760.720</td>\n",
       "      <td>10205.02</td>\n",
       "      <td>20243.75</td>\n",
       "      <td>237.617</td>\n",
       "      <td>934.223</td>\n",
       "      <td>66664.96</td>\n",
       "    </tr>\n",
       "    <tr>\n",
       "      <th>3696</th>\n",
       "      <td>15380.79</td>\n",
       "      <td>4137.11</td>\n",
       "      <td>35227.03</td>\n",
       "      <td>12375.35</td>\n",
       "      <td>3117.306</td>\n",
       "      <td>7232.28</td>\n",
       "      <td>3745.00</td>\n",
       "      <td>16113.44</td>\n",
       "      <td>3752.95</td>\n",
       "      <td>15846.158</td>\n",
       "      <td>27927.37</td>\n",
       "      <td>23348.23</td>\n",
       "      <td>281.885</td>\n",
       "      <td>1213.958</td>\n",
       "      <td>107038.91</td>\n",
       "    </tr>\n",
       "  </tbody>\n",
       "</table>\n",
       "</div>"
      ],
      "text/plain": [
       "      Schluss DAX  Schluss EURO STOXX 50  Schluss Dow Jones  Schluss SMI  \\\n",
       "1710      6346.19                2462.36           12231.11      5852.66   \n",
       "326       3854.41                2734.37            9749.99      5309.70   \n",
       "3221     12490.74                3532.87           27349.19      9965.15   \n",
       "1364      5654.48                2793.29           10185.53      6496.33   \n",
       "3696     15380.79                4137.11           35227.03     12375.35   \n",
       "\n",
       "      Schluss MSCI World  Schluss FTSE  Schluss ATX  Schluss SDAX  \\\n",
       "1710            1254.203       5702.24      2065.30       4661.45   \n",
       "326             1047.084       4564.50      2082.97       2874.10   \n",
       "3221            2209.587       7556.86      3017.63      11075.25   \n",
       "1364            1129.287       5247.41      2541.25       3668.68   \n",
       "3696            3117.306       7232.28      3745.00      16113.44   \n",
       "\n",
       "      Schluss Tec DAX  Schluss NASDAQ 100  Schluss Nikkei  Schluss Hang Seng  \\\n",
       "1710           716.82            2401.290         9050.47           20019.24   \n",
       "326            491.41            1432.570        10659.15           12818.10   \n",
       "3221          2912.46            7954.564        21620.88           28465.65   \n",
       "1364           812.90            1760.720        10205.02           20243.75   \n",
       "3696          3752.95           15846.158        27927.37           23348.23   \n",
       "\n",
       "      Schluss SHANGHAI STOCK EXCHANGE B SHARES  Schluss Emerging Markets  \\\n",
       "1710                                   253.584                  1010.119   \n",
       "326                                     86.240                   464.380   \n",
       "3221                                   287.382                  1055.486   \n",
       "1364                                   237.617                   934.223   \n",
       "3696                                   281.885                  1213.958   \n",
       "\n",
       "      Schluss Bovespa  \n",
       "1710         59333.53  \n",
       "326          22602.60  \n",
       "3221        103704.28  \n",
       "1364         66664.96  \n",
       "3696        107038.91  "
      ]
     },
     "execution_count": 7,
     "metadata": {},
     "output_type": "execute_result"
    }
   ],
   "source": [
    "X_train.head()\n"
   ]
  },
  {
   "cell_type": "markdown",
   "metadata": {
    "pycharm": {
     "name": "#%% md\n"
    }
   },
   "source": [
    "## Selected features"
   ]
  },
  {
   "cell_type": "code",
   "execution_count": 8,
   "metadata": {
    "pycharm": {
     "name": "#%%\n"
    }
   },
   "outputs": [
    {
     "ename": "FileNotFoundError",
     "evalue": "[Errno 2] No such file or directory: 'selected_features.csv'",
     "output_type": "error",
     "traceback": [
      "\u001b[1;31m---------------------------------------------------------------------------\u001b[0m",
      "\u001b[1;31mFileNotFoundError\u001b[0m                         Traceback (most recent call last)",
      "\u001b[1;32m<ipython-input-8-b217176817b5>\u001b[0m in \u001b[0;36m<module>\u001b[1;34m\u001b[0m\n\u001b[0;32m      1\u001b[0m \u001b[1;31m# load selected features\u001b[0m\u001b[1;33m\u001b[0m\u001b[1;33m\u001b[0m\u001b[1;33m\u001b[0m\u001b[0m\n\u001b[1;32m----> 2\u001b[1;33m \u001b[0mfeatures\u001b[0m \u001b[1;33m=\u001b[0m \u001b[0mpd\u001b[0m\u001b[1;33m.\u001b[0m\u001b[0mread_csv\u001b[0m\u001b[1;33m(\u001b[0m\u001b[1;34m'selected_features.csv'\u001b[0m\u001b[1;33m)\u001b[0m\u001b[1;33m\u001b[0m\u001b[1;33m\u001b[0m\u001b[0m\n\u001b[0m\u001b[0;32m      3\u001b[0m \u001b[1;33m\u001b[0m\u001b[0m\n\u001b[0;32m      4\u001b[0m \u001b[1;31m# Added the extra feature, LotFrontage\u001b[0m\u001b[1;33m\u001b[0m\u001b[1;33m\u001b[0m\u001b[1;33m\u001b[0m\u001b[0m\n\u001b[0;32m      5\u001b[0m \u001b[0mfeatures\u001b[0m \u001b[1;33m=\u001b[0m \u001b[0mfeatures\u001b[0m\u001b[1;33m[\u001b[0m\u001b[1;34m'0'\u001b[0m\u001b[1;33m]\u001b[0m\u001b[1;33m.\u001b[0m\u001b[0mto_list\u001b[0m\u001b[1;33m(\u001b[0m\u001b[1;33m)\u001b[0m \u001b[1;33m+\u001b[0m \u001b[1;33m[\u001b[0m\u001b[1;34m'LotFrontage'\u001b[0m\u001b[1;33m]\u001b[0m\u001b[1;33m\u001b[0m\u001b[1;33m\u001b[0m\u001b[0m\n",
      "\u001b[1;32mC:\\MSc Wirtschaftsinformatik\\1.Semester\\lib\\site-packages\\pandas\\io\\parsers.py\u001b[0m in \u001b[0;36mread_csv\u001b[1;34m(filepath_or_buffer, sep, delimiter, header, names, index_col, usecols, squeeze, prefix, mangle_dupe_cols, dtype, engine, converters, true_values, false_values, skipinitialspace, skiprows, skipfooter, nrows, na_values, keep_default_na, na_filter, verbose, skip_blank_lines, parse_dates, infer_datetime_format, keep_date_col, date_parser, dayfirst, cache_dates, iterator, chunksize, compression, thousands, decimal, lineterminator, quotechar, quoting, doublequote, escapechar, comment, encoding, dialect, error_bad_lines, warn_bad_lines, delim_whitespace, low_memory, memory_map, float_precision, storage_options)\u001b[0m\n\u001b[0;32m    608\u001b[0m     \u001b[0mkwds\u001b[0m\u001b[1;33m.\u001b[0m\u001b[0mupdate\u001b[0m\u001b[1;33m(\u001b[0m\u001b[0mkwds_defaults\u001b[0m\u001b[1;33m)\u001b[0m\u001b[1;33m\u001b[0m\u001b[1;33m\u001b[0m\u001b[0m\n\u001b[0;32m    609\u001b[0m \u001b[1;33m\u001b[0m\u001b[0m\n\u001b[1;32m--> 610\u001b[1;33m     \u001b[1;32mreturn\u001b[0m \u001b[0m_read\u001b[0m\u001b[1;33m(\u001b[0m\u001b[0mfilepath_or_buffer\u001b[0m\u001b[1;33m,\u001b[0m \u001b[0mkwds\u001b[0m\u001b[1;33m)\u001b[0m\u001b[1;33m\u001b[0m\u001b[1;33m\u001b[0m\u001b[0m\n\u001b[0m\u001b[0;32m    611\u001b[0m \u001b[1;33m\u001b[0m\u001b[0m\n\u001b[0;32m    612\u001b[0m \u001b[1;33m\u001b[0m\u001b[0m\n",
      "\u001b[1;32mC:\\MSc Wirtschaftsinformatik\\1.Semester\\lib\\site-packages\\pandas\\io\\parsers.py\u001b[0m in \u001b[0;36m_read\u001b[1;34m(filepath_or_buffer, kwds)\u001b[0m\n\u001b[0;32m    460\u001b[0m \u001b[1;33m\u001b[0m\u001b[0m\n\u001b[0;32m    461\u001b[0m     \u001b[1;31m# Create the parser.\u001b[0m\u001b[1;33m\u001b[0m\u001b[1;33m\u001b[0m\u001b[1;33m\u001b[0m\u001b[0m\n\u001b[1;32m--> 462\u001b[1;33m     \u001b[0mparser\u001b[0m \u001b[1;33m=\u001b[0m \u001b[0mTextFileReader\u001b[0m\u001b[1;33m(\u001b[0m\u001b[0mfilepath_or_buffer\u001b[0m\u001b[1;33m,\u001b[0m \u001b[1;33m**\u001b[0m\u001b[0mkwds\u001b[0m\u001b[1;33m)\u001b[0m\u001b[1;33m\u001b[0m\u001b[1;33m\u001b[0m\u001b[0m\n\u001b[0m\u001b[0;32m    463\u001b[0m \u001b[1;33m\u001b[0m\u001b[0m\n\u001b[0;32m    464\u001b[0m     \u001b[1;32mif\u001b[0m \u001b[0mchunksize\u001b[0m \u001b[1;32mor\u001b[0m \u001b[0miterator\u001b[0m\u001b[1;33m:\u001b[0m\u001b[1;33m\u001b[0m\u001b[1;33m\u001b[0m\u001b[0m\n",
      "\u001b[1;32mC:\\MSc Wirtschaftsinformatik\\1.Semester\\lib\\site-packages\\pandas\\io\\parsers.py\u001b[0m in \u001b[0;36m__init__\u001b[1;34m(self, f, engine, **kwds)\u001b[0m\n\u001b[0;32m    817\u001b[0m             \u001b[0mself\u001b[0m\u001b[1;33m.\u001b[0m\u001b[0moptions\u001b[0m\u001b[1;33m[\u001b[0m\u001b[1;34m\"has_index_names\"\u001b[0m\u001b[1;33m]\u001b[0m \u001b[1;33m=\u001b[0m \u001b[0mkwds\u001b[0m\u001b[1;33m[\u001b[0m\u001b[1;34m\"has_index_names\"\u001b[0m\u001b[1;33m]\u001b[0m\u001b[1;33m\u001b[0m\u001b[1;33m\u001b[0m\u001b[0m\n\u001b[0;32m    818\u001b[0m \u001b[1;33m\u001b[0m\u001b[0m\n\u001b[1;32m--> 819\u001b[1;33m         \u001b[0mself\u001b[0m\u001b[1;33m.\u001b[0m\u001b[0m_engine\u001b[0m \u001b[1;33m=\u001b[0m \u001b[0mself\u001b[0m\u001b[1;33m.\u001b[0m\u001b[0m_make_engine\u001b[0m\u001b[1;33m(\u001b[0m\u001b[0mself\u001b[0m\u001b[1;33m.\u001b[0m\u001b[0mengine\u001b[0m\u001b[1;33m)\u001b[0m\u001b[1;33m\u001b[0m\u001b[1;33m\u001b[0m\u001b[0m\n\u001b[0m\u001b[0;32m    820\u001b[0m \u001b[1;33m\u001b[0m\u001b[0m\n\u001b[0;32m    821\u001b[0m     \u001b[1;32mdef\u001b[0m \u001b[0mclose\u001b[0m\u001b[1;33m(\u001b[0m\u001b[0mself\u001b[0m\u001b[1;33m)\u001b[0m\u001b[1;33m:\u001b[0m\u001b[1;33m\u001b[0m\u001b[1;33m\u001b[0m\u001b[0m\n",
      "\u001b[1;32mC:\\MSc Wirtschaftsinformatik\\1.Semester\\lib\\site-packages\\pandas\\io\\parsers.py\u001b[0m in \u001b[0;36m_make_engine\u001b[1;34m(self, engine)\u001b[0m\n\u001b[0;32m   1048\u001b[0m             )\n\u001b[0;32m   1049\u001b[0m         \u001b[1;31m# error: Too many arguments for \"ParserBase\"\u001b[0m\u001b[1;33m\u001b[0m\u001b[1;33m\u001b[0m\u001b[1;33m\u001b[0m\u001b[0m\n\u001b[1;32m-> 1050\u001b[1;33m         \u001b[1;32mreturn\u001b[0m \u001b[0mmapping\u001b[0m\u001b[1;33m[\u001b[0m\u001b[0mengine\u001b[0m\u001b[1;33m]\u001b[0m\u001b[1;33m(\u001b[0m\u001b[0mself\u001b[0m\u001b[1;33m.\u001b[0m\u001b[0mf\u001b[0m\u001b[1;33m,\u001b[0m \u001b[1;33m**\u001b[0m\u001b[0mself\u001b[0m\u001b[1;33m.\u001b[0m\u001b[0moptions\u001b[0m\u001b[1;33m)\u001b[0m  \u001b[1;31m# type: ignore[call-arg]\u001b[0m\u001b[1;33m\u001b[0m\u001b[1;33m\u001b[0m\u001b[0m\n\u001b[0m\u001b[0;32m   1051\u001b[0m \u001b[1;33m\u001b[0m\u001b[0m\n\u001b[0;32m   1052\u001b[0m     \u001b[1;32mdef\u001b[0m \u001b[0m_failover_to_python\u001b[0m\u001b[1;33m(\u001b[0m\u001b[0mself\u001b[0m\u001b[1;33m)\u001b[0m\u001b[1;33m:\u001b[0m\u001b[1;33m\u001b[0m\u001b[1;33m\u001b[0m\u001b[0m\n",
      "\u001b[1;32mC:\\MSc Wirtschaftsinformatik\\1.Semester\\lib\\site-packages\\pandas\\io\\parsers.py\u001b[0m in \u001b[0;36m__init__\u001b[1;34m(self, src, **kwds)\u001b[0m\n\u001b[0;32m   1865\u001b[0m \u001b[1;33m\u001b[0m\u001b[0m\n\u001b[0;32m   1866\u001b[0m         \u001b[1;31m# open handles\u001b[0m\u001b[1;33m\u001b[0m\u001b[1;33m\u001b[0m\u001b[1;33m\u001b[0m\u001b[0m\n\u001b[1;32m-> 1867\u001b[1;33m         \u001b[0mself\u001b[0m\u001b[1;33m.\u001b[0m\u001b[0m_open_handles\u001b[0m\u001b[1;33m(\u001b[0m\u001b[0msrc\u001b[0m\u001b[1;33m,\u001b[0m \u001b[0mkwds\u001b[0m\u001b[1;33m)\u001b[0m\u001b[1;33m\u001b[0m\u001b[1;33m\u001b[0m\u001b[0m\n\u001b[0m\u001b[0;32m   1868\u001b[0m         \u001b[1;32massert\u001b[0m \u001b[0mself\u001b[0m\u001b[1;33m.\u001b[0m\u001b[0mhandles\u001b[0m \u001b[1;32mis\u001b[0m \u001b[1;32mnot\u001b[0m \u001b[1;32mNone\u001b[0m\u001b[1;33m\u001b[0m\u001b[1;33m\u001b[0m\u001b[0m\n\u001b[0;32m   1869\u001b[0m         \u001b[1;32mfor\u001b[0m \u001b[0mkey\u001b[0m \u001b[1;32min\u001b[0m \u001b[1;33m(\u001b[0m\u001b[1;34m\"storage_options\"\u001b[0m\u001b[1;33m,\u001b[0m \u001b[1;34m\"encoding\"\u001b[0m\u001b[1;33m,\u001b[0m \u001b[1;34m\"memory_map\"\u001b[0m\u001b[1;33m,\u001b[0m \u001b[1;34m\"compression\"\u001b[0m\u001b[1;33m)\u001b[0m\u001b[1;33m:\u001b[0m\u001b[1;33m\u001b[0m\u001b[1;33m\u001b[0m\u001b[0m\n",
      "\u001b[1;32mC:\\MSc Wirtschaftsinformatik\\1.Semester\\lib\\site-packages\\pandas\\io\\parsers.py\u001b[0m in \u001b[0;36m_open_handles\u001b[1;34m(self, src, kwds)\u001b[0m\n\u001b[0;32m   1360\u001b[0m         \u001b[0mLet\u001b[0m \u001b[0mthe\u001b[0m \u001b[0mreaders\u001b[0m \u001b[0mopen\u001b[0m \u001b[0mIOHanldes\u001b[0m \u001b[0mafter\u001b[0m \u001b[0mthey\u001b[0m \u001b[0mare\u001b[0m \u001b[0mdone\u001b[0m \u001b[1;32mwith\u001b[0m \u001b[0mtheir\u001b[0m \u001b[0mpotential\u001b[0m \u001b[0mraises\u001b[0m\u001b[1;33m.\u001b[0m\u001b[1;33m\u001b[0m\u001b[1;33m\u001b[0m\u001b[0m\n\u001b[0;32m   1361\u001b[0m         \"\"\"\n\u001b[1;32m-> 1362\u001b[1;33m         self.handles = get_handle(\n\u001b[0m\u001b[0;32m   1363\u001b[0m             \u001b[0msrc\u001b[0m\u001b[1;33m,\u001b[0m\u001b[1;33m\u001b[0m\u001b[1;33m\u001b[0m\u001b[0m\n\u001b[0;32m   1364\u001b[0m             \u001b[1;34m\"r\"\u001b[0m\u001b[1;33m,\u001b[0m\u001b[1;33m\u001b[0m\u001b[1;33m\u001b[0m\u001b[0m\n",
      "\u001b[1;32mC:\\MSc Wirtschaftsinformatik\\1.Semester\\lib\\site-packages\\pandas\\io\\common.py\u001b[0m in \u001b[0;36mget_handle\u001b[1;34m(path_or_buf, mode, encoding, compression, memory_map, is_text, errors, storage_options)\u001b[0m\n\u001b[0;32m    640\u001b[0m                 \u001b[0merrors\u001b[0m \u001b[1;33m=\u001b[0m \u001b[1;34m\"replace\"\u001b[0m\u001b[1;33m\u001b[0m\u001b[1;33m\u001b[0m\u001b[0m\n\u001b[0;32m    641\u001b[0m             \u001b[1;31m# Encoding\u001b[0m\u001b[1;33m\u001b[0m\u001b[1;33m\u001b[0m\u001b[1;33m\u001b[0m\u001b[0m\n\u001b[1;32m--> 642\u001b[1;33m             handle = open(\n\u001b[0m\u001b[0;32m    643\u001b[0m                 \u001b[0mhandle\u001b[0m\u001b[1;33m,\u001b[0m\u001b[1;33m\u001b[0m\u001b[1;33m\u001b[0m\u001b[0m\n\u001b[0;32m    644\u001b[0m                 \u001b[0mioargs\u001b[0m\u001b[1;33m.\u001b[0m\u001b[0mmode\u001b[0m\u001b[1;33m,\u001b[0m\u001b[1;33m\u001b[0m\u001b[1;33m\u001b[0m\u001b[0m\n",
      "\u001b[1;31mFileNotFoundError\u001b[0m: [Errno 2] No such file or directory: 'selected_features.csv'"
     ]
    }
   ],
   "source": [
    "# load selected features\n",
    "features = pd.read_csv('selected_features.csv')\n",
    "\n",
    "# Added the extra feature, LotFrontage\n",
    "features = features['0'].to_list() + ['LotFrontage']\n",
    "\n",
    "print('Number of features: ', len(features))\n"
   ]
  },
  {
   "cell_type": "markdown",
   "metadata": {
    "pycharm": {
     "name": "#%% md\n"
    }
   },
   "source": [
    "## Engineer missing values\n",
    "\n",
    "### Categorical variables\n",
    "\n",
    "For categorical variables, we will replace missing values with the string \"missing\"."
   ]
  },
  {
   "cell_type": "code",
   "execution_count": 9,
   "metadata": {
    "pycharm": {
     "name": "#%%\n"
    }
   },
   "outputs": [
    {
     "ename": "NameError",
     "evalue": "name 'features' is not defined",
     "output_type": "error",
     "traceback": [
      "\u001b[1;31m---------------------------------------------------------------------------\u001b[0m",
      "\u001b[1;31mNameError\u001b[0m                                 Traceback (most recent call last)",
      "\u001b[1;32m<ipython-input-9-c9406c9600b6>\u001b[0m in \u001b[0;36m<module>\u001b[1;34m\u001b[0m\n\u001b[0;32m      2\u001b[0m \u001b[1;33m\u001b[0m\u001b[0m\n\u001b[0;32m      3\u001b[0m vars_with_na = [\n\u001b[1;32m----> 4\u001b[1;33m     \u001b[0mvar\u001b[0m \u001b[1;32mfor\u001b[0m \u001b[0mvar\u001b[0m \u001b[1;32min\u001b[0m \u001b[0mfeatures\u001b[0m\u001b[1;33m\u001b[0m\u001b[1;33m\u001b[0m\u001b[0m\n\u001b[0m\u001b[0;32m      5\u001b[0m     \u001b[1;32mif\u001b[0m \u001b[0mX_train\u001b[0m\u001b[1;33m[\u001b[0m\u001b[0mvar\u001b[0m\u001b[1;33m]\u001b[0m\u001b[1;33m.\u001b[0m\u001b[0misnull\u001b[0m\u001b[1;33m(\u001b[0m\u001b[1;33m)\u001b[0m\u001b[1;33m.\u001b[0m\u001b[0msum\u001b[0m\u001b[1;33m(\u001b[0m\u001b[1;33m)\u001b[0m \u001b[1;33m>\u001b[0m \u001b[1;36m0\u001b[0m \u001b[1;32mand\u001b[0m \u001b[0mX_train\u001b[0m\u001b[1;33m[\u001b[0m\u001b[0mvar\u001b[0m\u001b[1;33m]\u001b[0m\u001b[1;33m.\u001b[0m\u001b[0mdtypes\u001b[0m \u001b[1;33m==\u001b[0m \u001b[1;34m'O'\u001b[0m\u001b[1;33m\u001b[0m\u001b[1;33m\u001b[0m\u001b[0m\n\u001b[0;32m      6\u001b[0m ]\n",
      "\u001b[1;31mNameError\u001b[0m: name 'features' is not defined"
     ]
    }
   ],
   "source": [
    "# make a list of the categorical variables that contain missing values\n",
    "\n",
    "vars_with_na = [\n",
    "    var for var in features\n",
    "    if X_train[var].isnull().sum() > 0 and X_train[var].dtypes == 'O'\n",
    "]\n",
    "\n",
    "# display categorical variables that we will engineer:\n",
    "vars_with_na\n"
   ]
  },
  {
   "cell_type": "markdown",
   "metadata": {
    "pycharm": {
     "name": "#%% md\n"
    }
   },
   "source": [
    "Note that we have much less categorical variables with missing values than in our original dataset. But we still use categorical variables with NA for the final model, so we need to include this piece of feature engineering logic in the deployment pipeline. "
   ]
  },
  {
   "cell_type": "code",
   "execution_count": 10,
   "metadata": {
    "pycharm": {
     "name": "#%%\n"
    }
   },
   "outputs": [
    {
     "ename": "NameError",
     "evalue": "name 'vars_with_na' is not defined",
     "output_type": "error",
     "traceback": [
      "\u001b[1;31m---------------------------------------------------------------------------\u001b[0m",
      "\u001b[1;31mNameError\u001b[0m                                 Traceback (most recent call last)",
      "\u001b[1;32m<ipython-input-10-055a486693c9>\u001b[0m in \u001b[0;36m<module>\u001b[1;34m\u001b[0m\n\u001b[0;32m      2\u001b[0m \u001b[1;31m# (step 2)\u001b[0m\u001b[1;33m\u001b[0m\u001b[1;33m\u001b[0m\u001b[1;33m\u001b[0m\u001b[0m\n\u001b[0;32m      3\u001b[0m \u001b[1;33m\u001b[0m\u001b[0m\n\u001b[1;32m----> 4\u001b[1;33m \u001b[0mX_train\u001b[0m\u001b[1;33m[\u001b[0m\u001b[0mvars_with_na\u001b[0m\u001b[1;33m]\u001b[0m \u001b[1;33m=\u001b[0m \u001b[0mX_train\u001b[0m\u001b[1;33m[\u001b[0m\u001b[0mvars_with_na\u001b[0m\u001b[1;33m]\u001b[0m\u001b[1;33m.\u001b[0m\u001b[0mfillna\u001b[0m\u001b[1;33m(\u001b[0m\u001b[1;34m'Missing'\u001b[0m\u001b[1;33m)\u001b[0m\u001b[1;33m\u001b[0m\u001b[1;33m\u001b[0m\u001b[0m\n\u001b[0m\u001b[0;32m      5\u001b[0m \u001b[0mX_test\u001b[0m\u001b[1;33m[\u001b[0m\u001b[0mvars_with_na\u001b[0m\u001b[1;33m]\u001b[0m \u001b[1;33m=\u001b[0m \u001b[0mX_test\u001b[0m\u001b[1;33m[\u001b[0m\u001b[0mvars_with_na\u001b[0m\u001b[1;33m]\u001b[0m\u001b[1;33m.\u001b[0m\u001b[0mfillna\u001b[0m\u001b[1;33m(\u001b[0m\u001b[1;34m'Missing'\u001b[0m\u001b[1;33m)\u001b[0m\u001b[1;33m\u001b[0m\u001b[1;33m\u001b[0m\u001b[0m\n\u001b[0;32m      6\u001b[0m \u001b[1;33m\u001b[0m\u001b[0m\n",
      "\u001b[1;31mNameError\u001b[0m: name 'vars_with_na' is not defined"
     ]
    }
   ],
   "source": [
    "# I bring forward the code used in the feature engineering notebook:\n",
    "# (step 2)\n",
    "\n",
    "X_train[vars_with_na] = X_train[vars_with_na].fillna('Missing')\n",
    "X_test[vars_with_na] = X_test[vars_with_na].fillna('Missing')\n",
    "\n",
    "# check that we have no missing information in the engineered variables\n",
    "X_train[vars_with_na].isnull().sum()\n"
   ]
  },
  {
   "cell_type": "markdown",
   "metadata": {
    "pycharm": {
     "name": "#%% md\n"
    }
   },
   "source": [
    "### Numerical variables\n",
    "\n",
    "To engineer missing values in numerical variables, we will:\n",
    "\n",
    "- add a binary missing value indicator variable\n",
    "- and then replace the missing values in the original variable with the mode\n"
   ]
  },
  {
   "cell_type": "code",
   "execution_count": 11,
   "metadata": {
    "pycharm": {
     "name": "#%%\n"
    }
   },
   "outputs": [
    {
     "ename": "NameError",
     "evalue": "name 'features' is not defined",
     "output_type": "error",
     "traceback": [
      "\u001b[1;31m---------------------------------------------------------------------------\u001b[0m",
      "\u001b[1;31mNameError\u001b[0m                                 Traceback (most recent call last)",
      "\u001b[1;32m<ipython-input-11-c041a2cc5062>\u001b[0m in \u001b[0;36m<module>\u001b[1;34m\u001b[0m\n\u001b[0;32m      2\u001b[0m \u001b[1;33m\u001b[0m\u001b[0m\n\u001b[0;32m      3\u001b[0m vars_with_na = [\n\u001b[1;32m----> 4\u001b[1;33m     \u001b[0mvar\u001b[0m \u001b[1;32mfor\u001b[0m \u001b[0mvar\u001b[0m \u001b[1;32min\u001b[0m \u001b[0mfeatures\u001b[0m\u001b[1;33m\u001b[0m\u001b[1;33m\u001b[0m\u001b[0m\n\u001b[0m\u001b[0;32m      5\u001b[0m     \u001b[1;32mif\u001b[0m \u001b[0mX_train\u001b[0m\u001b[1;33m[\u001b[0m\u001b[0mvar\u001b[0m\u001b[1;33m]\u001b[0m\u001b[1;33m.\u001b[0m\u001b[0misnull\u001b[0m\u001b[1;33m(\u001b[0m\u001b[1;33m)\u001b[0m\u001b[1;33m.\u001b[0m\u001b[0msum\u001b[0m\u001b[1;33m(\u001b[0m\u001b[1;33m)\u001b[0m \u001b[1;33m>\u001b[0m \u001b[1;36m0\u001b[0m \u001b[1;32mand\u001b[0m \u001b[0mX_train\u001b[0m\u001b[1;33m[\u001b[0m\u001b[0mvar\u001b[0m\u001b[1;33m]\u001b[0m\u001b[1;33m.\u001b[0m\u001b[0mdtypes\u001b[0m \u001b[1;33m!=\u001b[0m \u001b[1;34m'O'\u001b[0m\u001b[1;33m\u001b[0m\u001b[1;33m\u001b[0m\u001b[0m\n\u001b[0;32m      6\u001b[0m ]\n",
      "\u001b[1;31mNameError\u001b[0m: name 'features' is not defined"
     ]
    }
   ],
   "source": [
    "# make a list of the numerical variables that contain missing values:\n",
    "\n",
    "vars_with_na = [\n",
    "    var for var in features\n",
    "    if X_train[var].isnull().sum() > 0 and X_train[var].dtypes != 'O'\n",
    "]\n",
    "\n",
    "# display numerical variables with NA\n",
    "vars_with_na\n"
   ]
  },
  {
   "cell_type": "code",
   "execution_count": 12,
   "metadata": {
    "pycharm": {
     "name": "#%%\n"
    }
   },
   "outputs": [
    {
     "ename": "KeyError",
     "evalue": "'LotFrontage'",
     "output_type": "error",
     "traceback": [
      "\u001b[1;31m---------------------------------------------------------------------------\u001b[0m",
      "\u001b[1;31mKeyError\u001b[0m                                  Traceback (most recent call last)",
      "\u001b[1;32mC:\\MSc Wirtschaftsinformatik\\1.Semester\\lib\\site-packages\\pandas\\core\\indexes\\base.py\u001b[0m in \u001b[0;36mget_loc\u001b[1;34m(self, key, method, tolerance)\u001b[0m\n\u001b[0;32m   3079\u001b[0m             \u001b[1;32mtry\u001b[0m\u001b[1;33m:\u001b[0m\u001b[1;33m\u001b[0m\u001b[1;33m\u001b[0m\u001b[0m\n\u001b[1;32m-> 3080\u001b[1;33m                 \u001b[1;32mreturn\u001b[0m \u001b[0mself\u001b[0m\u001b[1;33m.\u001b[0m\u001b[0m_engine\u001b[0m\u001b[1;33m.\u001b[0m\u001b[0mget_loc\u001b[0m\u001b[1;33m(\u001b[0m\u001b[0mcasted_key\u001b[0m\u001b[1;33m)\u001b[0m\u001b[1;33m\u001b[0m\u001b[1;33m\u001b[0m\u001b[0m\n\u001b[0m\u001b[0;32m   3081\u001b[0m             \u001b[1;32mexcept\u001b[0m \u001b[0mKeyError\u001b[0m \u001b[1;32mas\u001b[0m \u001b[0merr\u001b[0m\u001b[1;33m:\u001b[0m\u001b[1;33m\u001b[0m\u001b[1;33m\u001b[0m\u001b[0m\n",
      "\u001b[1;32mpandas\\_libs\\index.pyx\u001b[0m in \u001b[0;36mpandas._libs.index.IndexEngine.get_loc\u001b[1;34m()\u001b[0m\n",
      "\u001b[1;32mpandas\\_libs\\index.pyx\u001b[0m in \u001b[0;36mpandas._libs.index.IndexEngine.get_loc\u001b[1;34m()\u001b[0m\n",
      "\u001b[1;32mpandas\\_libs\\hashtable_class_helper.pxi\u001b[0m in \u001b[0;36mpandas._libs.hashtable.PyObjectHashTable.get_item\u001b[1;34m()\u001b[0m\n",
      "\u001b[1;32mpandas\\_libs\\hashtable_class_helper.pxi\u001b[0m in \u001b[0;36mpandas._libs.hashtable.PyObjectHashTable.get_item\u001b[1;34m()\u001b[0m\n",
      "\u001b[1;31mKeyError\u001b[0m: 'LotFrontage'",
      "\nThe above exception was the direct cause of the following exception:\n",
      "\u001b[1;31mKeyError\u001b[0m                                  Traceback (most recent call last)",
      "\u001b[1;32m<ipython-input-12-b26cc0facbff>\u001b[0m in \u001b[0;36m<module>\u001b[1;34m\u001b[0m\n\u001b[0;32m      5\u001b[0m \u001b[1;33m\u001b[0m\u001b[0m\n\u001b[0;32m      6\u001b[0m \u001b[1;31m# calculate the mode\u001b[0m\u001b[1;33m\u001b[0m\u001b[1;33m\u001b[0m\u001b[1;33m\u001b[0m\u001b[0m\n\u001b[1;32m----> 7\u001b[1;33m \u001b[0mmode_val\u001b[0m \u001b[1;33m=\u001b[0m \u001b[0mX_train\u001b[0m\u001b[1;33m[\u001b[0m\u001b[0mvar\u001b[0m\u001b[1;33m]\u001b[0m\u001b[1;33m.\u001b[0m\u001b[0mmode\u001b[0m\u001b[1;33m(\u001b[0m\u001b[1;33m)\u001b[0m\u001b[1;33m[\u001b[0m\u001b[1;36m0\u001b[0m\u001b[1;33m]\u001b[0m\u001b[1;33m\u001b[0m\u001b[1;33m\u001b[0m\u001b[0m\n\u001b[0m\u001b[0;32m      8\u001b[0m \u001b[0mprint\u001b[0m\u001b[1;33m(\u001b[0m\u001b[1;34m'mode of LotFrontage: {}'\u001b[0m\u001b[1;33m.\u001b[0m\u001b[0mformat\u001b[0m\u001b[1;33m(\u001b[0m\u001b[0mmode_val\u001b[0m\u001b[1;33m)\u001b[0m\u001b[1;33m)\u001b[0m\u001b[1;33m\u001b[0m\u001b[1;33m\u001b[0m\u001b[0m\n\u001b[0;32m      9\u001b[0m \u001b[1;33m\u001b[0m\u001b[0m\n",
      "\u001b[1;32mC:\\MSc Wirtschaftsinformatik\\1.Semester\\lib\\site-packages\\pandas\\core\\frame.py\u001b[0m in \u001b[0;36m__getitem__\u001b[1;34m(self, key)\u001b[0m\n\u001b[0;32m   3022\u001b[0m             \u001b[1;32mif\u001b[0m \u001b[0mself\u001b[0m\u001b[1;33m.\u001b[0m\u001b[0mcolumns\u001b[0m\u001b[1;33m.\u001b[0m\u001b[0mnlevels\u001b[0m \u001b[1;33m>\u001b[0m \u001b[1;36m1\u001b[0m\u001b[1;33m:\u001b[0m\u001b[1;33m\u001b[0m\u001b[1;33m\u001b[0m\u001b[0m\n\u001b[0;32m   3023\u001b[0m                 \u001b[1;32mreturn\u001b[0m \u001b[0mself\u001b[0m\u001b[1;33m.\u001b[0m\u001b[0m_getitem_multilevel\u001b[0m\u001b[1;33m(\u001b[0m\u001b[0mkey\u001b[0m\u001b[1;33m)\u001b[0m\u001b[1;33m\u001b[0m\u001b[1;33m\u001b[0m\u001b[0m\n\u001b[1;32m-> 3024\u001b[1;33m             \u001b[0mindexer\u001b[0m \u001b[1;33m=\u001b[0m \u001b[0mself\u001b[0m\u001b[1;33m.\u001b[0m\u001b[0mcolumns\u001b[0m\u001b[1;33m.\u001b[0m\u001b[0mget_loc\u001b[0m\u001b[1;33m(\u001b[0m\u001b[0mkey\u001b[0m\u001b[1;33m)\u001b[0m\u001b[1;33m\u001b[0m\u001b[1;33m\u001b[0m\u001b[0m\n\u001b[0m\u001b[0;32m   3025\u001b[0m             \u001b[1;32mif\u001b[0m \u001b[0mis_integer\u001b[0m\u001b[1;33m(\u001b[0m\u001b[0mindexer\u001b[0m\u001b[1;33m)\u001b[0m\u001b[1;33m:\u001b[0m\u001b[1;33m\u001b[0m\u001b[1;33m\u001b[0m\u001b[0m\n\u001b[0;32m   3026\u001b[0m                 \u001b[0mindexer\u001b[0m \u001b[1;33m=\u001b[0m \u001b[1;33m[\u001b[0m\u001b[0mindexer\u001b[0m\u001b[1;33m]\u001b[0m\u001b[1;33m\u001b[0m\u001b[1;33m\u001b[0m\u001b[0m\n",
      "\u001b[1;32mC:\\MSc Wirtschaftsinformatik\\1.Semester\\lib\\site-packages\\pandas\\core\\indexes\\base.py\u001b[0m in \u001b[0;36mget_loc\u001b[1;34m(self, key, method, tolerance)\u001b[0m\n\u001b[0;32m   3080\u001b[0m                 \u001b[1;32mreturn\u001b[0m \u001b[0mself\u001b[0m\u001b[1;33m.\u001b[0m\u001b[0m_engine\u001b[0m\u001b[1;33m.\u001b[0m\u001b[0mget_loc\u001b[0m\u001b[1;33m(\u001b[0m\u001b[0mcasted_key\u001b[0m\u001b[1;33m)\u001b[0m\u001b[1;33m\u001b[0m\u001b[1;33m\u001b[0m\u001b[0m\n\u001b[0;32m   3081\u001b[0m             \u001b[1;32mexcept\u001b[0m \u001b[0mKeyError\u001b[0m \u001b[1;32mas\u001b[0m \u001b[0merr\u001b[0m\u001b[1;33m:\u001b[0m\u001b[1;33m\u001b[0m\u001b[1;33m\u001b[0m\u001b[0m\n\u001b[1;32m-> 3082\u001b[1;33m                 \u001b[1;32mraise\u001b[0m \u001b[0mKeyError\u001b[0m\u001b[1;33m(\u001b[0m\u001b[0mkey\u001b[0m\u001b[1;33m)\u001b[0m \u001b[1;32mfrom\u001b[0m \u001b[0merr\u001b[0m\u001b[1;33m\u001b[0m\u001b[1;33m\u001b[0m\u001b[0m\n\u001b[0m\u001b[0;32m   3083\u001b[0m \u001b[1;33m\u001b[0m\u001b[0m\n\u001b[0;32m   3084\u001b[0m         \u001b[1;32mif\u001b[0m \u001b[0mtolerance\u001b[0m \u001b[1;32mis\u001b[0m \u001b[1;32mnot\u001b[0m \u001b[1;32mNone\u001b[0m\u001b[1;33m:\u001b[0m\u001b[1;33m\u001b[0m\u001b[1;33m\u001b[0m\u001b[0m\n",
      "\u001b[1;31mKeyError\u001b[0m: 'LotFrontage'"
     ]
    }
   ],
   "source": [
    "# I bring forward the code used in the feature engineering notebook\n",
    "# with minor adjustments (step 2):\n",
    "\n",
    "var = 'LotFrontage'\n",
    "\n",
    "# calculate the mode\n",
    "mode_val = X_train[var].mode()[0]\n",
    "print('mode of LotFrontage: {}'.format(mode_val))\n",
    "\n",
    "# replace missing values by the mode\n",
    "# (in train and test)\n",
    "X_train[var] = X_train[var].fillna(mode_val)\n",
    "X_test[var] = X_test[var].fillna(mode_val)\n"
   ]
  },
  {
   "cell_type": "markdown",
   "metadata": {
    "pycharm": {
     "name": "#%% md\n"
    }
   },
   "source": [
    "## Temporal variables\n",
    "\n",
    "One of our temporal variables was selected to be used in the final model: 'YearRemodAdd'\n",
    "\n",
    "So we need to deploy the bit of code that creates it."
   ]
  },
  {
   "cell_type": "code",
   "execution_count": 13,
   "metadata": {
    "pycharm": {
     "name": "#%%\n"
    }
   },
   "outputs": [],
   "source": [
    "# create the temporal var \"elapsed years\"\n",
    "\n",
    "# I bring this bit of code forward from the notebook on feature\n",
    "# engineering (step 2)\n",
    "\n",
    "def elapsed_years(df, var):\n",
    "    # capture difference between year variable\n",
    "    # and year in which the house was sold\n",
    "    \n",
    "    df[var] = df['YrSold'] - df[var]\n",
    "    \n",
    "    return df\n"
   ]
  },
  {
   "cell_type": "code",
   "execution_count": 14,
   "metadata": {
    "pycharm": {
     "name": "#%%\n"
    }
   },
   "outputs": [
    {
     "ename": "KeyError",
     "evalue": "'YrSold'",
     "output_type": "error",
     "traceback": [
      "\u001b[1;31m---------------------------------------------------------------------------\u001b[0m",
      "\u001b[1;31mKeyError\u001b[0m                                  Traceback (most recent call last)",
      "\u001b[1;32mC:\\MSc Wirtschaftsinformatik\\1.Semester\\lib\\site-packages\\pandas\\core\\indexes\\base.py\u001b[0m in \u001b[0;36mget_loc\u001b[1;34m(self, key, method, tolerance)\u001b[0m\n\u001b[0;32m   3079\u001b[0m             \u001b[1;32mtry\u001b[0m\u001b[1;33m:\u001b[0m\u001b[1;33m\u001b[0m\u001b[1;33m\u001b[0m\u001b[0m\n\u001b[1;32m-> 3080\u001b[1;33m                 \u001b[1;32mreturn\u001b[0m \u001b[0mself\u001b[0m\u001b[1;33m.\u001b[0m\u001b[0m_engine\u001b[0m\u001b[1;33m.\u001b[0m\u001b[0mget_loc\u001b[0m\u001b[1;33m(\u001b[0m\u001b[0mcasted_key\u001b[0m\u001b[1;33m)\u001b[0m\u001b[1;33m\u001b[0m\u001b[1;33m\u001b[0m\u001b[0m\n\u001b[0m\u001b[0;32m   3081\u001b[0m             \u001b[1;32mexcept\u001b[0m \u001b[0mKeyError\u001b[0m \u001b[1;32mas\u001b[0m \u001b[0merr\u001b[0m\u001b[1;33m:\u001b[0m\u001b[1;33m\u001b[0m\u001b[1;33m\u001b[0m\u001b[0m\n",
      "\u001b[1;32mpandas\\_libs\\index.pyx\u001b[0m in \u001b[0;36mpandas._libs.index.IndexEngine.get_loc\u001b[1;34m()\u001b[0m\n",
      "\u001b[1;32mpandas\\_libs\\index.pyx\u001b[0m in \u001b[0;36mpandas._libs.index.IndexEngine.get_loc\u001b[1;34m()\u001b[0m\n",
      "\u001b[1;32mpandas\\_libs\\hashtable_class_helper.pxi\u001b[0m in \u001b[0;36mpandas._libs.hashtable.PyObjectHashTable.get_item\u001b[1;34m()\u001b[0m\n",
      "\u001b[1;32mpandas\\_libs\\hashtable_class_helper.pxi\u001b[0m in \u001b[0;36mpandas._libs.hashtable.PyObjectHashTable.get_item\u001b[1;34m()\u001b[0m\n",
      "\u001b[1;31mKeyError\u001b[0m: 'YrSold'",
      "\nThe above exception was the direct cause of the following exception:\n",
      "\u001b[1;31mKeyError\u001b[0m                                  Traceback (most recent call last)",
      "\u001b[1;32m<ipython-input-14-9ddc9be9aa20>\u001b[0m in \u001b[0;36m<module>\u001b[1;34m\u001b[0m\n\u001b[1;32m----> 1\u001b[1;33m \u001b[0mX_train\u001b[0m \u001b[1;33m=\u001b[0m \u001b[0melapsed_years\u001b[0m\u001b[1;33m(\u001b[0m\u001b[0mX_train\u001b[0m\u001b[1;33m,\u001b[0m \u001b[1;34m'YearRemodAdd'\u001b[0m\u001b[1;33m)\u001b[0m\u001b[1;33m\u001b[0m\u001b[1;33m\u001b[0m\u001b[0m\n\u001b[0m\u001b[0;32m      2\u001b[0m \u001b[0mX_test\u001b[0m \u001b[1;33m=\u001b[0m \u001b[0melapsed_years\u001b[0m\u001b[1;33m(\u001b[0m\u001b[0mX_test\u001b[0m\u001b[1;33m,\u001b[0m \u001b[1;34m'YearRemodAdd'\u001b[0m\u001b[1;33m)\u001b[0m\u001b[1;33m\u001b[0m\u001b[1;33m\u001b[0m\u001b[0m\n",
      "\u001b[1;32m<ipython-input-13-1dd8e6938e3e>\u001b[0m in \u001b[0;36melapsed_years\u001b[1;34m(df, var)\u001b[0m\n\u001b[0;32m      8\u001b[0m     \u001b[1;31m# and year in which the house was sold\u001b[0m\u001b[1;33m\u001b[0m\u001b[1;33m\u001b[0m\u001b[1;33m\u001b[0m\u001b[0m\n\u001b[0;32m      9\u001b[0m \u001b[1;33m\u001b[0m\u001b[0m\n\u001b[1;32m---> 10\u001b[1;33m     \u001b[0mdf\u001b[0m\u001b[1;33m[\u001b[0m\u001b[0mvar\u001b[0m\u001b[1;33m]\u001b[0m \u001b[1;33m=\u001b[0m \u001b[0mdf\u001b[0m\u001b[1;33m[\u001b[0m\u001b[1;34m'YrSold'\u001b[0m\u001b[1;33m]\u001b[0m \u001b[1;33m-\u001b[0m \u001b[0mdf\u001b[0m\u001b[1;33m[\u001b[0m\u001b[0mvar\u001b[0m\u001b[1;33m]\u001b[0m\u001b[1;33m\u001b[0m\u001b[1;33m\u001b[0m\u001b[0m\n\u001b[0m\u001b[0;32m     11\u001b[0m \u001b[1;33m\u001b[0m\u001b[0m\n\u001b[0;32m     12\u001b[0m     \u001b[1;32mreturn\u001b[0m \u001b[0mdf\u001b[0m\u001b[1;33m\u001b[0m\u001b[1;33m\u001b[0m\u001b[0m\n",
      "\u001b[1;32mC:\\MSc Wirtschaftsinformatik\\1.Semester\\lib\\site-packages\\pandas\\core\\frame.py\u001b[0m in \u001b[0;36m__getitem__\u001b[1;34m(self, key)\u001b[0m\n\u001b[0;32m   3022\u001b[0m             \u001b[1;32mif\u001b[0m \u001b[0mself\u001b[0m\u001b[1;33m.\u001b[0m\u001b[0mcolumns\u001b[0m\u001b[1;33m.\u001b[0m\u001b[0mnlevels\u001b[0m \u001b[1;33m>\u001b[0m \u001b[1;36m1\u001b[0m\u001b[1;33m:\u001b[0m\u001b[1;33m\u001b[0m\u001b[1;33m\u001b[0m\u001b[0m\n\u001b[0;32m   3023\u001b[0m                 \u001b[1;32mreturn\u001b[0m \u001b[0mself\u001b[0m\u001b[1;33m.\u001b[0m\u001b[0m_getitem_multilevel\u001b[0m\u001b[1;33m(\u001b[0m\u001b[0mkey\u001b[0m\u001b[1;33m)\u001b[0m\u001b[1;33m\u001b[0m\u001b[1;33m\u001b[0m\u001b[0m\n\u001b[1;32m-> 3024\u001b[1;33m             \u001b[0mindexer\u001b[0m \u001b[1;33m=\u001b[0m \u001b[0mself\u001b[0m\u001b[1;33m.\u001b[0m\u001b[0mcolumns\u001b[0m\u001b[1;33m.\u001b[0m\u001b[0mget_loc\u001b[0m\u001b[1;33m(\u001b[0m\u001b[0mkey\u001b[0m\u001b[1;33m)\u001b[0m\u001b[1;33m\u001b[0m\u001b[1;33m\u001b[0m\u001b[0m\n\u001b[0m\u001b[0;32m   3025\u001b[0m             \u001b[1;32mif\u001b[0m \u001b[0mis_integer\u001b[0m\u001b[1;33m(\u001b[0m\u001b[0mindexer\u001b[0m\u001b[1;33m)\u001b[0m\u001b[1;33m:\u001b[0m\u001b[1;33m\u001b[0m\u001b[1;33m\u001b[0m\u001b[0m\n\u001b[0;32m   3026\u001b[0m                 \u001b[0mindexer\u001b[0m \u001b[1;33m=\u001b[0m \u001b[1;33m[\u001b[0m\u001b[0mindexer\u001b[0m\u001b[1;33m]\u001b[0m\u001b[1;33m\u001b[0m\u001b[1;33m\u001b[0m\u001b[0m\n",
      "\u001b[1;32mC:\\MSc Wirtschaftsinformatik\\1.Semester\\lib\\site-packages\\pandas\\core\\indexes\\base.py\u001b[0m in \u001b[0;36mget_loc\u001b[1;34m(self, key, method, tolerance)\u001b[0m\n\u001b[0;32m   3080\u001b[0m                 \u001b[1;32mreturn\u001b[0m \u001b[0mself\u001b[0m\u001b[1;33m.\u001b[0m\u001b[0m_engine\u001b[0m\u001b[1;33m.\u001b[0m\u001b[0mget_loc\u001b[0m\u001b[1;33m(\u001b[0m\u001b[0mcasted_key\u001b[0m\u001b[1;33m)\u001b[0m\u001b[1;33m\u001b[0m\u001b[1;33m\u001b[0m\u001b[0m\n\u001b[0;32m   3081\u001b[0m             \u001b[1;32mexcept\u001b[0m \u001b[0mKeyError\u001b[0m \u001b[1;32mas\u001b[0m \u001b[0merr\u001b[0m\u001b[1;33m:\u001b[0m\u001b[1;33m\u001b[0m\u001b[1;33m\u001b[0m\u001b[0m\n\u001b[1;32m-> 3082\u001b[1;33m                 \u001b[1;32mraise\u001b[0m \u001b[0mKeyError\u001b[0m\u001b[1;33m(\u001b[0m\u001b[0mkey\u001b[0m\u001b[1;33m)\u001b[0m \u001b[1;32mfrom\u001b[0m \u001b[0merr\u001b[0m\u001b[1;33m\u001b[0m\u001b[1;33m\u001b[0m\u001b[0m\n\u001b[0m\u001b[0;32m   3083\u001b[0m \u001b[1;33m\u001b[0m\u001b[0m\n\u001b[0;32m   3084\u001b[0m         \u001b[1;32mif\u001b[0m \u001b[0mtolerance\u001b[0m \u001b[1;32mis\u001b[0m \u001b[1;32mnot\u001b[0m \u001b[1;32mNone\u001b[0m\u001b[1;33m:\u001b[0m\u001b[1;33m\u001b[0m\u001b[1;33m\u001b[0m\u001b[0m\n",
      "\u001b[1;31mKeyError\u001b[0m: 'YrSold'"
     ]
    }
   ],
   "source": [
    "X_train = elapsed_years(X_train, 'YearRemodAdd')\n",
    "X_test = elapsed_years(X_test, 'YearRemodAdd')\n"
   ]
  },
  {
   "cell_type": "markdown",
   "metadata": {
    "pycharm": {
     "name": "#%% md\n"
    }
   },
   "source": [
    "### Numerical variable transformation"
   ]
  },
  {
   "cell_type": "code",
   "execution_count": 15,
   "metadata": {
    "pycharm": {
     "name": "#%%\n"
    }
   },
   "outputs": [
    {
     "ename": "KeyError",
     "evalue": "'LotFrontage'",
     "output_type": "error",
     "traceback": [
      "\u001b[1;31m---------------------------------------------------------------------------\u001b[0m",
      "\u001b[1;31mKeyError\u001b[0m                                  Traceback (most recent call last)",
      "\u001b[1;32mC:\\MSc Wirtschaftsinformatik\\1.Semester\\lib\\site-packages\\pandas\\core\\indexes\\base.py\u001b[0m in \u001b[0;36mget_loc\u001b[1;34m(self, key, method, tolerance)\u001b[0m\n\u001b[0;32m   3079\u001b[0m             \u001b[1;32mtry\u001b[0m\u001b[1;33m:\u001b[0m\u001b[1;33m\u001b[0m\u001b[1;33m\u001b[0m\u001b[0m\n\u001b[1;32m-> 3080\u001b[1;33m                 \u001b[1;32mreturn\u001b[0m \u001b[0mself\u001b[0m\u001b[1;33m.\u001b[0m\u001b[0m_engine\u001b[0m\u001b[1;33m.\u001b[0m\u001b[0mget_loc\u001b[0m\u001b[1;33m(\u001b[0m\u001b[0mcasted_key\u001b[0m\u001b[1;33m)\u001b[0m\u001b[1;33m\u001b[0m\u001b[1;33m\u001b[0m\u001b[0m\n\u001b[0m\u001b[0;32m   3081\u001b[0m             \u001b[1;32mexcept\u001b[0m \u001b[0mKeyError\u001b[0m \u001b[1;32mas\u001b[0m \u001b[0merr\u001b[0m\u001b[1;33m:\u001b[0m\u001b[1;33m\u001b[0m\u001b[1;33m\u001b[0m\u001b[0m\n",
      "\u001b[1;32mpandas\\_libs\\index.pyx\u001b[0m in \u001b[0;36mpandas._libs.index.IndexEngine.get_loc\u001b[1;34m()\u001b[0m\n",
      "\u001b[1;32mpandas\\_libs\\index.pyx\u001b[0m in \u001b[0;36mpandas._libs.index.IndexEngine.get_loc\u001b[1;34m()\u001b[0m\n",
      "\u001b[1;32mpandas\\_libs\\hashtable_class_helper.pxi\u001b[0m in \u001b[0;36mpandas._libs.hashtable.PyObjectHashTable.get_item\u001b[1;34m()\u001b[0m\n",
      "\u001b[1;32mpandas\\_libs\\hashtable_class_helper.pxi\u001b[0m in \u001b[0;36mpandas._libs.hashtable.PyObjectHashTable.get_item\u001b[1;34m()\u001b[0m\n",
      "\u001b[1;31mKeyError\u001b[0m: 'LotFrontage'",
      "\nThe above exception was the direct cause of the following exception:\n",
      "\u001b[1;31mKeyError\u001b[0m                                  Traceback (most recent call last)",
      "\u001b[1;32m<ipython-input-15-1324e3036eb6>\u001b[0m in \u001b[0;36m<module>\u001b[1;34m\u001b[0m\n\u001b[0;32m      3\u001b[0m \u001b[1;33m\u001b[0m\u001b[0m\n\u001b[0;32m      4\u001b[0m \u001b[1;32mfor\u001b[0m \u001b[0mvar\u001b[0m \u001b[1;32min\u001b[0m \u001b[1;33m[\u001b[0m\u001b[1;34m'LotFrontage'\u001b[0m\u001b[1;33m,\u001b[0m \u001b[1;34m'1stFlrSF'\u001b[0m\u001b[1;33m,\u001b[0m \u001b[1;34m'GrLivArea'\u001b[0m\u001b[1;33m,\u001b[0m \u001b[1;34m'SalePrice'\u001b[0m\u001b[1;33m]\u001b[0m\u001b[1;33m:\u001b[0m\u001b[1;33m\u001b[0m\u001b[1;33m\u001b[0m\u001b[0m\n\u001b[1;32m----> 5\u001b[1;33m     \u001b[0mX_train\u001b[0m\u001b[1;33m[\u001b[0m\u001b[0mvar\u001b[0m\u001b[1;33m]\u001b[0m \u001b[1;33m=\u001b[0m \u001b[0mnp\u001b[0m\u001b[1;33m.\u001b[0m\u001b[0mlog\u001b[0m\u001b[1;33m(\u001b[0m\u001b[0mX_train\u001b[0m\u001b[1;33m[\u001b[0m\u001b[0mvar\u001b[0m\u001b[1;33m]\u001b[0m\u001b[1;33m)\u001b[0m\u001b[1;33m\u001b[0m\u001b[1;33m\u001b[0m\u001b[0m\n\u001b[0m\u001b[0;32m      6\u001b[0m     \u001b[0mX_test\u001b[0m\u001b[1;33m[\u001b[0m\u001b[0mvar\u001b[0m\u001b[1;33m]\u001b[0m \u001b[1;33m=\u001b[0m \u001b[0mnp\u001b[0m\u001b[1;33m.\u001b[0m\u001b[0mlog\u001b[0m\u001b[1;33m(\u001b[0m\u001b[0mX_test\u001b[0m\u001b[1;33m[\u001b[0m\u001b[0mvar\u001b[0m\u001b[1;33m]\u001b[0m\u001b[1;33m)\u001b[0m\u001b[1;33m\u001b[0m\u001b[1;33m\u001b[0m\u001b[0m\n\u001b[0;32m      7\u001b[0m \u001b[1;33m\u001b[0m\u001b[0m\n",
      "\u001b[1;32mC:\\MSc Wirtschaftsinformatik\\1.Semester\\lib\\site-packages\\pandas\\core\\frame.py\u001b[0m in \u001b[0;36m__getitem__\u001b[1;34m(self, key)\u001b[0m\n\u001b[0;32m   3022\u001b[0m             \u001b[1;32mif\u001b[0m \u001b[0mself\u001b[0m\u001b[1;33m.\u001b[0m\u001b[0mcolumns\u001b[0m\u001b[1;33m.\u001b[0m\u001b[0mnlevels\u001b[0m \u001b[1;33m>\u001b[0m \u001b[1;36m1\u001b[0m\u001b[1;33m:\u001b[0m\u001b[1;33m\u001b[0m\u001b[1;33m\u001b[0m\u001b[0m\n\u001b[0;32m   3023\u001b[0m                 \u001b[1;32mreturn\u001b[0m \u001b[0mself\u001b[0m\u001b[1;33m.\u001b[0m\u001b[0m_getitem_multilevel\u001b[0m\u001b[1;33m(\u001b[0m\u001b[0mkey\u001b[0m\u001b[1;33m)\u001b[0m\u001b[1;33m\u001b[0m\u001b[1;33m\u001b[0m\u001b[0m\n\u001b[1;32m-> 3024\u001b[1;33m             \u001b[0mindexer\u001b[0m \u001b[1;33m=\u001b[0m \u001b[0mself\u001b[0m\u001b[1;33m.\u001b[0m\u001b[0mcolumns\u001b[0m\u001b[1;33m.\u001b[0m\u001b[0mget_loc\u001b[0m\u001b[1;33m(\u001b[0m\u001b[0mkey\u001b[0m\u001b[1;33m)\u001b[0m\u001b[1;33m\u001b[0m\u001b[1;33m\u001b[0m\u001b[0m\n\u001b[0m\u001b[0;32m   3025\u001b[0m             \u001b[1;32mif\u001b[0m \u001b[0mis_integer\u001b[0m\u001b[1;33m(\u001b[0m\u001b[0mindexer\u001b[0m\u001b[1;33m)\u001b[0m\u001b[1;33m:\u001b[0m\u001b[1;33m\u001b[0m\u001b[1;33m\u001b[0m\u001b[0m\n\u001b[0;32m   3026\u001b[0m                 \u001b[0mindexer\u001b[0m \u001b[1;33m=\u001b[0m \u001b[1;33m[\u001b[0m\u001b[0mindexer\u001b[0m\u001b[1;33m]\u001b[0m\u001b[1;33m\u001b[0m\u001b[1;33m\u001b[0m\u001b[0m\n",
      "\u001b[1;32mC:\\MSc Wirtschaftsinformatik\\1.Semester\\lib\\site-packages\\pandas\\core\\indexes\\base.py\u001b[0m in \u001b[0;36mget_loc\u001b[1;34m(self, key, method, tolerance)\u001b[0m\n\u001b[0;32m   3080\u001b[0m                 \u001b[1;32mreturn\u001b[0m \u001b[0mself\u001b[0m\u001b[1;33m.\u001b[0m\u001b[0m_engine\u001b[0m\u001b[1;33m.\u001b[0m\u001b[0mget_loc\u001b[0m\u001b[1;33m(\u001b[0m\u001b[0mcasted_key\u001b[0m\u001b[1;33m)\u001b[0m\u001b[1;33m\u001b[0m\u001b[1;33m\u001b[0m\u001b[0m\n\u001b[0;32m   3081\u001b[0m             \u001b[1;32mexcept\u001b[0m \u001b[0mKeyError\u001b[0m \u001b[1;32mas\u001b[0m \u001b[0merr\u001b[0m\u001b[1;33m:\u001b[0m\u001b[1;33m\u001b[0m\u001b[1;33m\u001b[0m\u001b[0m\n\u001b[1;32m-> 3082\u001b[1;33m                 \u001b[1;32mraise\u001b[0m \u001b[0mKeyError\u001b[0m\u001b[1;33m(\u001b[0m\u001b[0mkey\u001b[0m\u001b[1;33m)\u001b[0m \u001b[1;32mfrom\u001b[0m \u001b[0merr\u001b[0m\u001b[1;33m\u001b[0m\u001b[1;33m\u001b[0m\u001b[0m\n\u001b[0m\u001b[0;32m   3083\u001b[0m \u001b[1;33m\u001b[0m\u001b[0m\n\u001b[0;32m   3084\u001b[0m         \u001b[1;32mif\u001b[0m \u001b[0mtolerance\u001b[0m \u001b[1;32mis\u001b[0m \u001b[1;32mnot\u001b[0m \u001b[1;32mNone\u001b[0m\u001b[1;33m:\u001b[0m\u001b[1;33m\u001b[0m\u001b[1;33m\u001b[0m\u001b[0m\n",
      "\u001b[1;31mKeyError\u001b[0m: 'LotFrontage'"
     ]
    }
   ],
   "source": [
    "# we apply the logarithmic function to the variables that\n",
    "# were selected (and the target):\n",
    "\n",
    "for var in ['LotFrontage', '1stFlrSF', 'GrLivArea', 'SalePrice']:\n",
    "    X_train[var] = np.log(X_train[var])\n",
    "    X_test[var] = np.log(X_test[var])\n",
    "    "
   ]
  },
  {
   "cell_type": "markdown",
   "metadata": {
    "pycharm": {
     "name": "#%% md\n"
    }
   },
   "source": [
    "## Categorical variables\n",
    "\n",
    "### Group rare labels"
   ]
  },
  {
   "cell_type": "code",
   "execution_count": 13,
   "metadata": {
    "pycharm": {
     "name": "#%%\n"
    }
   },
   "outputs": [
    {
     "data": {
      "text/plain": [
       "['MSZoning',\n",
       " 'Neighborhood',\n",
       " 'RoofStyle',\n",
       " 'MasVnrType',\n",
       " 'BsmtQual',\n",
       " 'BsmtExposure',\n",
       " 'HeatingQC',\n",
       " 'CentralAir',\n",
       " 'KitchenQual',\n",
       " 'FireplaceQu',\n",
       " 'GarageType',\n",
       " 'GarageFinish',\n",
       " 'PavedDrive']"
      ]
     },
     "execution_count": 13,
     "metadata": {},
     "output_type": "execute_result"
    }
   ],
   "source": [
    "# let's capture the categorical variables first\n",
    "\n",
    "cat_vars = [var for var in features if X_train[var].dtype == 'O']\n",
    "\n",
    "cat_vars\n"
   ]
  },
  {
   "cell_type": "code",
   "execution_count": 14,
   "metadata": {
    "pycharm": {
     "name": "#%%\n"
    }
   },
   "outputs": [
    {
     "name": "stdout",
     "output_type": "stream",
     "text": [
      "MSZoning\n",
      "Index(['FV', 'RH', 'RL', 'RM'], dtype='object', name='MSZoning')\n",
      "\n",
      "Neighborhood\n",
      "Index(['Blmngtn', 'BrDale', 'BrkSide', 'ClearCr', 'CollgCr', 'Crawfor',\n",
      "       'Edwards', 'Gilbert', 'IDOTRR', 'MeadowV', 'Mitchel', 'NAmes', 'NWAmes',\n",
      "       'NoRidge', 'NridgHt', 'OldTown', 'SWISU', 'Sawyer', 'SawyerW',\n",
      "       'Somerst', 'StoneBr', 'Timber'],\n",
      "      dtype='object', name='Neighborhood')\n",
      "\n",
      "RoofStyle\n",
      "Index(['Gable', 'Hip'], dtype='object', name='RoofStyle')\n",
      "\n",
      "MasVnrType\n",
      "Index(['BrkFace', 'None', 'Stone'], dtype='object', name='MasVnrType')\n",
      "\n",
      "BsmtQual\n",
      "Index(['Ex', 'Fa', 'Gd', 'Missing', 'TA'], dtype='object', name='BsmtQual')\n",
      "\n",
      "BsmtExposure\n",
      "Index(['Av', 'Gd', 'Missing', 'Mn', 'No'], dtype='object', name='BsmtExposure')\n",
      "\n",
      "HeatingQC\n",
      "Index(['Ex', 'Fa', 'Gd', 'TA'], dtype='object', name='HeatingQC')\n",
      "\n",
      "CentralAir\n",
      "Index(['N', 'Y'], dtype='object', name='CentralAir')\n",
      "\n",
      "KitchenQual\n",
      "Index(['Ex', 'Fa', 'Gd', 'TA'], dtype='object', name='KitchenQual')\n",
      "\n",
      "FireplaceQu\n",
      "Index(['Ex', 'Fa', 'Gd', 'Missing', 'Po', 'TA'], dtype='object', name='FireplaceQu')\n",
      "\n",
      "GarageType\n",
      "Index(['Attchd', 'Basment', 'BuiltIn', 'Detchd', 'Missing'], dtype='object', name='GarageType')\n",
      "\n",
      "GarageFinish\n",
      "Index(['Fin', 'Missing', 'RFn', 'Unf'], dtype='object', name='GarageFinish')\n",
      "\n",
      "PavedDrive\n",
      "Index(['N', 'P', 'Y'], dtype='object', name='PavedDrive')\n",
      "\n"
     ]
    }
   ],
   "source": [
    "# bringing thise from the notebook on feature engineering (step 2):\n",
    "\n",
    "def find_frequent_labels(df, var, rare_perc):\n",
    "    \n",
    "    # function finds the labels that are shared by more than\n",
    "    # a certain % of the houses in the dataset\n",
    "\n",
    "    df = df.copy()\n",
    "\n",
    "    tmp = df.groupby(var)['SalePrice'].count() / len(df)\n",
    "\n",
    "    return tmp[tmp > rare_perc].index\n",
    "\n",
    "\n",
    "for var in cat_vars:\n",
    "    \n",
    "    # find the frequent categories\n",
    "    frequent_ls = find_frequent_labels(X_train, var, 0.01)\n",
    "    print(var)\n",
    "    print(frequent_ls)\n",
    "    print()\n",
    "    \n",
    "    # replace rare categories by the string \"Rare\"\n",
    "    X_train[var] = np.where(X_train[var].isin(\n",
    "        frequent_ls), X_train[var], 'Rare')\n",
    "    \n",
    "    X_test[var] = np.where(X_test[var].isin(\n",
    "        frequent_ls), X_test[var], 'Rare')\n",
    "    "
   ]
  },
  {
   "cell_type": "markdown",
   "metadata": {
    "pycharm": {
     "name": "#%% md\n"
    }
   },
   "source": [
    "### Encoding of categorical variables\n"
   ]
  },
  {
   "cell_type": "code",
   "execution_count": 15,
   "metadata": {
    "pycharm": {
     "name": "#%%\n"
    }
   },
   "outputs": [],
   "source": [
    "# this function will assign discrete values to the strings of the variables,\n",
    "# so that the smaller value corresponds to the category that shows the smaller\n",
    "# mean house sale price\n",
    "\n",
    "\n",
    "def replace_categories(train, test, var, target):\n",
    "\n",
    "    # order the categories in a variable from that with the lowest\n",
    "    # house sale price, to that with the highest\n",
    "    ordered_labels = train.groupby([var])[target].mean().sort_values().index\n",
    "\n",
    "    # create a dictionary of ordered categories to integer values\n",
    "    ordinal_label = {k: i for i, k in enumerate(ordered_labels, 0)}\n",
    "\n",
    "    # use the dictionary to replace the categorical strings by integers\n",
    "    train[var] = train[var].map(ordinal_label)\n",
    "    test[var] = test[var].map(ordinal_label)\n",
    "    \n",
    "    print(var)\n",
    "    print(ordinal_label)\n",
    "    print()\n",
    "    "
   ]
  },
  {
   "cell_type": "code",
   "execution_count": 16,
   "metadata": {
    "pycharm": {
     "name": "#%%\n"
    }
   },
   "outputs": [
    {
     "name": "stdout",
     "output_type": "stream",
     "text": [
      "MSZoning\n",
      "{'Rare': 0, 'RM': 1, 'RH': 2, 'RL': 3, 'FV': 4}\n",
      "\n",
      "Neighborhood\n",
      "{'IDOTRR': 0, 'MeadowV': 1, 'BrDale': 2, 'Edwards': 3, 'BrkSide': 4, 'OldTown': 5, 'Sawyer': 6, 'SWISU': 7, 'NAmes': 8, 'Mitchel': 9, 'SawyerW': 10, 'Rare': 11, 'NWAmes': 12, 'Gilbert': 13, 'Blmngtn': 14, 'CollgCr': 15, 'Crawfor': 16, 'ClearCr': 17, 'Somerst': 18, 'Timber': 19, 'StoneBr': 20, 'NridgHt': 21, 'NoRidge': 22}\n",
      "\n",
      "RoofStyle\n",
      "{'Gable': 0, 'Rare': 1, 'Hip': 2}\n",
      "\n",
      "MasVnrType\n",
      "{'None': 0, 'Rare': 1, 'BrkFace': 2, 'Stone': 3}\n",
      "\n",
      "BsmtQual\n",
      "{'Missing': 0, 'Fa': 1, 'TA': 2, 'Gd': 3, 'Ex': 4}\n",
      "\n",
      "BsmtExposure\n",
      "{'Missing': 0, 'No': 1, 'Mn': 2, 'Av': 3, 'Gd': 4}\n",
      "\n",
      "HeatingQC\n",
      "{'Rare': 0, 'Fa': 1, 'TA': 2, 'Gd': 3, 'Ex': 4}\n",
      "\n",
      "CentralAir\n",
      "{'N': 0, 'Y': 1}\n",
      "\n",
      "KitchenQual\n",
      "{'Fa': 0, 'TA': 1, 'Gd': 2, 'Ex': 3}\n",
      "\n",
      "FireplaceQu\n",
      "{'Po': 0, 'Missing': 1, 'Fa': 2, 'TA': 3, 'Gd': 4, 'Ex': 5}\n",
      "\n",
      "GarageType\n",
      "{'Missing': 0, 'Rare': 1, 'Detchd': 2, 'Basment': 3, 'Attchd': 4, 'BuiltIn': 5}\n",
      "\n",
      "GarageFinish\n",
      "{'Missing': 0, 'Unf': 1, 'RFn': 2, 'Fin': 3}\n",
      "\n",
      "PavedDrive\n",
      "{'N': 0, 'P': 1, 'Y': 2}\n",
      "\n"
     ]
    }
   ],
   "source": [
    "for var in cat_vars:\n",
    "    replace_categories(X_train, X_test, var, 'SalePrice')\n",
    "    "
   ]
  },
  {
   "cell_type": "code",
   "execution_count": 17,
   "metadata": {
    "pycharm": {
     "name": "#%%\n"
    }
   },
   "outputs": [
    {
     "data": {
      "text/plain": [
       "[]"
      ]
     },
     "execution_count": 17,
     "metadata": {},
     "output_type": "execute_result"
    }
   ],
   "source": [
    "# check absence of na\n",
    "[var for var in features if X_train[var].isnull().sum() > 0]\n"
   ]
  },
  {
   "cell_type": "code",
   "execution_count": 18,
   "metadata": {
    "pycharm": {
     "name": "#%%\n"
    }
   },
   "outputs": [
    {
     "data": {
      "text/plain": [
       "[]"
      ]
     },
     "execution_count": 18,
     "metadata": {},
     "output_type": "execute_result"
    }
   ],
   "source": [
    "# check absence of na\n",
    "[var for var in features if X_test[var].isnull().sum() > 0]\n"
   ]
  },
  {
   "cell_type": "markdown",
   "metadata": {
    "pycharm": {
     "name": "#%% md\n"
    }
   },
   "source": [
    "### Feature Scaling\n",
    "\n",
    "For use in linear models, features need to be either scaled or normalised. In the next section, I will scale features between the min and max values:"
   ]
  },
  {
   "cell_type": "code",
   "execution_count": 43,
   "metadata": {
    "pycharm": {
     "name": "#%%\n"
    }
   },
   "outputs": [],
   "source": [
    "# capture the target\n",
    "y_train = X_train['Eröffnung_y']\n",
    "y_test = X_test['Eröffnung_y']\n"
   ]
  },
  {
   "cell_type": "code",
   "execution_count": 72,
   "metadata": {
    "pycharm": {
     "name": "#%%\n"
    }
   },
   "outputs": [
    {
     "name": "stdout",
     "output_type": "stream",
     "text": [
      "Vor dem Scaling:\n"
     ]
    },
    {
     "data": {
      "text/html": [
       "<div>\n",
       "<style scoped>\n",
       "    .dataframe tbody tr th:only-of-type {\n",
       "        vertical-align: middle;\n",
       "    }\n",
       "\n",
       "    .dataframe tbody tr th {\n",
       "        vertical-align: top;\n",
       "    }\n",
       "\n",
       "    .dataframe thead th {\n",
       "        text-align: right;\n",
       "    }\n",
       "</style>\n",
       "<table border=\"1\" class=\"dataframe\">\n",
       "  <thead>\n",
       "    <tr style=\"text-align: right;\">\n",
       "      <th></th>\n",
       "      <th>Schluss DAX</th>\n",
       "      <th>Schluss EURO STOXX 50</th>\n",
       "      <th>Schluss Dow Jones</th>\n",
       "      <th>Schluss SMI</th>\n",
       "      <th>Schluss MSCI World</th>\n",
       "      <th>Schluss FTSE</th>\n",
       "      <th>Schluss ATX</th>\n",
       "      <th>Schluss SDAX</th>\n",
       "      <th>Schluss Tec DAX</th>\n",
       "      <th>Schluss NASDAQ 100</th>\n",
       "      <th>Schluss Nikkei</th>\n",
       "      <th>Schluss Hang Seng</th>\n",
       "      <th>Schluss SHANGHAI STOCK EXCHANGE B SHARES</th>\n",
       "      <th>Schluss Emerging Markets</th>\n",
       "      <th>Schluss Bovespa</th>\n",
       "    </tr>\n",
       "  </thead>\n",
       "  <tbody>\n",
       "    <tr>\n",
       "      <th>501</th>\n",
       "      <td>4911.17</td>\n",
       "      <td>3338.99</td>\n",
       "      <td>10544.90</td>\n",
       "      <td>6731.58</td>\n",
       "      <td>1215.582</td>\n",
       "      <td>5347.40</td>\n",
       "      <td>3405.57</td>\n",
       "      <td>4194.61</td>\n",
       "      <td>599.10</td>\n",
       "      <td>1589.630</td>\n",
       "      <td>12834.25</td>\n",
       "      <td>15086.62</td>\n",
       "      <td>68.940</td>\n",
       "      <td>635.550</td>\n",
       "      <td>29049.990</td>\n",
       "    </tr>\n",
       "    <tr>\n",
       "      <th>3745</th>\n",
       "      <td>12831.51</td>\n",
       "      <td>3505.29</td>\n",
       "      <td>32632.64</td>\n",
       "      <td>11057.06</td>\n",
       "      <td>2797.696</td>\n",
       "      <td>6964.11</td>\n",
       "      <td>2972.99</td>\n",
       "      <td>13084.80</td>\n",
       "      <td>2920.93</td>\n",
       "      <td>13267.604</td>\n",
       "      <td>24790.95</td>\n",
       "      <td>20741.04</td>\n",
       "      <td>273.716</td>\n",
       "      <td>1096.047</td>\n",
       "      <td>111239.360</td>\n",
       "    </tr>\n",
       "    <tr>\n",
       "      <th>2486</th>\n",
       "      <td>10210.44</td>\n",
       "      <td>3221.14</td>\n",
       "      <td>16330.40</td>\n",
       "      <td>8778.76</td>\n",
       "      <td>1625.403</td>\n",
       "      <td>6155.81</td>\n",
       "      <td>2281.31</td>\n",
       "      <td>8711.25</td>\n",
       "      <td>1729.78</td>\n",
       "      <td>4296.299</td>\n",
       "      <td>18299.62</td>\n",
       "      <td>21562.50</td>\n",
       "      <td>303.544</td>\n",
       "      <td>804.157</td>\n",
       "      <td>46503.994</td>\n",
       "    </tr>\n",
       "    <tr>\n",
       "      <th>1976</th>\n",
       "      <td>8058.37</td>\n",
       "      <td>2744.70</td>\n",
       "      <td>14539.14</td>\n",
       "      <td>7842.85</td>\n",
       "      <td>1440.207</td>\n",
       "      <td>6529.41</td>\n",
       "      <td>2512.70</td>\n",
       "      <td>6031.49</td>\n",
       "      <td>927.39</td>\n",
       "      <td>2807.300</td>\n",
       "      <td>12381.19</td>\n",
       "      <td>22619.18</td>\n",
       "      <td>262.874</td>\n",
       "      <td>1047.698</td>\n",
       "      <td>57281.020</td>\n",
       "    </tr>\n",
       "    <tr>\n",
       "      <th>989</th>\n",
       "      <td>6393.39</td>\n",
       "      <td>3558.66</td>\n",
       "      <td>12392.66</td>\n",
       "      <td>7013.87</td>\n",
       "      <td>1400.352</td>\n",
       "      <td>5605.80</td>\n",
       "      <td>3600.40</td>\n",
       "      <td>4310.88</td>\n",
       "      <td>716.22</td>\n",
       "      <td>1761.050</td>\n",
       "      <td>11964.16</td>\n",
       "      <td>21384.61</td>\n",
       "      <td>245.681</td>\n",
       "      <td>1065.940</td>\n",
       "      <td>61932.700</td>\n",
       "    </tr>\n",
       "  </tbody>\n",
       "</table>\n",
       "</div>"
      ],
      "text/plain": [
       "      Schluss DAX  Schluss EURO STOXX 50  Schluss Dow Jones  Schluss SMI  \\\n",
       "501       4911.17                3338.99           10544.90      6731.58   \n",
       "3745     12831.51                3505.29           32632.64     11057.06   \n",
       "2486     10210.44                3221.14           16330.40      8778.76   \n",
       "1976      8058.37                2744.70           14539.14      7842.85   \n",
       "989       6393.39                3558.66           12392.66      7013.87   \n",
       "\n",
       "      Schluss MSCI World  Schluss FTSE  Schluss ATX  Schluss SDAX  \\\n",
       "501             1215.582       5347.40      3405.57       4194.61   \n",
       "3745            2797.696       6964.11      2972.99      13084.80   \n",
       "2486            1625.403       6155.81      2281.31       8711.25   \n",
       "1976            1440.207       6529.41      2512.70       6031.49   \n",
       "989             1400.352       5605.80      3600.40       4310.88   \n",
       "\n",
       "      Schluss Tec DAX  Schluss NASDAQ 100  Schluss Nikkei  Schluss Hang Seng  \\\n",
       "501            599.10            1589.630        12834.25           15086.62   \n",
       "3745          2920.93           13267.604        24790.95           20741.04   \n",
       "2486          1729.78            4296.299        18299.62           21562.50   \n",
       "1976           927.39            2807.300        12381.19           22619.18   \n",
       "989            716.22            1761.050        11964.16           21384.61   \n",
       "\n",
       "      Schluss SHANGHAI STOCK EXCHANGE B SHARES  Schluss Emerging Markets  \\\n",
       "501                                     68.940                   635.550   \n",
       "3745                                   273.716                  1096.047   \n",
       "2486                                   303.544                   804.157   \n",
       "1976                                   262.874                  1047.698   \n",
       "989                                    245.681                  1065.940   \n",
       "\n",
       "      Schluss Bovespa  \n",
       "501         29049.990  \n",
       "3745       111239.360  \n",
       "2486        46503.994  \n",
       "1976        57281.020  \n",
       "989         61932.700  "
      ]
     },
     "metadata": {},
     "output_type": "display_data"
    },
    {
     "name": "stdout",
     "output_type": "stream",
     "text": [
      "\n",
      "Nach dem Scaling:\n"
     ]
    },
    {
     "data": {
      "text/html": [
       "<div>\n",
       "<style scoped>\n",
       "    .dataframe tbody tr th:only-of-type {\n",
       "        vertical-align: middle;\n",
       "    }\n",
       "\n",
       "    .dataframe tbody tr th {\n",
       "        vertical-align: top;\n",
       "    }\n",
       "\n",
       "    .dataframe thead th {\n",
       "        text-align: right;\n",
       "    }\n",
       "</style>\n",
       "<table border=\"1\" class=\"dataframe\">\n",
       "  <thead>\n",
       "    <tr style=\"text-align: right;\">\n",
       "      <th></th>\n",
       "      <th>Schluss DAX</th>\n",
       "      <th>Schluss EURO STOXX 50</th>\n",
       "      <th>Schluss Dow Jones</th>\n",
       "      <th>Schluss SMI</th>\n",
       "      <th>Schluss MSCI World</th>\n",
       "      <th>Schluss FTSE</th>\n",
       "      <th>Schluss ATX</th>\n",
       "      <th>Schluss SDAX</th>\n",
       "      <th>Schluss Tec DAX</th>\n",
       "      <th>Schluss NASDAQ 100</th>\n",
       "      <th>Schluss Nikkei</th>\n",
       "      <th>Schluss Hang Seng</th>\n",
       "      <th>Schluss SHANGHAI STOCK EXCHANGE B SHARES</th>\n",
       "      <th>Schluss Emerging Markets</th>\n",
       "      <th>Schluss Bovespa</th>\n",
       "      <th>DAX</th>\n",
       "      <th>EURO STOXX 50</th>\n",
       "      <th>Dow Jones</th>\n",
       "      <th>SMI</th>\n",
       "      <th>MSCI World</th>\n",
       "      <th>FTSE</th>\n",
       "      <th>ATX</th>\n",
       "      <th>SDAX</th>\n",
       "      <th>Tec DAX</th>\n",
       "      <th>NASDAQ 100</th>\n",
       "      <th>Nikkei</th>\n",
       "      <th>Hang Seng</th>\n",
       "      <th>SHANGHAI STOCK EXCHANGE B SHARES</th>\n",
       "      <th>Emerging Markets</th>\n",
       "      <th>Bovespa</th>\n",
       "    </tr>\n",
       "  </thead>\n",
       "  <tbody>\n",
       "    <tr>\n",
       "      <th>501</th>\n",
       "      <td>4911.17</td>\n",
       "      <td>3338.99</td>\n",
       "      <td>10544.90</td>\n",
       "      <td>6731.58</td>\n",
       "      <td>1215.582</td>\n",
       "      <td>5347.40</td>\n",
       "      <td>3405.57</td>\n",
       "      <td>4194.61</td>\n",
       "      <td>599.10</td>\n",
       "      <td>1589.630</td>\n",
       "      <td>12834.25</td>\n",
       "      <td>15086.62</td>\n",
       "      <td>68.940</td>\n",
       "      <td>635.550</td>\n",
       "      <td>29049.990</td>\n",
       "      <td>0.179616</td>\n",
       "      <td>0.555438</td>\n",
       "      <td>0.130787</td>\n",
       "      <td>0.299287</td>\n",
       "      <td>0.205879</td>\n",
       "      <td>0.430147</td>\n",
       "      <td>0.589480</td>\n",
       "      <td>0.159055</td>\n",
       "      <td>0.074117</td>\n",
       "      <td>0.036903</td>\n",
       "      <td>0.244728</td>\n",
       "      <td>0.269548</td>\n",
       "      <td>0.036307</td>\n",
       "      <td>0.313781</td>\n",
       "      <td>0.150329</td>\n",
       "    </tr>\n",
       "    <tr>\n",
       "      <th>3745</th>\n",
       "      <td>12831.51</td>\n",
       "      <td>3505.29</td>\n",
       "      <td>32632.64</td>\n",
       "      <td>11057.06</td>\n",
       "      <td>2797.696</td>\n",
       "      <td>6964.11</td>\n",
       "      <td>2972.99</td>\n",
       "      <td>13084.80</td>\n",
       "      <td>2920.93</td>\n",
       "      <td>13267.604</td>\n",
       "      <td>24790.95</td>\n",
       "      <td>20741.04</td>\n",
       "      <td>273.716</td>\n",
       "      <td>1096.047</td>\n",
       "      <td>111239.360</td>\n",
       "      <td>0.751569</td>\n",
       "      <td>0.616137</td>\n",
       "      <td>0.862043</td>\n",
       "      <td>0.788541</td>\n",
       "      <td>0.824018</td>\n",
       "      <td>0.809061</td>\n",
       "      <td>0.476067</td>\n",
       "      <td>0.724661</td>\n",
       "      <td>0.712468</td>\n",
       "      <td>0.791667</td>\n",
       "      <td>0.751043</td>\n",
       "      <td>0.498686</td>\n",
       "      <td>0.458741</td>\n",
       "      <td>0.711530</td>\n",
       "      <td>0.836817</td>\n",
       "    </tr>\n",
       "    <tr>\n",
       "      <th>2486</th>\n",
       "      <td>10210.44</td>\n",
       "      <td>3221.14</td>\n",
       "      <td>16330.40</td>\n",
       "      <td>8778.76</td>\n",
       "      <td>1625.403</td>\n",
       "      <td>6155.81</td>\n",
       "      <td>2281.31</td>\n",
       "      <td>8711.25</td>\n",
       "      <td>1729.78</td>\n",
       "      <td>4296.299</td>\n",
       "      <td>18299.62</td>\n",
       "      <td>21562.50</td>\n",
       "      <td>303.544</td>\n",
       "      <td>804.157</td>\n",
       "      <td>46503.994</td>\n",
       "      <td>0.562293</td>\n",
       "      <td>0.512423</td>\n",
       "      <td>0.322327</td>\n",
       "      <td>0.530843</td>\n",
       "      <td>0.365998</td>\n",
       "      <td>0.619617</td>\n",
       "      <td>0.294723</td>\n",
       "      <td>0.446410</td>\n",
       "      <td>0.384980</td>\n",
       "      <td>0.211838</td>\n",
       "      <td>0.476163</td>\n",
       "      <td>0.531974</td>\n",
       "      <td>0.520273</td>\n",
       "      <td>0.459413</td>\n",
       "      <td>0.296114</td>\n",
       "    </tr>\n",
       "    <tr>\n",
       "      <th>1976</th>\n",
       "      <td>8058.37</td>\n",
       "      <td>2744.70</td>\n",
       "      <td>14539.14</td>\n",
       "      <td>7842.85</td>\n",
       "      <td>1440.207</td>\n",
       "      <td>6529.41</td>\n",
       "      <td>2512.70</td>\n",
       "      <td>6031.49</td>\n",
       "      <td>927.39</td>\n",
       "      <td>2807.300</td>\n",
       "      <td>12381.19</td>\n",
       "      <td>22619.18</td>\n",
       "      <td>262.874</td>\n",
       "      <td>1047.698</td>\n",
       "      <td>57281.020</td>\n",
       "      <td>0.406885</td>\n",
       "      <td>0.338522</td>\n",
       "      <td>0.263024</td>\n",
       "      <td>0.424982</td>\n",
       "      <td>0.293641</td>\n",
       "      <td>0.707179</td>\n",
       "      <td>0.355389</td>\n",
       "      <td>0.275920</td>\n",
       "      <td>0.164375</td>\n",
       "      <td>0.115602</td>\n",
       "      <td>0.225542</td>\n",
       "      <td>0.574795</td>\n",
       "      <td>0.436375</td>\n",
       "      <td>0.669769</td>\n",
       "      <td>0.386129</td>\n",
       "    </tr>\n",
       "    <tr>\n",
       "      <th>989</th>\n",
       "      <td>6393.39</td>\n",
       "      <td>3558.66</td>\n",
       "      <td>12392.66</td>\n",
       "      <td>7013.87</td>\n",
       "      <td>1400.352</td>\n",
       "      <td>5605.80</td>\n",
       "      <td>3600.40</td>\n",
       "      <td>4310.88</td>\n",
       "      <td>716.22</td>\n",
       "      <td>1761.050</td>\n",
       "      <td>11964.16</td>\n",
       "      <td>21384.61</td>\n",
       "      <td>245.681</td>\n",
       "      <td>1065.940</td>\n",
       "      <td>61932.700</td>\n",
       "      <td>0.286652</td>\n",
       "      <td>0.635617</td>\n",
       "      <td>0.191961</td>\n",
       "      <td>0.331216</td>\n",
       "      <td>0.278070</td>\n",
       "      <td>0.490709</td>\n",
       "      <td>0.640561</td>\n",
       "      <td>0.166453</td>\n",
       "      <td>0.106317</td>\n",
       "      <td>0.047982</td>\n",
       "      <td>0.207883</td>\n",
       "      <td>0.524765</td>\n",
       "      <td>0.400907</td>\n",
       "      <td>0.685525</td>\n",
       "      <td>0.424982</td>\n",
       "    </tr>\n",
       "  </tbody>\n",
       "</table>\n",
       "</div>"
      ],
      "text/plain": [
       "      Schluss DAX  Schluss EURO STOXX 50  Schluss Dow Jones  Schluss SMI  \\\n",
       "501       4911.17                3338.99           10544.90      6731.58   \n",
       "3745     12831.51                3505.29           32632.64     11057.06   \n",
       "2486     10210.44                3221.14           16330.40      8778.76   \n",
       "1976      8058.37                2744.70           14539.14      7842.85   \n",
       "989       6393.39                3558.66           12392.66      7013.87   \n",
       "\n",
       "      Schluss MSCI World  Schluss FTSE  Schluss ATX  Schluss SDAX  \\\n",
       "501             1215.582       5347.40      3405.57       4194.61   \n",
       "3745            2797.696       6964.11      2972.99      13084.80   \n",
       "2486            1625.403       6155.81      2281.31       8711.25   \n",
       "1976            1440.207       6529.41      2512.70       6031.49   \n",
       "989             1400.352       5605.80      3600.40       4310.88   \n",
       "\n",
       "      Schluss Tec DAX  Schluss NASDAQ 100  Schluss Nikkei  Schluss Hang Seng  \\\n",
       "501            599.10            1589.630        12834.25           15086.62   \n",
       "3745          2920.93           13267.604        24790.95           20741.04   \n",
       "2486          1729.78            4296.299        18299.62           21562.50   \n",
       "1976           927.39            2807.300        12381.19           22619.18   \n",
       "989            716.22            1761.050        11964.16           21384.61   \n",
       "\n",
       "      Schluss SHANGHAI STOCK EXCHANGE B SHARES  Schluss Emerging Markets  \\\n",
       "501                                     68.940                   635.550   \n",
       "3745                                   273.716                  1096.047   \n",
       "2486                                   303.544                   804.157   \n",
       "1976                                   262.874                  1047.698   \n",
       "989                                    245.681                  1065.940   \n",
       "\n",
       "      Schluss Bovespa       DAX  EURO STOXX 50  Dow Jones       SMI  \\\n",
       "501         29049.990  0.179616       0.555438   0.130787  0.299287   \n",
       "3745       111239.360  0.751569       0.616137   0.862043  0.788541   \n",
       "2486        46503.994  0.562293       0.512423   0.322327  0.530843   \n",
       "1976        57281.020  0.406885       0.338522   0.263024  0.424982   \n",
       "989         61932.700  0.286652       0.635617   0.191961  0.331216   \n",
       "\n",
       "      MSCI World      FTSE       ATX      SDAX   Tec DAX  NASDAQ 100  \\\n",
       "501     0.205879  0.430147  0.589480  0.159055  0.074117    0.036903   \n",
       "3745    0.824018  0.809061  0.476067  0.724661  0.712468    0.791667   \n",
       "2486    0.365998  0.619617  0.294723  0.446410  0.384980    0.211838   \n",
       "1976    0.293641  0.707179  0.355389  0.275920  0.164375    0.115602   \n",
       "989     0.278070  0.490709  0.640561  0.166453  0.106317    0.047982   \n",
       "\n",
       "        Nikkei  Hang Seng  SHANGHAI STOCK EXCHANGE B SHARES  Emerging Markets  \\\n",
       "501   0.244728   0.269548                          0.036307          0.313781   \n",
       "3745  0.751043   0.498686                          0.458741          0.711530   \n",
       "2486  0.476163   0.531974                          0.520273          0.459413   \n",
       "1976  0.225542   0.574795                          0.436375          0.669769   \n",
       "989   0.207883   0.524765                          0.400907          0.685525   \n",
       "\n",
       "       Bovespa  \n",
       "501   0.150329  \n",
       "3745  0.836817  \n",
       "2486  0.296114  \n",
       "1976  0.386129  \n",
       "989   0.424982  "
      ]
     },
     "metadata": {},
     "output_type": "display_data"
    }
   ],
   "source": [
    "scaler = MinMaxScaler()\n",
    "scaler.fit(X_train)\n",
    "IndexListe= [\"DAX\", \"EURO STOXX 50\", \"Dow Jones\",  \"SMI\", \"MSCI World\", \"FTSE\", \"ATX\", \"SDAX\", \"Tec DAX\", \"NASDAQ 100\", \"Nikkei\", \"Hang Seng\", \"SHANGHAI STOCK EXCHANGE B SHARES\", \"Emerging Markets\", \"Bovespa\"]\n",
    "scaled = scaler.transform(X_train)\n",
    "for i, col in enumerate(IndexListe):\n",
    "    X_train[col] = scaled[:,i]\n",
    "\n",
    "scaled_test = scaler.transform(X_test)\n",
    "\n",
    "print('Vor dem Scaling:')\n",
    "display(X_test.head())\n",
    "\n",
    "for i, col in enumerate(IndexListe):\n",
    "    X_test[col] = scaled_test[:,i]\n",
    "\n",
    "print('\\nNach dem Scaling:')\n",
    "display(X_test.head())\n",
    "\n",
    "\n"
   ]
  },
  {
   "cell_type": "code",
   "execution_count": 21,
   "metadata": {
    "pycharm": {
     "name": "#%%\n"
    }
   },
   "outputs": [
    {
     "data": {
      "text/plain": [
       "array([190.        ,   4.        ,  22.        ,  10.        ,\n",
       "         9.        ,  60.        ,   2.        ,   3.        ,\n",
       "         4.        ,   4.        ,   4.        ,   1.        ,\n",
       "         8.45361421,   8.63799389,   3.        ,   3.        ,\n",
       "         3.        ,   5.        ,   5.        ,   3.        ,\n",
       "         4.        ,   2.        ,   5.74620319])"
      ]
     },
     "execution_count": 21,
     "metadata": {},
     "output_type": "execute_result"
    }
   ],
   "source": [
    "# explore maximum values of variables\n",
    "scaler.data_max_\n"
   ]
  },
  {
   "cell_type": "code",
   "execution_count": 22,
   "metadata": {
    "pycharm": {
     "name": "#%%\n"
    }
   },
   "outputs": [
    {
     "data": {
      "text/plain": [
       "array([20.        ,  0.        ,  0.        ,  1.        ,  1.        ,\n",
       "       -1.        ,  0.        ,  0.        ,  0.        ,  0.        ,\n",
       "        0.        ,  0.        ,  5.81114099,  5.81114099,  0.        ,\n",
       "        0.        ,  0.        ,  0.        ,  0.        ,  0.        ,\n",
       "        0.        ,  0.        ,  3.04452244])"
      ]
     },
     "execution_count": 22,
     "metadata": {},
     "output_type": "execute_result"
    }
   ],
   "source": [
    "# explore minimum values of variables\n",
    "scaler.data_min_\n"
   ]
  },
  {
   "cell_type": "code",
   "execution_count": 73,
   "metadata": {
    "pycharm": {
     "name": "#%%\n"
    }
   },
   "outputs": [
    {
     "ename": "NameError",
     "evalue": "name 'features' is not defined",
     "output_type": "error",
     "traceback": [
      "\u001b[1;31m---------------------------------------------------------------------------\u001b[0m",
      "\u001b[1;31mNameError\u001b[0m                                 Traceback (most recent call last)",
      "Input \u001b[1;32mIn [73]\u001b[0m, in \u001b[0;36m<cell line: 2>\u001b[1;34m()\u001b[0m\n\u001b[0;32m      1\u001b[0m \u001b[38;5;66;03m# transform the train and test set, and add on the Id and SalePrice variables\u001b[39;00m\n\u001b[1;32m----> 2\u001b[0m X_train \u001b[38;5;241m=\u001b[39m scaler\u001b[38;5;241m.\u001b[39mtransform(X_train[\u001b[43mfeatures\u001b[49m])\n\u001b[0;32m      3\u001b[0m X_test \u001b[38;5;241m=\u001b[39m scaler\u001b[38;5;241m.\u001b[39mtransform(X_test[features])\n",
      "\u001b[1;31mNameError\u001b[0m: name 'features' is not defined"
     ]
    }
   ],
   "source": [
    "# transform the train and test set, and add on the Id and SalePrice variables\n",
    "X_train = scaler.transform(X_train[features])\n",
    "X_test = scaler.transform(X_test[features])\n"
   ]
  },
  {
   "cell_type": "markdown",
   "metadata": {
    "pycharm": {
     "name": "#%% md\n"
    }
   },
   "source": [
    "## Train the Linear Regression: Lasso"
   ]
  },
  {
   "cell_type": "code",
   "execution_count": 76,
   "metadata": {
    "pycharm": {
     "name": "#%%\n"
    }
   },
   "outputs": [],
   "source": [
    "# set up the model\n",
    "# remember to set the random_state / seed\n",
    "\n",
    "lin_model = Lasso(alpha=0.005, random_state=0)\n",
    "\n",
    "# train the model\n",
    "lin_model.fit(X_train, y_train)\n",
    "\n",
    "# we persist the model for future use\n",
    "#joblib.dump(lin_model, 'lasso_regression.pkl')\n",
    "\n",
    "from sklearn.linear_model import LinearRegression\n",
    "from sklearn.linear_model import Ridge\n",
    "from sklearn.linear_model import BayesianRidge\n",
    "import xgboost as xgb\n",
    "from sklearn.linear_model import Lasso\n",
    "from sklearn.linear_model import LassoLars\n",
    "from sklearn.neighbors import KNeighborsRegressor\n",
    "from sklearn.tree import DecisionTreeRegressor\n",
    "from sklearn.ensemble import RandomForestRegressor\n",
    "\n",
    "# Wir kreiren hier einen Benchmarkregressor, welcher den Durchschnittswert unseres Trainingsamples als Vorhersage nimmt.\n",
    "class BenchmarkRegressor:\n",
    "    def __init__(self):\n",
    "        pass\n",
    "    \n",
    "    def fit(self, X, y, **kwargs):\n",
    "        self.mean = y.mean()\n",
    "        \n",
    "    def predict(self, X):\n",
    "        return [self.mean] * len(X)\n",
    "    \n",
    "    def get_params(self, deep=False):\n",
    "        return {}\n",
    "\n",
    "\n",
    "bm_regr = BenchmarkRegressor()\n",
    "lr_regr = LinearRegression()\n",
    "ri_regr = Ridge()\n",
    "br_regr = BayesianRidge()\n",
    "ls_regr = Lasso()\n",
    "ll_regr = LassoLars()\n",
    "ne_regr = KNeighborsRegressor()\n",
    "dt_regr = DecisionTreeRegressor()\n",
    "rf_regr = RandomForestRegressor()\n",
    "xg_regr = xgb.XGBRegressor()\n",
    "\n",
    "# Liste mit dem Namen der Modelle und dem Modell selbst, dies erwartet das Pipeline Objekt von SKLearn anschliesssend als Input.\n",
    "models = [\n",
    "    ('Benchmark', bm_regr),\n",
    "    ('LR', lr_regr),\n",
    "    ('Ridge', ri_regr),\n",
    "    ('Bayesian Ridge', br_regr),\n",
    "    ('Lasso', ls_regr),\n",
    "    ('LARS Lasso', ll_regr),\n",
    "    ('Nearest Neighbors (KNN) regression', ne_regr),\n",
    "    ('Decision Tree', dt_regr),\n",
    "    ('Random Forest', rf_regr),\n",
    "    ('XGBoost', xg_regr),\n",
    "]\n",
    "\n"
   ]
  },
  {
   "cell_type": "code",
   "execution_count": 75,
   "metadata": {
    "pycharm": {
     "name": "#%%\n"
    }
   },
   "outputs": [
    {
     "name": "stdout",
     "output_type": "stream",
     "text": [
      "Model:  Benchmark  | EVS:  0.0\n",
      "Model:  Benchmark  | ME:  7633.753077375697\n",
      "Model:  Benchmark  | MAE:  3124.499572625624\n",
      "Model:  Benchmark  | MSE  3517.107573212976\n",
      "Model:  Benchmark  | RMSE  59.305206965434124\n",
      "Model:  Benchmark  | R2  -0.004244627664381939\n",
      "----------------\n",
      "Model:  LR  | EVS:  0.9634869719118642\n",
      "Model:  LR  | ME:  2088.404008786675\n",
      "Model:  LR  | MAE:  580.6505353071922\n",
      "Model:  LR  | MSE  671.4728993108829\n",
      "Model:  LR  | RMSE  25.912794123962836\n",
      "Model:  LR  | R2  0.9633962827389169\n",
      "----------------\n",
      "Model:  Ridge  | EVS:  0.9634869719118087\n",
      "Model:  Ridge  | ME:  2088.4040087426065\n",
      "Model:  Ridge  | MAE:  580.6505353072744\n",
      "Model:  Ridge  | MSE  671.4728993113093\n",
      "Model:  Ridge  | RMSE  25.912794123971064\n",
      "Model:  Ridge  | R2  0.9633962827388705\n",
      "----------------\n",
      "Model:  Bayesian Ridge  | EVS:  0.9634862780432609\n",
      "Model:  Bayesian Ridge  | ME:  2087.8552117557856\n",
      "Model:  Bayesian Ridge  | MAE:  580.6514288517786\n",
      "Model:  Bayesian Ridge  | MSE  671.4782300205272\n",
      "Model:  Bayesian Ridge  | RMSE  25.91289698240101\n",
      "Model:  Bayesian Ridge  | R2  0.9633957015551838\n",
      "----------------\n",
      "Model:  Lasso  | EVS:  0.9634869710351316\n",
      "Model:  Lasso  | ME:  2088.403151865453\n",
      "Model:  Lasso  | MAE:  580.6505418317619\n",
      "Model:  Lasso  | MSE  671.472906025441\n",
      "Model:  Lasso  | RMSE  25.91279425352351\n",
      "Model:  Lasso  | R2  0.9633962820068612\n",
      "----------------\n",
      "Model:  LARS Lasso  | EVS:  0.9622247325213296\n",
      "Model:  LARS Lasso  | ME:  1930.4983006320517\n",
      "Model:  LARS Lasso  | MAE:  589.5546401136825\n",
      "Model:  LARS Lasso  | MSE  682.5607796890516\n",
      "Model:  LARS Lasso  | RMSE  26.125864190281852\n",
      "Model:  LARS Lasso  | R2  0.9621774441034923\n",
      "----------------\n",
      "Model:  Nearest Neighbors (KNN) regression  | EVS:  0.9970140803324098\n",
      "Model:  Nearest Neighbors (KNN) regression  | ME:  881.2120000000014\n",
      "Model:  Nearest Neighbors (KNN) regression  | MAE:  129.1794391534391\n",
      "Model:  Nearest Neighbors (KNN) regression  | MSE  191.9452819023469\n",
      "Model:  Nearest Neighbors (KNN) regression  | RMSE  13.854431850579326\n",
      "Model:  Nearest Neighbors (KNN) regression  | R2  0.9970089539701842\n",
      "----------------\n",
      "Model:  Decision Tree  | EVS:  0.9952732812974674\n",
      "Model:  Decision Tree  | ME:  1335.3500000000004\n",
      "Model:  Decision Tree  | MAE:  141.2694444444445\n",
      "Model:  Decision Tree  | MSE  242.17787483484904\n",
      "Model:  Decision Tree  | RMSE  15.56206524966558\n",
      "Model:  Decision Tree  | R2  0.9952385728791431\n",
      "----------------\n",
      "Model:  Random Forest  | EVS:  0.9974516177888313\n",
      "Model:  Random Forest  | ME:  909.268100000002\n",
      "Model:  Random Forest  | MAE:  119.18558148148132\n",
      "Model:  Random Forest  | MSE  177.22192473754484\n",
      "Model:  Random Forest  | RMSE  13.312472525325445\n",
      "Model:  Random Forest  | R2  0.9974502176440968\n",
      "----------------\n",
      "Model:  XGBoost  | EVS:  0.9959389371335663\n",
      "Model:  XGBoost  | ME:  1031.7566015624998\n",
      "Model:  XGBoost  | MAE:  157.8246616908482\n",
      "Model:  XGBoost  | MSE  223.76538146830103\n",
      "Model:  XGBoost  | RMSE  14.958789438597664\n",
      "Model:  XGBoost  | R2  0.9959350612147716\n",
      "----------------\n"
     ]
    }
   ],
   "source": [
    "from sklearn.metrics import explained_variance_score\n",
    "from sklearn.metrics import max_error\n",
    "from sklearn.metrics import mean_squared_error\n",
    "from sklearn.metrics import mean_absolute_error\n",
    "from sklearn.metrics import r2_score\n",
    "from sklearn.decomposition import PCA\n",
    "from sklearn.pipeline import FeatureUnion, Pipeline\n",
    "\n",
    "\n",
    "for name, model in models:\n",
    "    pipelined_model = Pipeline([ \n",
    "                                 ('pca', PCA(n_components = 3)), \n",
    "                                 (name, model)\n",
    "                            ])\n",
    "    \n",
    "    # Training des Models\n",
    "    pipelined_model.fit(X_train, y_train)\n",
    "    \n",
    "    # Vorhersage des trainierten models auf X_test\n",
    "    y_hat = pipelined_model.predict(X_test)\n",
    "    \n",
    "    # Berechnung der verschiedenen Messwerte resp. KPI's\n",
    "    EVS = (explained_variance_score(y_test, y_hat))\n",
    "    ME = (max_error(y_test, y_hat))\n",
    "    MAE = (mean_absolute_error(y_test, y_hat))\n",
    "    MSE = np.sqrt(mean_squared_error(y_test, y_hat, squared=True))\n",
    "    RMSE = np.sqrt(mean_squared_error(y_test, y_hat, squared=False))\n",
    "    R2 = r2_score(y_test, y_hat)\n",
    "    print('Model: ', name, ' | EVS: ', EVS)\n",
    "    print('Model: ', name, ' | ME: ', ME)\n",
    "    print('Model: ', name, ' | MAE: ', MAE)\n",
    "    print('Model: ', name, ' | MSE ', MSE)\n",
    "    print('Model: ', name, ' | RMSE ', RMSE)\n",
    "    print('Model: ', name, ' | R2 ', R2)\n",
    "    print('----------------')\n",
    " "
   ]
  },
  {
   "cell_type": "code",
   "execution_count": 89,
   "metadata": {
    "pycharm": {
     "name": "#%%\n"
    }
   },
   "outputs": [
    {
     "name": "stdout",
     "output_type": "stream",
     "text": [
      "Satisfaction predictions\n",
      "R2:  0.9996739534973563\n",
      "R2 for predictions:  0.999705935568188\n",
      "Model:  XGBoost  | EVS:  0.9959389371335663\n",
      "Model:  XGBoost  | ME:  1031.7566015624998\n",
      "Model:  XGBoost  | MAE:  157.8246616908482\n",
      "Model:  XGBoost  | MSE  223.76538146830103\n",
      "Model:  XGBoost  | RMSE  14.958789438597664\n",
      "----------------\n",
      "Time:  5.486854314804077\n"
     ]
    },
    {
     "data": {
      "image/png": "[encoded data removed]",
      "text/plain": [
       "<Figure size 432x288 with 1 Axes>"
      ]
     },
     "metadata": {
      "needs_background": "light"
     },
     "output_type": "display_data"
    }
   ],
   "source": [
    "start = time.time()\n",
    "\n",
    "from sklearn.neural_network import MLPRegressor\n",
    "import time\n",
    "\n",
    "nn_sat = MLPRegressor(hidden_layer_sizes = (15,15) ,max_iter=400).fit(X_train,y_train)\n",
    "print('Satisfaction predictions')\n",
    "print('R2: ', nn_sat.score(X_train,y_train))\n",
    "plt.plot(nn_sat.loss_curve_)\n",
    "\n",
    "predictions_nn_sat = nn_sat.predict(X_test)\n",
    "print('R2 for predictions: ', nn_sat.score(X_test, y_test))\n",
    "EVS = (explained_variance_score(y_test, y_hat))\n",
    "ME = (max_error(y_test, y_hat))\n",
    "MAE = (mean_absolute_error(y_test, y_hat))\n",
    "MSE = np.sqrt(mean_squared_error(y_test, y_hat, squared=True))\n",
    "RMSE = np.sqrt(mean_squared_error(y_test, y_hat, squared=False))\n",
    "print('Model: ', name, ' | EVS: ', EVS)\n",
    "print('Model: ', name, ' | ME: ', ME)\n",
    "print('Model: ', name, ' | MAE: ', MAE)\n",
    "print('Model: ', name, ' | MSE ', MSE)\n",
    "print('Model: ', name, ' | RMSE ', RMSE)\n",
    "print('----------------')\n",
    "\n",
    "end = time.time()\n",
    "print('Time: ', end - start)"
   ]
  },
  {
   "cell_type": "code",
   "execution_count": 82,
   "metadata": {
    "pycharm": {
     "name": "#%%\n"
    }
   },
   "outputs": [
    {
     "name": "stdout",
     "output_type": "stream",
     "text": [
      "Standard deviation:  29.789525135587837\n"
     ]
    }
   ],
   "source": [
    "std_nn = np.sqrt(sum((predictions_nn_sat - y_test)**2)/len(y_test))\n",
    "print('Standard deviation: ', std_nn)"
   ]
  },
  {
   "cell_type": "code",
   "execution_count": 88,
   "metadata": {
    "pycharm": {
     "name": "#%%\n"
    }
   },
   "outputs": [
    {
     "name": "stdout",
     "output_type": "stream",
     "text": [
      "[ 4871.31518359 12810.24201798 10224.19174255  8017.63128802\n",
      "  6442.44548812 15662.14787482  7584.26039368 10498.93455602\n",
      "  6957.87943976  5607.70951461  6025.08926026  4262.70854944\n",
      " 13922.39562202  9512.05038108  7210.67140812  6217.36950223\n",
      "  6853.43940196 13096.04990724 10001.90471561 10594.86983116\n",
      "  5402.58892554  7939.09218708 12550.66577337 10018.01040658\n",
      "  5422.49112579 13848.08279167  7472.40897688 12622.30178527\n",
      " 12963.12078388  4922.50702708  3818.9432159  15925.43019253\n",
      "  9758.50232609  3856.37033877  3243.0058458   7052.96156221\n",
      " 13434.27036302 12075.05362344  4599.77897317  5278.23755666\n",
      "  5243.91489942  3661.78501047  6503.94256673 13108.25062136\n",
      "  6898.19385686  8966.66438667  7063.81727831  4832.89078149\n",
      "  5147.3701857   7613.15874104  9447.22572342  4704.87117478\n",
      "  5509.49165506  9045.91257171  5859.266787    6853.16517232\n",
      " 12860.69954628 12631.34249655  5858.63178781 15725.59174839\n",
      "  4609.55486241 13442.23433581  7429.25774074 12370.59447381\n",
      "  4974.47991654  6143.86652519  6445.14150959 10926.65067208\n",
      " 11315.97564627  6728.67527279  7516.82323751  4239.38844373\n",
      " 11992.8064734  12251.10359381  5795.87651729 12198.33456966\n",
      " 11441.25655866  7666.24292811  2891.14314435  5993.06300892\n",
      " 10085.77993228  5957.25547875  4782.08122814  6223.76349106\n",
      " 10728.07386725 14081.06487102  5283.25582104  6509.64574277\n",
      "  6254.81848852 11328.2305155   9637.7425574  11772.03166024\n",
      " 12325.71208472 12076.05464927  7755.37898303  5654.62947327\n",
      "  4106.60733983 11388.25102361  6297.621088    6858.98637474\n",
      "  7137.21443535 12218.90441641 13309.99754423 10545.66490486\n",
      "  5907.18361143  5957.26700368 10837.27740359 12662.67311247\n",
      "  6963.20725914  4857.96786617  9614.57063007  6802.5439035\n",
      " 12505.08449477 12561.54629043  3634.89747028 13253.95597858\n",
      "  9659.49762101 10155.95383122  6165.90250422  8002.91067641\n",
      "  5335.77069974 11728.55127461  5833.19885991 13296.09644085\n",
      "  3485.11802614  7817.69938033  4714.89296296  3854.29063107\n",
      " 10141.01796139 10819.93847201  3074.39021498  7540.87788891\n",
      "  6070.04847992 12464.35970377  6935.46272727 12205.08694982\n",
      " 10633.5738895   6445.5986345   4937.23708904  4381.01395859\n",
      "  7397.48453767 11590.43514472  9793.91346205 10926.82739147\n",
      "  4692.73525385  4946.71872876  6205.26131218  7816.53159533\n",
      "  3538.02764529 10762.49447946  6544.30757761  5283.18001085\n",
      " 13226.36624936 12505.55232029  7522.08974104  8321.85584069\n",
      " 10857.27906545 12862.13227944  4094.45995507  4998.02495378\n",
      "  4075.36412154 10667.56771359 13000.59254706  4882.40018419\n",
      " 15966.18196648  4805.71080973  5905.10760639 11998.2135488\n",
      "  4401.34783534  7277.07520537  5552.62049827  6969.86246162\n",
      " 13163.67168385  7593.50920778  9959.90707185  2695.32814934\n",
      "  9402.40637586  5954.9911342  13982.71408743  5659.53642422\n",
      "  6447.21577774  4936.97577218 12476.43399357  6050.29454105\n",
      "  9149.96752155 11330.31924785 15401.79515803 12876.98132659\n",
      " 12590.97334245 11970.92647931 11808.0358463   8627.00817246\n",
      " 10097.64606374 11014.58918377 13992.26236751 11369.41601879\n",
      " 13146.24243473 12444.21303083 13041.7868935   4496.47408213\n",
      "  3771.59233815 13397.3491421   6941.63174074  5576.96416268\n",
      " 12796.76319858  5854.31643766  6801.53340171  5441.98988889\n",
      "  5774.27011325  4828.27128966 10617.87963219 11221.61115931\n",
      "  5582.05560455  7004.07186711  6617.04286614  5866.54733612\n",
      "  7022.46430956  8310.94771288 13154.1888344   7276.78810961\n",
      " 13262.7617363   5633.43633127  9291.4347163   9422.81795423\n",
      "  4072.33479349 11304.11012047  4470.25429546  5320.88048665\n",
      "  7631.7322763   3716.11966721  5677.49002174 10541.31436036\n",
      " 12196.05201071 12640.26569903  5828.96509995 15517.75518276\n",
      "  5435.69429525  7976.78572427 12677.32584354 15990.83812847\n",
      " 15978.14775679  5646.51988723  6860.15725031 12770.13011867\n",
      " 14053.59155897 16175.50220151  6896.84681682  5325.72860677\n",
      " 12380.36784161 11545.693235    7835.8481589  12292.50212784\n",
      "  4845.13273323  5933.38696544  6796.6834626  12155.28007673\n",
      "  7728.46024776 15315.9613748  13250.26755887  9474.05331228\n",
      "  6390.74966666 12701.31928765 12703.89162369 12636.4945578\n",
      "  3759.52031784  3747.66256483  6491.18905797 11435.28973197\n",
      "  4879.08887696 15202.07928989 12105.41002382  5497.190046\n",
      " 12434.20983169 12793.48923846 11472.00564383  4387.63289509\n",
      " 10892.79564996 12854.25588874  6371.95225539  5488.38419663\n",
      "  9410.38849937 11225.32138437 13302.2907715  15556.00586185\n",
      " 11522.44756008  6552.19276508 15805.14191944  6239.21483824\n",
      "  9772.93594948  5627.85874009  6580.57411994  5066.17735597\n",
      " 10753.16264896 15463.55237314 10172.79993795  3993.52176752\n",
      "  4239.75850947  7714.64197405  9360.06521877  4092.90268309\n",
      "  3530.97335299  5494.93296925  4904.41981225 13481.48657044\n",
      " 12974.34116808 12528.43033746  4420.61944012  4083.30596117\n",
      " 14363.37474754  9995.24121468  8308.69908501 15466.06706839\n",
      "  9662.31545627  6652.41771606 12640.7771065   5957.77906667\n",
      " 13053.17397731 12972.99844157 10109.27803231 11444.78171997\n",
      "  6396.70374408 12681.54537985  9595.32507134  9699.53146341\n",
      "  7202.13472414  7628.0325122   5947.10081527  4997.46734566\n",
      "  4041.83597294 11566.38296896 13008.5771063   5465.4540133\n",
      " 13291.58653236  4320.89707667 14604.04532191  8363.11959681\n",
      " 13359.69384005  4106.93913138  9743.75499207  5336.44716861\n",
      " 10381.71571206  9244.11644773 13222.30385066  6249.87825284\n",
      " 11020.91532496  4004.16470872 15518.58232281  2822.71472458\n",
      "  4478.6147901  13798.18544052  3763.43559272  3902.02189252\n",
      "  7477.12242914  9122.22495071  7617.80099881  7545.67528653\n",
      " 11723.33584623  3814.83448625 10028.11439331  9029.85473873\n",
      " 12990.44413986 11941.02094107 15558.41156066 12234.3024793\n",
      "  6102.72753954  7878.30597546  5389.02290861  5529.33190809\n",
      "  6931.86523696 12027.89486303 11217.48819901  7249.64069837\n",
      " 12228.74704002 11242.93679259  4686.93024436  5624.26526878\n",
      "  5805.71783659  4824.22822577]\n",
      "501      4911.17\n",
      "3745    12831.51\n",
      "2486    10210.44\n",
      "1976     8058.37\n",
      "989      6393.39\n",
      "          ...   \n",
      "3388    11223.71\n",
      "467      4784.50\n",
      "675      5628.37\n",
      "688      5813.06\n",
      "482      4953.93\n",
      "Name: Schluss DAX, Length: 378, dtype: float64\n",
      "12810.242017981354\n",
      "12831.51\n"
     ]
    }
   ],
   "source": [
    "print(predictions_nn_sat)\n",
    "print(y_test)\n",
    "\n",
    "print(predictions_nn_sat[1])\n",
    "print(y_test[3745])\n"
   ]
  },
  {
   "cell_type": "code",
   "execution_count": 77,
   "metadata": {
    "pycharm": {
     "name": "#%%\n"
    }
   },
   "outputs": [
    {
     "ename": "ValueError",
     "evalue": "Input contains NaN, infinity or a value too large for dtype('float64').",
     "output_type": "error",
     "traceback": [
      "\u001b[1;31m---------------------------------------------------------------------------\u001b[0m",
      "\u001b[1;31mValueError\u001b[0m                                Traceback (most recent call last)",
      "Input \u001b[1;32mIn [77]\u001b[0m, in \u001b[0;36m<cell line: 22>\u001b[1;34m()\u001b[0m\n\u001b[0;32m     15\u001b[0m pred \u001b[38;5;241m=\u001b[39m lin_model\u001b[38;5;241m.\u001b[39mpredict(X_train)\n\u001b[0;32m     17\u001b[0m \u001b[38;5;66;03m# determine mse and rmse\u001b[39;00m\n\u001b[0;32m     18\u001b[0m \u001b[38;5;66;03m#print('train mse: {}'.format(int(\u001b[39;00m\n\u001b[0;32m     19\u001b[0m \u001b[38;5;66;03m#    mean_squared_error(np.exp(y_train), np.exp(pred)))))\u001b[39;00m\n\u001b[0;32m     20\u001b[0m \u001b[38;5;66;03m#print('train rmse: {}'.format(int(\u001b[39;00m\n\u001b[0;32m     21\u001b[0m \u001b[38;5;66;03m#    sqrt(mean_squared_error(np.exp(y_train), np.exp(pred))))))\u001b[39;00m\n\u001b[0;32m     22\u001b[0m \u001b[38;5;28mprint\u001b[39m(\u001b[38;5;124m'\u001b[39m\u001b[38;5;124mtrain r2: \u001b[39m\u001b[38;5;132;01m{}\u001b[39;00m\u001b[38;5;124m'\u001b[39m\u001b[38;5;241m.\u001b[39mformat(\n\u001b[1;32m---> 23\u001b[0m     \u001b[43mr2_score\u001b[49m\u001b[43m(\u001b[49m\u001b[43mnp\u001b[49m\u001b[38;5;241;43m.\u001b[39;49m\u001b[43mexp\u001b[49m\u001b[43m(\u001b[49m\u001b[43my_train\u001b[49m\u001b[43m)\u001b[49m\u001b[43m,\u001b[49m\u001b[43m \u001b[49m\u001b[43mnp\u001b[49m\u001b[38;5;241;43m.\u001b[39;49m\u001b[43mexp\u001b[49m\u001b[43m(\u001b[49m\u001b[43mpred\u001b[49m\u001b[43m)\u001b[49m\u001b[43m)\u001b[49m))\n\u001b[0;32m     24\u001b[0m \u001b[38;5;28mprint\u001b[39m()\n\u001b[0;32m     26\u001b[0m \u001b[38;5;66;03m# make predictions for test set\u001b[39;00m\n",
      "File \u001b[1;32m~\\anaconda3\\lib\\site-packages\\sklearn\\metrics\\_regression.py:789\u001b[0m, in \u001b[0;36mr2_score\u001b[1;34m(y_true, y_pred, sample_weight, multioutput)\u001b[0m\n\u001b[0;32m    702\u001b[0m \u001b[38;5;28;01mdef\u001b[39;00m \u001b[38;5;21mr2_score\u001b[39m(y_true, y_pred, \u001b[38;5;241m*\u001b[39m, sample_weight\u001b[38;5;241m=\u001b[39m\u001b[38;5;28;01mNone\u001b[39;00m, multioutput\u001b[38;5;241m=\u001b[39m\u001b[38;5;124m\"\u001b[39m\u001b[38;5;124muniform_average\u001b[39m\u001b[38;5;124m\"\u001b[39m):\n\u001b[0;32m    703\u001b[0m     \u001b[38;5;124;03m\"\"\":math:`R^2` (coefficient of determination) regression score function.\u001b[39;00m\n\u001b[0;32m    704\u001b[0m \n\u001b[0;32m    705\u001b[0m \u001b[38;5;124;03m    Best possible score is 1.0 and it can be negative (because the\u001b[39;00m\n\u001b[1;32m   (...)\u001b[0m\n\u001b[0;32m    787\u001b[0m \u001b[38;5;124;03m    -3.0\u001b[39;00m\n\u001b[0;32m    788\u001b[0m \u001b[38;5;124;03m    \"\"\"\u001b[39;00m\n\u001b[1;32m--> 789\u001b[0m     y_type, y_true, y_pred, multioutput \u001b[38;5;241m=\u001b[39m \u001b[43m_check_reg_targets\u001b[49m\u001b[43m(\u001b[49m\n\u001b[0;32m    790\u001b[0m \u001b[43m        \u001b[49m\u001b[43my_true\u001b[49m\u001b[43m,\u001b[49m\u001b[43m \u001b[49m\u001b[43my_pred\u001b[49m\u001b[43m,\u001b[49m\u001b[43m \u001b[49m\u001b[43mmultioutput\u001b[49m\n\u001b[0;32m    791\u001b[0m \u001b[43m    \u001b[49m\u001b[43m)\u001b[49m\n\u001b[0;32m    792\u001b[0m     check_consistent_length(y_true, y_pred, sample_weight)\n\u001b[0;32m    794\u001b[0m     \u001b[38;5;28;01mif\u001b[39;00m _num_samples(y_pred) \u001b[38;5;241m<\u001b[39m \u001b[38;5;241m2\u001b[39m:\n",
      "File \u001b[1;32m~\\anaconda3\\lib\\site-packages\\sklearn\\metrics\\_regression.py:95\u001b[0m, in \u001b[0;36m_check_reg_targets\u001b[1;34m(y_true, y_pred, multioutput, dtype)\u001b[0m\n\u001b[0;32m     61\u001b[0m \u001b[38;5;124;03m\"\"\"Check that y_true and y_pred belong to the same regression task.\u001b[39;00m\n\u001b[0;32m     62\u001b[0m \n\u001b[0;32m     63\u001b[0m \u001b[38;5;124;03mParameters\u001b[39;00m\n\u001b[1;32m   (...)\u001b[0m\n\u001b[0;32m     92\u001b[0m \u001b[38;5;124;03m    the dtype argument passed to check_array.\u001b[39;00m\n\u001b[0;32m     93\u001b[0m \u001b[38;5;124;03m\"\"\"\u001b[39;00m\n\u001b[0;32m     94\u001b[0m check_consistent_length(y_true, y_pred)\n\u001b[1;32m---> 95\u001b[0m y_true \u001b[38;5;241m=\u001b[39m \u001b[43mcheck_array\u001b[49m\u001b[43m(\u001b[49m\u001b[43my_true\u001b[49m\u001b[43m,\u001b[49m\u001b[43m \u001b[49m\u001b[43mensure_2d\u001b[49m\u001b[38;5;241;43m=\u001b[39;49m\u001b[38;5;28;43;01mFalse\u001b[39;49;00m\u001b[43m,\u001b[49m\u001b[43m \u001b[49m\u001b[43mdtype\u001b[49m\u001b[38;5;241;43m=\u001b[39;49m\u001b[43mdtype\u001b[49m\u001b[43m)\u001b[49m\n\u001b[0;32m     96\u001b[0m y_pred \u001b[38;5;241m=\u001b[39m check_array(y_pred, ensure_2d\u001b[38;5;241m=\u001b[39m\u001b[38;5;28;01mFalse\u001b[39;00m, dtype\u001b[38;5;241m=\u001b[39mdtype)\n\u001b[0;32m     98\u001b[0m \u001b[38;5;28;01mif\u001b[39;00m y_true\u001b[38;5;241m.\u001b[39mndim \u001b[38;5;241m==\u001b[39m \u001b[38;5;241m1\u001b[39m:\n",
      "File \u001b[1;32m~\\anaconda3\\lib\\site-packages\\sklearn\\utils\\validation.py:800\u001b[0m, in \u001b[0;36mcheck_array\u001b[1;34m(array, accept_sparse, accept_large_sparse, dtype, order, copy, force_all_finite, ensure_2d, allow_nd, ensure_min_samples, ensure_min_features, estimator)\u001b[0m\n\u001b[0;32m    794\u001b[0m         \u001b[38;5;28;01mraise\u001b[39;00m \u001b[38;5;167;01mValueError\u001b[39;00m(\n\u001b[0;32m    795\u001b[0m             \u001b[38;5;124m\"\u001b[39m\u001b[38;5;124mFound array with dim \u001b[39m\u001b[38;5;132;01m%d\u001b[39;00m\u001b[38;5;124m. \u001b[39m\u001b[38;5;132;01m%s\u001b[39;00m\u001b[38;5;124m expected <= 2.\u001b[39m\u001b[38;5;124m\"\u001b[39m\n\u001b[0;32m    796\u001b[0m             \u001b[38;5;241m%\u001b[39m (array\u001b[38;5;241m.\u001b[39mndim, estimator_name)\n\u001b[0;32m    797\u001b[0m         )\n\u001b[0;32m    799\u001b[0m     \u001b[38;5;28;01mif\u001b[39;00m force_all_finite:\n\u001b[1;32m--> 800\u001b[0m         \u001b[43m_assert_all_finite\u001b[49m\u001b[43m(\u001b[49m\u001b[43marray\u001b[49m\u001b[43m,\u001b[49m\u001b[43m \u001b[49m\u001b[43mallow_nan\u001b[49m\u001b[38;5;241;43m=\u001b[39;49m\u001b[43mforce_all_finite\u001b[49m\u001b[43m \u001b[49m\u001b[38;5;241;43m==\u001b[39;49m\u001b[43m \u001b[49m\u001b[38;5;124;43m\"\u001b[39;49m\u001b[38;5;124;43mallow-nan\u001b[39;49m\u001b[38;5;124;43m\"\u001b[39;49m\u001b[43m)\u001b[49m\n\u001b[0;32m    802\u001b[0m \u001b[38;5;28;01mif\u001b[39;00m ensure_min_samples \u001b[38;5;241m>\u001b[39m \u001b[38;5;241m0\u001b[39m:\n\u001b[0;32m    803\u001b[0m     n_samples \u001b[38;5;241m=\u001b[39m _num_samples(array)\n",
      "File \u001b[1;32m~\\anaconda3\\lib\\site-packages\\sklearn\\utils\\validation.py:114\u001b[0m, in \u001b[0;36m_assert_all_finite\u001b[1;34m(X, allow_nan, msg_dtype)\u001b[0m\n\u001b[0;32m    107\u001b[0m     \u001b[38;5;28;01mif\u001b[39;00m (\n\u001b[0;32m    108\u001b[0m         allow_nan\n\u001b[0;32m    109\u001b[0m         \u001b[38;5;129;01mand\u001b[39;00m np\u001b[38;5;241m.\u001b[39misinf(X)\u001b[38;5;241m.\u001b[39many()\n\u001b[0;32m    110\u001b[0m         \u001b[38;5;129;01mor\u001b[39;00m \u001b[38;5;129;01mnot\u001b[39;00m allow_nan\n\u001b[0;32m    111\u001b[0m         \u001b[38;5;129;01mand\u001b[39;00m \u001b[38;5;129;01mnot\u001b[39;00m np\u001b[38;5;241m.\u001b[39misfinite(X)\u001b[38;5;241m.\u001b[39mall()\n\u001b[0;32m    112\u001b[0m     ):\n\u001b[0;32m    113\u001b[0m         type_err \u001b[38;5;241m=\u001b[39m \u001b[38;5;124m\"\u001b[39m\u001b[38;5;124minfinity\u001b[39m\u001b[38;5;124m\"\u001b[39m \u001b[38;5;28;01mif\u001b[39;00m allow_nan \u001b[38;5;28;01melse\u001b[39;00m \u001b[38;5;124m\"\u001b[39m\u001b[38;5;124mNaN, infinity\u001b[39m\u001b[38;5;124m\"\u001b[39m\n\u001b[1;32m--> 114\u001b[0m         \u001b[38;5;28;01mraise\u001b[39;00m \u001b[38;5;167;01mValueError\u001b[39;00m(\n\u001b[0;32m    115\u001b[0m             msg_err\u001b[38;5;241m.\u001b[39mformat(\n\u001b[0;32m    116\u001b[0m                 type_err, msg_dtype \u001b[38;5;28;01mif\u001b[39;00m msg_dtype \u001b[38;5;129;01mis\u001b[39;00m \u001b[38;5;129;01mnot\u001b[39;00m \u001b[38;5;28;01mNone\u001b[39;00m \u001b[38;5;28;01melse\u001b[39;00m X\u001b[38;5;241m.\u001b[39mdtype\n\u001b[0;32m    117\u001b[0m             )\n\u001b[0;32m    118\u001b[0m         )\n\u001b[0;32m    119\u001b[0m \u001b[38;5;66;03m# for object dtype data, we only check for NaNs (GH-13254)\u001b[39;00m\n\u001b[0;32m    120\u001b[0m \u001b[38;5;28;01melif\u001b[39;00m X\u001b[38;5;241m.\u001b[39mdtype \u001b[38;5;241m==\u001b[39m np\u001b[38;5;241m.\u001b[39mdtype(\u001b[38;5;124m\"\u001b[39m\u001b[38;5;124mobject\u001b[39m\u001b[38;5;124m\"\u001b[39m) \u001b[38;5;129;01mand\u001b[39;00m \u001b[38;5;129;01mnot\u001b[39;00m allow_nan:\n",
      "\u001b[1;31mValueError\u001b[0m: Input contains NaN, infinity or a value too large for dtype('float64')."
     ]
    }
   ],
   "source": [
    "# evaluate the model:\n",
    "# ====================\n",
    "\n",
    "# remember that we log transformed the output (SalePrice)\n",
    "# in our feature engineering notebook (step 2).\n",
    "\n",
    "# In order to get the true performance of the Lasso\n",
    "# we need to transform both the target and the predictions\n",
    "# back to the original house prices values.\n",
    "\n",
    "# We will evaluate performance using the mean squared error and\n",
    "# the root of the mean squared error and r2\n",
    "\n",
    "# make predictions for train set\n",
    "pred = lin_model.predict(X_train)\n",
    "\n",
    "# determine mse and rmse\n",
    "#print('train mse: {}'.format(int(\n",
    "#    mean_squared_error(np.exp(y_train), np.exp(pred)))))\n",
    "#print('train rmse: {}'.format(int(\n",
    "#    sqrt(mean_squared_error(np.exp(y_train), np.exp(pred))))))\n",
    "print('train r2: {}'.format(\n",
    "    r2_score(np.exp(y_train), np.exp(pred))))\n",
    "print()\n",
    "\n",
    "# make predictions for test set\n",
    "pred = lin_model.predict(X_test)\n",
    "\n",
    "# determine mse and rmse\n",
    "#print('test mse: {}'.format(int(\n",
    "#    mean_squared_error(np.exp(y_test), np.exp(pred)))))\n",
    "#print('test rmse: {}'.format(int(\n",
    "#    sqrt(mean_squared_error(np.exp(y_test), np.exp(pred))))))\n",
    "print('test r2: {}'.format(\n",
    "    r2_score(np.exp(y_test), np.exp(pred))))\n",
    "print()\n",
    "\n",
    "print('Average house price: ', int(np.exp(y_train).median()))\n"
   ]
  },
  {
   "cell_type": "markdown",
   "metadata": {
    "pycharm": {
     "name": "#%% md\n"
    }
   },
   "source": [
    "That is all for this notebook. And that is all for this section too.\n",
    "\n",
    "**In the next section, we will show you how to productionise this code for model deployment**."
   ]
  },
  {
   "cell_type": "code",
   "execution_count": null,
   "metadata": {
    "pycharm": {
     "name": "#%%\n"
    }
   },
   "outputs": [],
   "source": []
  }
 ],
 "metadata": {
  "kernelspec": {
   "display_name": "Python 3 (ipykernel)",
   "language": "python",
   "name": "python3"
  },
  "language_info": {
   "codemirror_mode": {
    "name": "ipython",
    "version": 3
   },
   "file_extension": ".py",
   "mimetype": "text/x-python",
   "name": "python",
   "nbconvert_exporter": "python",
   "pygments_lexer": "ipython3",
   "version": "3.8.12"
  },
  "toc": {
   "nav_menu": {},
   "number_sections": true,
   "sideBar": true,
   "skip_h1_title": false,
   "toc_cell": false,
   "toc_position": {
    "height": "583px",
    "left": "0px",
    "right": "1324px",
    "top": "107px",
    "width": "212px"
   },
   "toc_section_display": "block",
   "toc_window_display": true
  }
 },
 "nbformat": 4,
 "nbformat_minor": 4
}
