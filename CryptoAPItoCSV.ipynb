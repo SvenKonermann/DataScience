{
 "cells": [
  {
   "cell_type": "markdown",
   "metadata": {
    "colab_type": "text",
    "id": "view-in-github"
   },
   "source": [
    "<a href=\"https://colab.research.google.com/github/SvenKonermann/DataScience/blob/main/CryptoAPItoCSV.ipynb\" target=\"_parent\"><img src=\"https://colab.research.google.com/assets/colab-badge.svg\" alt=\"Open In Colab\"/></a>"
   ]
  },
  {
   "cell_type": "code",
   "execution_count": 2,
   "metadata": {
    "id": "MIVb_Ef281a3"
   },
   "outputs": [],
   "source": [
    "import requests\n",
    "import csv\n",
    "import pandas as pd\n"
   ]
  },
  {
   "cell_type": "code",
   "execution_count": 3,
   "metadata": {
    "id": "9JBE7tfj88uG"
   },
   "outputs": [],
   "source": [
    "url = 'http://api.coincap.io/v2/assets'"
   ]
  },
  {
   "cell_type": "code",
   "execution_count": 4,
   "metadata": {
    "id": "hJ5lksy-88wO"
   },
   "outputs": [],
   "source": [
    "headers = {\n",
    "    'Accept': 'application/json',\n",
    "    'Content-Type': 'application/json'\n",
    "}"
   ]
  },
  {
   "cell_type": "code",
   "execution_count": 5,
   "metadata": {
    "id": "q9X_6s0v88yM"
   },
   "outputs": [],
   "source": [
    "response = requests.request(\"GET\", url,headers=headers,data={})"
   ]
  },
  {
   "cell_type": "code",
   "execution_count": 6,
   "metadata": {
    "id": "tVouEW7h8801"
   },
   "outputs": [],
   "source": [
    "myjson = response.json()"
   ]
  },
  {
   "cell_type": "code",
   "execution_count": 7,
   "metadata": {
    "id": "u6uT_PlM-D1y"
   },
   "outputs": [],
   "source": [
    "ourdata = []"
   ]
  },
  {
   "cell_type": "code",
   "execution_count": 8,
   "metadata": {
    "id": "BBLD-YbE_kAL"
   },
   "outputs": [],
   "source": [
    "csvheader = ['SYMBOL', 'NAME', 'PRICE(USD)']"
   ]
  },
  {
   "cell_type": "code",
   "execution_count": 9,
   "metadata": {
    "id": "pDrh0LgR-D6a"
   },
   "outputs": [],
   "source": [
    "for x in myjson['data']:\n",
    "  listing = [x['symbol'],x['name'],x['priceUsd']]\n",
    "  ourdata.append(listing)"
   ]
  },
  {
   "cell_type": "code",
   "execution_count": 10,
   "metadata": {
    "colab": {
     "base_uri": "https://localhost:8080/"
    },
    "id": "FTIthZFf99R_",
    "outputId": "9ff91ff0-04c2-43b1-db37-4285b7459020"
   },
   "outputs": [
    {
     "name": "stdout",
     "output_type": "stream",
     "text": [
      "[['BTC', 'Bitcoin', '29340.2733203595084225'], ['ETH', 'Ethereum', '2023.1672710158362947'], ['USDT', 'Tether', '0.9987429328527213'], ['USDC', 'USD Coin', '1.0001724565453567'], ['BNB', 'BNB', '282.4763138908808814'], ['XRP', 'XRP', '0.4225631504619467'], ['BUSD', 'Binance USD', '1.0013727681510183'], ['ADA', 'Cardano', '0.5174487772395449'], ['SOL', 'Solana', '49.0957634871815260'], ['DOGE', 'Dogecoin', '0.0887024317175893'], ['DOT', 'Polkadot', '10.3775156293749230'], ['AVAX', 'Avalanche', '31.7221089689245458'], ['WBTC', 'Wrapped Bitcoin', '29332.2748073813763675'], ['TRX', 'TRON', '0.0738036105637115'], ['SHIB', 'Shiba Inu', '0.0000119544818889'], ['STETH', 'Lido Staked ETH', '1875.7909845739039305'], ['DAI', 'Multi Collateral DAI', '1.0001826592088126'], ['MATIC', 'Polygon', '0.6479795660467647'], ['LEO', 'UNUS SED LEO', '5.0050000265059380'], ['LTC', 'Litecoin', '67.1461629830113344'], ['CRO', 'Crypto.com Coin', '0.1802799954929325'], ['NEAR', 'NEAR Protocol', '6.3477189591967449'], ['FTT', 'FTX Token', '30.8108746196689403'], ['BCH', 'Bitcoin Cash', '198.1381556942949051'], ['UNI', 'Uniswap', '4.9512574191009197'], ['XLM', 'Stellar', '0.1327837941897477'], ['LINK', 'Chainlink', '6.9208748478677794'], ['BTCB', 'Bitcoin BEP2', '29301.5717698797146806'], ['ALGO', 'Algorand', '0.4396761744180311'], ['FLOW', 'Flow', '2.8615945269572033'], ['ETC', 'Ethereum Classic', '20.4883601759898676'], ['ATOM', 'Cosmos', '10.3787743435760156'], ['XMR', 'Monero', '140.4924434747834100'], ['UST', 'TerraUSD', '0.2143936678559492'], ['MANA', 'Decentraland', '1.1498221773735732'], ['VET', 'VeChain', '0.0301523754472203'], ['ICP', 'Internet Computer', '8.2801698897070836'], ['EGLD', 'Elrond', '86.5505529626430827'], ['FIL', 'Filecoin', '8.5431707599482675'], ['SAND', 'The Sandbox', '1.2908586588054969'], ['XTZ', 'Tezos', '1.7577819172635751'], ['DFI', 'DeFiChain', '3.0220453122909731'], ['HBAR', 'Hedera Hashgraph', '0.0984303707222587'], ['MKR', 'Maker', '1486.7398044655192513'], ['ZEC', 'Zcash', '97.2798074038883366'], ['THETA', 'THETA', '1.3792531582643433'], ['EOS', 'EOS', '1.3218637826164260'], ['TUSD', 'TrueUSD', '1.0008718056241710'], ['KCS', 'KuCoin Token', '12.4040685621001625'], ['AXS', 'Axie Infinity', '19.9955464127825119'], ['CAKE', 'PancakeSwap', '4.1108393641122114'], ['HNT', 'Helium', '9.5475627049812500'], ['AAVE', 'Aave', '81.2446151229254210'], ['KLAY', 'Klaytn', '0.3837971870082653'], ['HT', 'Huobi Token', '6.9482149527624056'], ['TTT', 'TrustNote', '3.4712969103273590'], ['GRT', 'The Graph', '0.1512790325857338'], ['RUNE', 'THORChain', '3.1361671103426131'], ['BSV', 'Bitcoin SV', '50.9657862204328519'], ['USDP', 'Pax Dollar', '1.0008151527033403'], ['MIOTA', 'IOTA', '0.3227500558855318'], ['USDN', 'Neutrino USD', '0.9390476475757981'], ['FTM', 'Fantom', '0.3135733398571174'], ['QNT', 'Quant', '65.4057578495506868'], ['CVX', 'Convex Finance', '12.7936606648682616'], ['XEC', 'eCash', '0.0000398376931355'], ['NEXO', 'Nexo', '1.3281215413806097'], ['WAVES', 'Waves', '6.7904103760080327'], ['OKB', 'OKB', '12.1767803379823029'], ['NEO', 'Neo', '10.1553498324835443'], ['STX', 'Stacks', '0.5445596540318223'], ['CHZ', 'Chiliz', '0.1133321372913099'], ['CELO', 'Celo', '1.4883197434889398'], ['DASH', 'Dash', '60.2066345634404049'], ['ZIL', 'Zilliqa', '0.0488691012080981'], ['GALA', 'Gala', '0.0885612870967198'], ['CRV', 'Curve DAO Token', '1.3343598628337248'], ['ENJ', 'Enjin Coin', '0.6883735920000634'], ['LRC', 'Loopring', '0.4516109884005734'], ['KSM', 'Kusama', '70.5706672068403656'], ['PAXG', 'PAX Gold', '1806.3412274076550269'], ['BAT', 'Basic Attention Token', '0.3867777736006892'], ['GNO', 'Gnosis', '224.5953238440087917'], ['ONE', 'Harmony', '0.0468247137100863'], ['AMP', 'Amp', '0.0131290438229601'], ['XDC', 'XinFin Network', '0.0441227223221871'], ['MINA', 'Mina', '1.0036522553349571'], ['XEM', 'NEM', '0.0543866857379550'], ['COMP', 'Compound', '67.7833620730029693'], ['DCR', 'Decred', '32.9378102967535742'], ['AR', 'Arweave', '13.6264261237152560'], ['HOT', 'Holo', '0.0026079350339918'], ['LDO', 'Lido DAO', '1.3819249882914279'], ['KDA', 'Kadena', '2.3261156153631645'], ['GT', 'GateToken', '5.3828004726218617'], ['FEI', 'Fei Protocol', '0.9827286414154460'], ['QTUM', 'Qtum', '3.9108704810985754'], ['KAVA', 'Kava', '2.0431125325301404'], ['1INCH', '1inch Network', '0.9273859440262933'], ['BNT', 'Bancor', '1.3879686075862449']]\n"
     ]
    }
   ],
   "source": [
    "print(ourdata)"
   ]
  },
  {
   "cell_type": "code",
   "execution_count": 11,
   "metadata": {
    "id": "r-c8i6wt99Uy"
   },
   "outputs": [],
   "source": [
    "with open('crypto.csv','w',encoding='UTF8', newline='') as f:\n",
    "  writer = csv.writer(f)\n",
    "  \n",
    "  writer.writerow(csvheader)\n",
    "  writer.writerow(ourdata)"
   ]
  },
  {
   "cell_type": "code",
   "execution_count": null,
   "metadata": {
    "id": "I6_bLYDA99W8"
   },
   "outputs": [],
   "source": []
  },
  {
   "cell_type": "code",
   "execution_count": null,
   "metadata": {
    "id": "-Z76EDlI99Zd"
   },
   "outputs": [],
   "source": []
  }
 ],
 "metadata": {
  "colab": {
   "authorship_tag": "ABX9TyMLE5iNJxj8DMqItCmB+EXQ",
   "include_colab_link": true,
   "name": "CryptoAPItoCSV.ipynb",
   "provenance": []
  },
  "kernelspec": {
   "display_name": "Python 3",
   "language": "python",
   "name": "python3"
  },
  "language_info": {
   "codemirror_mode": {
    "name": "ipython",
    "version": 3
   },
   "file_extension": ".py",
   "mimetype": "text/x-python",
   "name": "python",
   "nbconvert_exporter": "python",
   "pygments_lexer": "ipython3",
   "version": "3.8.8"
  }
 },
 "nbformat": 4,
 "nbformat_minor": 4
}
