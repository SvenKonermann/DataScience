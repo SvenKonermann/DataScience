{
 "cells": [
  {
   "cell_type": "code",
   "execution_count": 1,
   "id": "acd4f52c",
   "metadata": {
    "pycharm": {
     "name": "#%%\n"
    }
   },
   "outputs": [],
   "source": [
    "import math\n",
    "import numpy as np\n",
    "import pandas as pd\n",
    "from sklearn.preprocessing import MinMaxScaler\n",
    "from keras.models import Sequential\n",
    "from keras.layers import Dense, LSTM\n",
    "import matplotlib.pyplot as plt\n",
    "import plotly.express as px\n",
    "import os\n",
    "import plotly.graph_objects as go\n",
    "from plotly.subplots import make_subplots\n",
    "import datetime"
   ]
  },
  {
   "cell_type": "code",
   "execution_count": null,
   "id": "576af01e",
   "metadata": {
    "pycharm": {
     "name": "#%%\n"
    }
   },
   "outputs": [],
   "source": [
    "#aktuelles Verzeichnis\n",
    "os.chdir('C:/Users/Sven Konermann/Documents/GitHub/DataScience/Data')\n",
    "\n",
    "#Dataframe öffnen\n",
    "df = pd.read_csv('Indizes.csv')\n",
    "df = df.drop(df.columns[0],axis=1)\n",
    "#df.to_csv(\"Dax_aufbereitet.csv\")\n",
    "df.head()"
   ]
  },
  {
   "cell_type": "code",
   "execution_count": null,
   "id": "ce843150",
   "metadata": {
    "pycharm": {
     "name": "#%%\n"
    }
   },
   "outputs": [],
   "source": [
    "df.info()"
   ]
  },
  {
   "cell_type": "code",
   "execution_count": null,
   "id": "238285bf",
   "metadata": {
    "pycharm": {
     "name": "#%%\n"
    }
   },
   "outputs": [],
   "source": [
    "#Datum in das richtige Datenformat konvertieren\n",
    "df['Datum'] = pd.to_datetime(df.Datum)\n",
    "df.info()"
   ]
  },
  {
   "cell_type": "markdown",
   "id": "19ac8d05",
   "metadata": {
    "pycharm": {
     "name": "#%% md\n"
    }
   },
   "source": [
    "## DATA EXPLORATION & PROCESSING"
   ]
  },
  {
   "cell_type": "code",
   "execution_count": null,
   "id": "b310d6b8",
   "metadata": {
    "pycharm": {
     "name": "#%%\n"
    }
   },
   "outputs": [],
   "source": [
    "#Daten visualisieren\n",
    "plt.figure(figsize=(16,8))\n",
    "plt.title('Schluss Preis Historie DAX')\n",
    "plt.plot(df['Datum'],df['Schluss DAX'])\n",
    "plt.xlabel('Datum', fontsize=18)\n",
    "plt.ylabel('Schluss Preis', fontsize=18)\n",
    "plt.show()"
   ]
  },
  {
   "cell_type": "code",
   "execution_count": null,
   "id": "1cd5d643",
   "metadata": {
    "pycharm": {
     "name": "#%%\n"
    }
   },
   "outputs": [],
   "source": [
    "#Visualisierung bzgl. der Tagesdifferenzen und der Verteilung\n",
    "fig = make_subplots(rows=1, cols=2, column_widths=[0.6, 0.4])\n",
    "fig.add_trace(go.Scatter(x= df.Datum, y=df['Schluss DAX'].diff(), name='l1'),\n",
    "              row=1, col=1)\n",
    "fig.add_trace(go.Histogram(x=df['Schluss DAX'].diff(), name='h1', histnorm='probability density'),\n",
    "              row=1, col=2)\n",
    "fig.update_layout( height=550, width=1130, title_text=\"Differenz zwischen dem Schlusskursen des DAX\")\n",
    "fig.update_xaxes(title_text=\"Zeit\", row=1, col=1)   \n",
    "fig.update_xaxes(title_text=\"Wert\", row=1, col=2)\n",
    "fig.update_yaxes(title_text=\"Wert\", row=1, col=1)   \n",
    "fig.update_yaxes(title_text=\"Wahrscheinlichkeitsdichte\", row=1, col=2)\n",
    "fig.show()"
   ]
  },
  {
   "cell_type": "markdown",
   "id": "2372792d",
   "metadata": {
    "pycharm": {
     "name": "#%% md\n"
    }
   },
   "source": [
    "## Data Normalization"
   ]
  },
  {
   "cell_type": "code",
   "execution_count": null,
   "id": "5ae712d3",
   "metadata": {
    "pycharm": {
     "name": "#%%\n"
    }
   },
   "outputs": [],
   "source": [
    "#Auszuwertende Trainingsdaten auswählen\n",
    "data = df.filter(['Schluss DAX'])\n",
    "dataset = data.values\n",
    "training_data_len = math.ceil(len(dataset) * .8)\n",
    "training_data_len"
   ]
  },
  {
   "cell_type": "code",
   "execution_count": null,
   "id": "54684d8c",
   "metadata": {
    "pycharm": {
     "name": "#%%\n"
    }
   },
   "outputs": [],
   "source": [
    "#Daten Normalisieren\n",
    "scaler = MinMaxScaler(feature_range=(0,1))\n",
    "scaled_data = scaler.fit_transform(dataset)\n",
    "\n",
    "scaled_data"
   ]
  },
  {
   "cell_type": "code",
   "execution_count": null,
   "id": "bea43a2a",
   "metadata": {
    "pycharm": {
     "name": "#%%\n"
    }
   },
   "outputs": [],
   "source": [
    "#Splitten der Daten in x- & y-train\n",
    "train_data = scaled_data[0:training_data_len ,:]\n",
    "x_train = []\n",
    "y_train = []\n",
    "\n",
    "for i in range(60, len(train_data)):\n",
    "    x_train.append(train_data[i-60:i, 0])\n",
    "    y_train.append(train_data[i, 0])\n",
    "    if i<= 60:\n",
    "        print(x_train)\n",
    "        print(y_train)\n",
    "        print()"
   ]
  },
  {
   "cell_type": "code",
   "execution_count": null,
   "id": "1e70dea7",
   "metadata": {
    "pycharm": {
     "name": "#%%\n"
    }
   },
   "outputs": [],
   "source": [
    "x_train, y_train = np.array(x_train), np.array(y_train)"
   ]
  },
  {
   "cell_type": "code",
   "execution_count": null,
   "id": "02844ddc",
   "metadata": {
    "pycharm": {
     "name": "#%%\n"
    }
   },
   "outputs": [],
   "source": [
    "x_train = np.reshape(x_train, (x_train.shape[0], x_train.shape[1],1))\n",
    "x_train.shape"
   ]
  },
  {
   "cell_type": "markdown",
   "id": "66de8dda",
   "metadata": {
    "pycharm": {
     "name": "#%% md\n"
    }
   },
   "source": [
    "## Model"
   ]
  },
  {
   "cell_type": "code",
   "execution_count": null,
   "id": "a7f35770",
   "metadata": {
    "pycharm": {
     "name": "#%%\n"
    }
   },
   "outputs": [],
   "source": [
    "# Konfiguration des Modells\n",
    "model = Sequential()\n",
    "model.add(LSTM(64, return_sequences=False, input_shape=(x_train.shape[1],1)))\n",
    "model.add(Dense(32))\n",
    "model.add(Dense(1))\n",
    "\n",
    "model.summary()"
   ]
  },
  {
   "cell_type": "code",
   "execution_count": null,
   "id": "ad065461",
   "metadata": {
    "pycharm": {
     "name": "#%%\n"
    }
   },
   "outputs": [],
   "source": [
    "# Model Kompilieren\n",
    "model.compile(optimizer='adam', loss='mean_squared_error')"
   ]
  },
  {
   "cell_type": "code",
   "execution_count": null,
   "id": "ff49f062",
   "metadata": {
    "pycharm": {
     "name": "#%%\n"
    }
   },
   "outputs": [],
   "source": [
    "# Model trainieren\n",
    "model.fit(x_train, y_train, batch_size=1, epochs=1)"
   ]
  },
  {
   "cell_type": "code",
   "execution_count": null,
   "id": "f7896350",
   "metadata": {
    "pycharm": {
     "name": "#%%\n"
    }
   },
   "outputs": [],
   "source": [
    "#Splitten der Daten in x- & y-test\n",
    "test_data = scaled_data[training_data_len - 60: , :]\n",
    "x_test = []\n",
    "y_test = dataset[training_data_len:, :]\n",
    "for i in range(60, len(test_data)):\n",
    "    x_test.append(test_data[i-60:i, 0])"
   ]
  },
  {
   "cell_type": "code",
   "execution_count": null,
   "id": "da49c1be",
   "metadata": {
    "pycharm": {
     "name": "#%%\n"
    }
   },
   "outputs": [],
   "source": [
    "x_test = np.array(x_test)"
   ]
  },
  {
   "cell_type": "code",
   "execution_count": null,
   "id": "bcd0924b",
   "metadata": {
    "pycharm": {
     "name": "#%%\n"
    }
   },
   "outputs": [],
   "source": [
    "x_test = np.reshape(x_test, (x_test.shape[0], x_test.shape[1],1))"
   ]
  },
  {
   "cell_type": "code",
   "execution_count": null,
   "id": "dfe59f2b",
   "metadata": {
    "pycharm": {
     "name": "#%%\n"
    }
   },
   "outputs": [],
   "source": [
    "# Vorhersage der Kurse & Inverse Transformation der normalisierten Daten\n",
    "predictions = model.predict(x_test)\n",
    "predictions = scaler.inverse_transform(predictions)\n"
   ]
  },
  {
   "cell_type": "code",
   "execution_count": null,
   "id": "369a996d",
   "metadata": {
    "pycharm": {
     "name": "#%%\n"
    }
   },
   "outputs": [],
   "source": [
    "# Messung Metriken: hier Root Mean Square Error\n",
    "rmse = np.sqrt(np.mean(((predictions - y_test)**2)))\n",
    "rmse"
   ]
  },
  {
   "cell_type": "code",
   "execution_count": null,
   "id": "52b916dd",
   "metadata": {
    "pycharm": {
     "name": "#%%\n"
    }
   },
   "outputs": [],
   "source": [
    "# Visualisierung der vorhergesagten Daten mit den realen Daten\n",
    "train = data[:training_data_len]\n",
    "valid = data[training_data_len:]\n",
    "valid['Predictions'] = predictions\n",
    "plt.figure(figsize=(16,8))\n",
    "plt.title('Model')\n",
    "plt.xlabel('Date')\n",
    "plt.plot(train['Schluss DAX'])\n",
    "plt.plot(valid[['Schluss DAX', 'Predictions']])\n",
    "plt.legend(['Train', 'Val', 'Predictions'], loc='lower right')\n",
    "plt.show"
   ]
  },
  {
   "cell_type": "code",
   "execution_count": null,
   "id": "725cc7d7",
   "metadata": {
    "pycharm": {
     "name": "#%%\n"
    }
   },
   "outputs": [],
   "source": [
    "#Vergleich Realdaten mit Vorhergesagten Daten\n",
    "valid"
   ]
  },
  {
   "cell_type": "code",
   "execution_count": null,
   "id": "4726c678",
   "metadata": {
    "pycharm": {
     "name": "#%%\n"
    }
   },
   "outputs": [],
   "source": [
    "# Metrik: Score\n",
    "score=(sum(abs(valid['Schluss DAX']-valid['Predictions'])/valid['Schluss DAX'])/len(valid['Schluss DAX']))*100\n",
    "print(score)"
   ]
  },
  {
   "cell_type": "code",
   "execution_count": null,
   "id": "038e704a",
   "metadata": {
    "pycharm": {
     "name": "#%%\n"
    }
   },
   "outputs": [],
   "source": [
    "# Metrik: Genauigkeit\n",
    "acc_score=(1-sum(abs(valid['Schluss DAX']-valid['Predictions'])/valid['Schluss DAX'])/len(valid['Schluss DAX']))*100\n",
    "print(acc_score)"
   ]
  },
  {
   "cell_type": "code",
   "execution_count": null,
   "id": "8aea119a",
   "metadata": {
    "pycharm": {
     "name": "#%%\n"
    }
   },
   "outputs": [],
   "source": [
    "from sklearn.metrics import explained_variance_score\n",
    "from sklearn.metrics import max_error\n",
    "from sklearn.metrics import mean_squared_error\n",
    "from sklearn.metrics import mean_absolute_error\n",
    "from sklearn.metrics import r2_score\n",
    "\n",
    "#Ausgeben von Metriken für den Indize \"DAX\"\n",
    "EVS = (explained_variance_score(valid['Schluss DAX'], valid['Predictions']))\n",
    "ME = (max_error(valid['Schluss DAX'], valid['Predictions']))\n",
    "MAE = (mean_absolute_error(valid['Schluss DAX'], valid['Predictions']))\n",
    "MSE = np.sqrt(mean_squared_error(valid['Schluss DAX'], valid['Predictions'], squared=True))\n",
    "RMSE = np.sqrt(mean_squared_error(valid['Schluss DAX'], valid['Predictions'], squared=False))\n",
    "R2 = r2_score(valid['Schluss DAX'], valid['Predictions'])\n",
    "print('Model: DAX | EVS: ', EVS)\n",
    "print('Model: DAX | ME: ', ME)\n",
    "print('Model: DAX | MAE: ', MAE)\n",
    "print('Model: DAX | MSE ', MSE)\n",
    "print('Model: DAX | RMSE ', RMSE)\n",
    "print('Model: DAX | R2 ', R2)\n",
    "print('Model: DAX | Genauigkeit', acc_score)\n",
    "print('Model: DAX | Score', score)\n",
    "print('----------------')"
   ]
  },
  {
   "cell_type": "code",
   "execution_count": null,
   "id": "4487eba3",
   "metadata": {
    "pycharm": {
     "name": "#%%\n"
    }
   },
   "outputs": [],
   "source": [
    "#Anzeige der Standard-Abweichung\n",
    "std_nn = np.sqrt(sum((valid['Predictions'] - valid['Schluss DAX'])**2)/len(valid['Schluss DAX']))\n",
    "print('Standard deviation: ', std_nn)"
   ]
  }
 ],
 "metadata": {
  "kernelspec": {
   "display_name": "Python 3 (ipykernel)",
   "language": "python",
   "name": "python3"
  },
  "language_info": {
   "codemirror_mode": {
    "name": "ipython",
    "version": 3
   },
   "file_extension": ".py",
   "mimetype": "text/x-python",
   "name": "python",
   "nbconvert_exporter": "python",
   "pygments_lexer": "ipython3",
   "version": "3.8.12"
  }
 },
 "nbformat": 4,
 "nbformat_minor": 5
}