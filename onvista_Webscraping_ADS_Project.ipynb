{
 "cells": [
  {
   "cell_type": "markdown",
   "id": "e43bc3c7-0771-4f1b-8bbb-51cb94f767dc",
   "metadata": {},
   "source": [
    "# Set Working Directory and List"
   ]
  },
  {
   "cell_type": "code",
   "execution_count": 2,
   "id": "50f60b5d-6876-491f-a5ef-89f4d26d5e62",
   "metadata": {},
   "outputs": [],
   "source": [
    "# Set working directory\n",
    "import os\n",
    "os.chdir('C:/Users/Sven Konermann/Documents/Master/2_Semester/Applied_Data_Science/Gruppe')\n",
    "\n",
    "# Warnings settings\n",
    "import warnings\n",
    "warnings.filterwarnings(\"ignore\")"
   ]
  },
  {
   "cell_type": "code",
   "execution_count": 3,
   "id": "6eb80f3b-6eba-40b4-8d30-5f34ced23ba3",
   "metadata": {
    "tags": []
   },
   "outputs": [
    {
     "data": {
      "text/plain": [
       "['Mozilla/5.0 (Windows NT 10.0; Win64; x64) AppleWebKit/537.36 (KHTML, like Gecko) Chrome/79.0.3945.130 Safari/537.36',\n",
       " 'Mozilla/5.0 (Windows NT 10.0; Win64; x64) AppleWebKit/537.36 (KHTML, like Gecko) Chrome/79.0.3945.117 Safari/537.36',\n",
       " 'Mozilla/5.0 (Windows NT 10.0; Win64; x64) AppleWebKit/537.36 (KHTML, like Gecko) Chrome/74.0.3729.169 Safari/537.36',\n",
       " 'Mozilla/5.0 (Windows NT 10.0; Win64; x64; rv:72.0) Gecko/20100101 Firefox/72.0',\n",
       " 'Mozilla/5.0 (Macintosh; Intel Mac OS X 10_15_2) AppleWebKit/605.1.15 (KHTML, like Gecko) Version/13.0.4 Safari/605.1.15']"
      ]
     },
     "execution_count": 3,
     "metadata": {},
     "output_type": "execute_result"
    }
   ],
   "source": [
    "# Lis with randomly choosed user-agents for rotation\n",
    "ua_path = \"user_agents.txt\"\n",
    "ua_list = [line.rstrip('\\n') for line in open(ua_path)]\n",
    "ua_list[:5]"
   ]
  },
  {
   "cell_type": "code",
   "execution_count": 28,
   "id": "55cba552",
   "metadata": {},
   "outputs": [
    {
     "data": {
      "text/plain": [
       "['https://www.onvista.de/onvista/times+sales/popup/historische-kurse/?notationId=20735&dateStart=01.05.',\n",
       " 'https://www.onvista.de/onvista/times+sales/popup/historische-kurse/?notationId=193736&dateStart=01.05.',\n",
       " 'https://www.onvista.de/onvista/times+sales/popup/historische-kurse/?notationId=324977&dateStart=01.05.',\n",
       " 'https://www.onvista.de/onvista/times+sales/popup/historische-kurse/?notationId=1555183&dateStart=01.05.',\n",
       " 'https://www.onvista.de/onvista/times+sales/popup/historische-kurse/?notationId=3193857&dateStart=01.05.']"
      ]
     },
     "execution_count": 28,
     "metadata": {},
     "output_type": "execute_result"
    }
   ],
   "source": [
    "# List with URLS for Webscraping part 1\n",
    "url_1_raw = \"URL_1.txt\"\n",
    "url_1 = [line.rstrip('\\n') for line in open(url_1_raw)]\n",
    "url_1[:5]"
   ]
  },
  {
   "cell_type": "code",
   "execution_count": 25,
   "id": "96e83c8d",
   "metadata": {},
   "outputs": [
    {
     "name": "stdout",
     "output_type": "stream",
     "text": [
      "https://www.onvista.de/onvista/times+sales/popup/historische-kurse/?notationId=193736&dateStart=01.05.2002&interval=Y5&assetName=EURO STOXX 50&exchange=auÃŸerbÃ¶rslich\n"
     ]
    }
   ],
   "source": [
    "# List with URLS for Webscraping part 2\n",
    "url_2_raw = \"URL_2.txt\"\n",
    "url_2 = [line.rstrip('\\n') for line in open(url_2_raw)]\n",
    "url_2[:5]"
   ]
  },
  {
   "cell_type": "markdown",
   "id": "d2156814-1977-4d57-867b-344eb0548993",
   "metadata": {},
   "source": [
    "## Get Data with automated Scraping (Onvista)"
   ]
  },
  {
   "cell_type": "code",
   "execution_count": 32,
   "id": "5e26b7c2-15d7-4d5a-8153-60e0a6b56e59",
   "metadata": {},
   "outputs": [],
   "source": [
    "from selenium import webdriver\n",
    "from selenium.webdriver.chrome.options import Options\n",
    "from selenium.webdriver.firefox.options import Options\n",
    "import random\n",
    "\n",
    "opts = Options()\n",
    "opts.add_argument(\"--headless\")\n",
    "opts.add_argument(\"user-agent=\" + random.choice(ua_list))\n",
    "#driver = webdriver.Chrome(executable_path='chromedriver.exe', options=opts)\n",
    "driver = webdriver.Chrome(executable_path='geckodriver.exe', options=opts)\n",
    "\n",
    "#Websites to Scrape\n",
    "IndexListe= [\"DAX\", \"EURO STOXX 50\", \"Dow Jones\",  \"SMI\", \"MSCI World\", \"FTSE\", \"ATX\", \"SDAX\", \"Tec DAX\", \"NASDAQ 100\", \"Nikkei\", \"Hang Song\", \"SHANGHAI STOCK EXCHANGE B SHARES\", \"Emerging Markets\", \"Bovespa\"]\n",
    "\n",
    "#IndexListe= [\"DAX\"]\n",
    "\n",
    "# Daten in csv Datei schreiben\n",
    "import pandas as pd\n",
    "import csv\n",
    "\n",
    "\n",
    "\n",
    "#Scraping Loop\n",
    "x=0\n",
    "while x < len(url_1):\n",
    "    Text=\"\"\n",
    "    Jahr=2002\n",
    "    while Jahr <=2017:\n",
    "        URL = str(url_1[x])+str(Jahr)+str(url_2[x])\n",
    "        driver.get(URL)\n",
    "        text1 = driver.find_element_by_css_selector('body > div.INHALT.WEBSEITE > article > table > tbody').text\n",
    "        Text= Text+text1\n",
    "        templist = []\n",
    "        Table_dict={ 'Gescrapte Finanzdaten': Text}\n",
    "        templist.append(Table_dict)\n",
    "        df = pd.DataFrame(templist)\n",
    "        df.to_csv(IndexListe[x]+\".csv\")\n",
    "        Jahr+=5\n",
    "    x+=1\n",
    "    \n",
    "    \n",
    "\n",
    "\n",
    "\n",
    "# Examples using tag name\n",
    "#text = driver.find_element_by_xpath('/html/body/div[1]/article').text\n",
    "\n",
    "# Further examples (find out by yourself)\n",
    "# text = driver.find_element_by_name('').text\n",
    "# text = driver.find_element_by_tag_name('').text\n",
    "# text = driver.find_element_by_id('').text"
   ]
  },
  {
   "cell_type": "markdown",
   "id": "2f3845de-7590-49b4-8249-f47c20a958b1",
   "metadata": {},
   "source": [
    "## Get Data with API (Coincap)"
   ]
  },
  {
   "cell_type": "code",
   "execution_count": 10,
   "id": "303b9df2-86a1-4d9e-9adc-c7daca03bf10",
   "metadata": {},
   "outputs": [],
   "source": [
    "import requests\n",
    "import csv\n",
    "import pandas as pd\n"
   ]
  },
  {
   "cell_type": "code",
   "execution_count": 11,
   "id": "167bcb4d-c0b7-48cc-b2fa-a3690ee3b892",
   "metadata": {},
   "outputs": [],
   "source": [
    "url = 'http://api.coincap.io/v2/assets'"
   ]
  },
  {
   "cell_type": "code",
   "execution_count": 12,
   "id": "ab5cf379-dedd-4c17-92de-8e6f82ec88d9",
   "metadata": {},
   "outputs": [],
   "source": [
    "headers = {\n",
    "    'Accept': 'application/json',\n",
    "    'Content-Type': 'application/json'\n",
    "}"
   ]
  },
  {
   "cell_type": "code",
   "execution_count": 13,
   "id": "daf2722f-3686-423a-8e02-6fa2e4c5d8bc",
   "metadata": {},
   "outputs": [],
   "source": [
    "response = requests.request(\"GET\", url,headers=headers,data={})"
   ]
  },
  {
   "cell_type": "code",
   "execution_count": 14,
   "id": "c65ade71-07cf-4556-8b8a-2ceb23ecc4cf",
   "metadata": {},
   "outputs": [],
   "source": [
    "myjson = response.json()"
   ]
  },
  {
   "cell_type": "code",
   "execution_count": 15,
   "id": "5c77f3ef-da19-4140-a89f-521addb5cf87",
   "metadata": {},
   "outputs": [],
   "source": [
    "ourdata = []"
   ]
  },
  {
   "cell_type": "code",
   "execution_count": 16,
   "id": "0efcf374-2155-4e06-84fa-7a7a2990eaa1",
   "metadata": {},
   "outputs": [],
   "source": [
    "csvheader = ['SYMBOL', 'NAME', 'PRICE(USD)']"
   ]
  },
  {
   "cell_type": "code",
   "execution_count": 17,
   "id": "cb7db9a8-f76e-4cf5-a238-e6c593f0791c",
   "metadata": {},
   "outputs": [],
   "source": [
    "for x in myjson['data']:\n",
    "  listing = [x['symbol'],x['name'],x['priceUsd']]\n",
    "  ourdata.append(listing)"
   ]
  },
  {
   "cell_type": "code",
   "execution_count": 18,
   "id": "ad50bf08-f0c0-47c1-862c-36bc3f862b15",
   "metadata": {},
   "outputs": [
    {
     "name": "stdout",
     "output_type": "stream",
     "text": [
      "[['BTC', 'Bitcoin', '29337.2441304391116895'], ['ETH', 'Ethereum', '2023.4701636735380049'], ['USDT', 'Tether', '0.9988962058377347'], ['USDC', 'USD Coin', '1.0014449037873577'], ['BNB', 'BNB', '282.6411785045200786'], ['XRP', 'XRP', '0.4223017948813970'], ['BUSD', 'Binance USD', '1.0014164805798776'], ['ADA', 'Cardano', '0.5167232048043537'], ['SOL', 'Solana', '48.9375316258889769'], ['DOGE', 'Dogecoin', '0.0887041589053242'], ['DOT', 'Polkadot', '10.3621217556360470'], ['AVAX', 'Avalanche', '31.7478260146862245'], ['WBTC', 'Wrapped Bitcoin', '29340.5550370649114023'], ['TRX', 'TRON', '0.0737913590505944'], ['SHIB', 'Shiba Inu', '0.0000119616114131'], ['STETH', 'Lido Staked ETH', '1875.9375486280791723'], ['DAI', 'Multi Collateral DAI', '1.0007366082577365'], ['MATIC', 'Polygon', '0.6472537200237022'], ['LEO', 'UNUS SED LEO', '5.0038425722525216'], ['LTC', 'Litecoin', '67.1081936058771234'], ['CRO', 'Crypto.com Coin', '0.1798361746401527'], ['NEAR', 'NEAR Protocol', '6.3329207329873714'], ['FTT', 'FTX Token', '30.8564892682883919'], ['BCH', 'Bitcoin Cash', '197.7303274194361865'], ['UNI', 'Uniswap', '4.9537008402390671'], ['XLM', 'Stellar', '0.1327008148432290'], ['LINK', 'Chainlink', '6.9241294304910772'], ['BTCB', 'Bitcoin BEP2', '29317.3699289905200090'], ['ALGO', 'Algorand', '0.4387176235938570'], ['FLOW', 'Flow', '2.8586561249122491'], ['ETC', 'Ethereum Classic', '20.4573354858827783'], ['ATOM', 'Cosmos', '10.3858378158711141'], ['XMR', 'Monero', '140.3140742618153255'], ['UST', 'TerraUSD', '0.2156123132868323'], ['MANA', 'Decentraland', '1.1500744566741614'], ['VET', 'VeChain', '0.0301308125917797'], ['ICP', 'Internet Computer', '8.2745282072163318'], ['EGLD', 'Elrond', '86.6715173209009067'], ['FIL', 'Filecoin', '8.5355870047457079'], ['SAND', 'The Sandbox', '1.2906090166143826'], ['XTZ', 'Tezos', '1.7494435141679287'], ['DFI', 'DeFiChain', '3.0219674863411499'], ['HBAR', 'Hedera Hashgraph', '0.0981589425100766'], ['MKR', 'Maker', '1484.5825788744381568'], ['ZEC', 'Zcash', '97.0405441144230639'], ['THETA', 'THETA', '1.3816167840308722'], ['EOS', 'EOS', '1.3196121275069868'], ['TUSD', 'TrueUSD', '1.0009959752649634'], ['KCS', 'KuCoin Token', '12.3964699483372517'], ['CAKE', 'PancakeSwap', '4.1108150189099582'], ['AXS', 'Axie Infinity', '19.9382896947854284'], ['HNT', 'Helium', '9.5030030792143682'], ['AAVE', 'Aave', '81.1838417623031273'], ['KLAY', 'Klaytn', '0.3831062323244939'], ['HT', 'Huobi Token', '6.9522286319739639'], ['TTT', 'TrustNote', '3.4709776561981174'], ['GRT', 'The Graph', '0.1511145079633953'], ['RUNE', 'THORChain', '3.1351178936016227'], ['BSV', 'Bitcoin SV', '50.9717990480155031'], ['USDP', 'Pax Dollar', '1.0009517893008659'], ['MIOTA', 'IOTA', '0.3233429034632352'], ['USDN', 'Neutrino USD', '0.9391685450220501'], ['FTM', 'Fantom', '0.3151920190119885'], ['QNT', 'Quant', '65.3208352331394040'], ['CVX', 'Convex Finance', '12.7795239567732768'], ['XEC', 'eCash', '0.0000398285810804'], ['NEXO', 'Nexo', '1.3277509953221069'], ['WAVES', 'Waves', '6.7944337495314519'], ['OKB', 'OKB', '12.1787715258025534'], ['NEO', 'Neo', '10.1362548561675217'], ['STX', 'Stacks', '0.5421602563333139'], ['CHZ', 'Chiliz', '0.1128904930971951'], ['CELO', 'Celo', '1.4857969166670634'], ['DASH', 'Dash', '60.1588661987631824'], ['ZIL', 'Zilliqa', '0.0486368126102063'], ['GALA', 'Gala', '0.0879685009257547'], ['ENJ', 'Enjin Coin', '0.6892222156316015'], ['CRV', 'Curve DAO Token', '1.3309287784129566'], ['LRC', 'Loopring', '0.4516293722253988'], ['KSM', 'Kusama', '70.3936432709244677'], ['PAXG', 'PAX Gold', '1805.9757985173723557'], ['BAT', 'Basic Attention Token', '0.3867911144476668'], ['GNO', 'Gnosis', '224.3653345946195408'], ['ONE', 'Harmony', '0.0467063186122664'], ['AMP', 'Amp', '0.0130864680801595'], ['XDC', 'XinFin Network', '0.0438987723334945'], ['MINA', 'Mina', '0.9980802459494483'], ['XEM', 'NEM', '0.0541054568667183'], ['COMP', 'Compound', '67.5675411961031559'], ['DCR', 'Decred', '32.8869051148679402'], ['AR', 'Arweave', '13.6641400668150046'], ['HOT', 'Holo', '0.0025892514060623'], ['KDA', 'Kadena', '2.3465813053276247'], ['LDO', 'Lido DAO', '1.3792369797262258'], ['GT', 'GateToken', '5.3756971022908009'], ['FEI', 'Fei Protocol', '0.9828271698376570'], ['QTUM', 'Qtum', '3.8936355713413271'], ['KAVA', 'Kava', '2.0259291320013635'], ['1INCH', '1inch Network', '0.9250346924613787'], ['BNT', 'Bancor', '1.3875671231704488']]\n"
     ]
    }
   ],
   "source": [
    "print(ourdata)"
   ]
  },
  {
   "cell_type": "code",
   "execution_count": 19,
   "id": "1aab978e-2a42-4629-9151-df11132e4727",
   "metadata": {},
   "outputs": [],
   "source": [
    "with open('crypto.csv','w',encoding='UTF8', newline='') as f:\n",
    "  writer = csv.writer(f)\n",
    "  \n",
    "  writer.writerow(csvheader)\n",
    "  writer.writerow(ourdata)"
   ]
  },
  {
   "cell_type": "markdown",
   "id": "5d805769-f79f-430a-b6aa-ceed49f725a3",
   "metadata": {},
   "source": [
    "## Data Cleansing and Preparation coincap"
   ]
  },
  {
   "cell_type": "code",
   "execution_count": 37,
   "id": "67ac587d-48bd-4385-99a1-3993106c415b",
   "metadata": {},
   "outputs": [
    {
     "name": "stdout",
     "output_type": "stream",
     "text": [
      "[['SYMBOL', 'NAME', 'PRICE(USD)'], [\"['BTC', 'Bitcoin', '29337.2441304391116895']\", \"['ETH', 'Ethereum', '2023.4701636735380049']\", \"['USDT', 'Tether', '0.9988962058377347']\", \"['USDC', 'USD Coin', '1.0014449037873577']\", \"['BNB', 'BNB', '282.6411785045200786']\", \"['XRP', 'XRP', '0.4223017948813970']\", \"['BUSD', 'Binance USD', '1.0014164805798776']\", \"['ADA', 'Cardano', '0.5167232048043537']\", \"['SOL', 'Solana', '48.9375316258889769']\", \"['DOGE', 'Dogecoin', '0.0887041589053242']\", \"['DOT', 'Polkadot', '10.3621217556360470']\", \"['AVAX', 'Avalanche', '31.7478260146862245']\", \"['WBTC', 'Wrapped Bitcoin', '29340.5550370649114023']\", \"['TRX', 'TRON', '0.0737913590505944']\", \"['SHIB', 'Shiba Inu', '0.0000119616114131']\", \"['STETH', 'Lido Staked ETH', '1875.9375486280791723']\", \"['DAI', 'Multi Collateral DAI', '1.0007366082577365']\", \"['MATIC', 'Polygon', '0.6472537200237022']\", \"['LEO', 'UNUS SED LEO', '5.0038425722525216']\", \"['LTC', 'Litecoin', '67.1081936058771234']\", \"['CRO', 'Crypto.com Coin', '0.1798361746401527']\", \"['NEAR', 'NEAR Protocol', '6.3329207329873714']\", \"['FTT', 'FTX Token', '30.8564892682883919']\", \"['BCH', 'Bitcoin Cash', '197.7303274194361865']\", \"['UNI', 'Uniswap', '4.9537008402390671']\", \"['XLM', 'Stellar', '0.1327008148432290']\", \"['LINK', 'Chainlink', '6.9241294304910772']\", \"['BTCB', 'Bitcoin BEP2', '29317.3699289905200090']\", \"['ALGO', 'Algorand', '0.4387176235938570']\", \"['FLOW', 'Flow', '2.8586561249122491']\", \"['ETC', 'Ethereum Classic', '20.4573354858827783']\", \"['ATOM', 'Cosmos', '10.3858378158711141']\", \"['XMR', 'Monero', '140.3140742618153255']\", \"['UST', 'TerraUSD', '0.2156123132868323']\", \"['MANA', 'Decentraland', '1.1500744566741614']\", \"['VET', 'VeChain', '0.0301308125917797']\", \"['ICP', 'Internet Computer', '8.2745282072163318']\", \"['EGLD', 'Elrond', '86.6715173209009067']\", \"['FIL', 'Filecoin', '8.5355870047457079']\", \"['SAND', 'The Sandbox', '1.2906090166143826']\", \"['XTZ', 'Tezos', '1.7494435141679287']\", \"['DFI', 'DeFiChain', '3.0219674863411499']\", \"['HBAR', 'Hedera Hashgraph', '0.0981589425100766']\", \"['MKR', 'Maker', '1484.5825788744381568']\", \"['ZEC', 'Zcash', '97.0405441144230639']\", \"['THETA', 'THETA', '1.3816167840308722']\", \"['EOS', 'EOS', '1.3196121275069868']\", \"['TUSD', 'TrueUSD', '1.0009959752649634']\", \"['KCS', 'KuCoin Token', '12.3964699483372517']\", \"['CAKE', 'PancakeSwap', '4.1108150189099582']\", \"['AXS', 'Axie Infinity', '19.9382896947854284']\", \"['HNT', 'Helium', '9.5030030792143682']\", \"['AAVE', 'Aave', '81.1838417623031273']\", \"['KLAY', 'Klaytn', '0.3831062323244939']\", \"['HT', 'Huobi Token', '6.9522286319739639']\", \"['TTT', 'TrustNote', '3.4709776561981174']\", \"['GRT', 'The Graph', '0.1511145079633953']\", \"['RUNE', 'THORChain', '3.1351178936016227']\", \"['BSV', 'Bitcoin SV', '50.9717990480155031']\", \"['USDP', 'Pax Dollar', '1.0009517893008659']\", \"['MIOTA', 'IOTA', '0.3233429034632352']\", \"['USDN', 'Neutrino USD', '0.9391685450220501']\", \"['FTM', 'Fantom', '0.3151920190119885']\", \"['QNT', 'Quant', '65.3208352331394040']\", \"['CVX', 'Convex Finance', '12.7795239567732768']\", \"['XEC', 'eCash', '0.0000398285810804']\", \"['NEXO', 'Nexo', '1.3277509953221069']\", \"['WAVES', 'Waves', '6.7944337495314519']\", \"['OKB', 'OKB', '12.1787715258025534']\", \"['NEO', 'Neo', '10.1362548561675217']\", \"['STX', 'Stacks', '0.5421602563333139']\", \"['CHZ', 'Chiliz', '0.1128904930971951']\", \"['CELO', 'Celo', '1.4857969166670634']\", \"['DASH', 'Dash', '60.1588661987631824']\", \"['ZIL', 'Zilliqa', '0.0486368126102063']\", \"['GALA', 'Gala', '0.0879685009257547']\", \"['ENJ', 'Enjin Coin', '0.6892222156316015']\", \"['CRV', 'Curve DAO Token', '1.3309287784129566']\", \"['LRC', 'Loopring', '0.4516293722253988']\", \"['KSM', 'Kusama', '70.3936432709244677']\", \"['PAXG', 'PAX Gold', '1805.9757985173723557']\", \"['BAT', 'Basic Attention Token', '0.3867911144476668']\", \"['GNO', 'Gnosis', '224.3653345946195408']\", \"['ONE', 'Harmony', '0.0467063186122664']\", \"['AMP', 'Amp', '0.0130864680801595']\", \"['XDC', 'XinFin Network', '0.0438987723334945']\", \"['MINA', 'Mina', '0.9980802459494483']\", \"['XEM', 'NEM', '0.0541054568667183']\", \"['COMP', 'Compound', '67.5675411961031559']\", \"['DCR', 'Decred', '32.8869051148679402']\", \"['AR', 'Arweave', '13.6641400668150046']\", \"['HOT', 'Holo', '0.0025892514060623']\", \"['KDA', 'Kadena', '2.3465813053276247']\", \"['LDO', 'Lido DAO', '1.3792369797262258']\", \"['GT', 'GateToken', '5.3756971022908009']\", \"['FEI', 'Fei Protocol', '0.9828271698376570']\", \"['QTUM', 'Qtum', '3.8936355713413271']\", \"['KAVA', 'Kava', '2.0259291320013635']\", \"['1INCH', '1inch Network', '0.9250346924613787']\", \"['BNT', 'Bancor', '1.3875671231704488']\"]]\n"
     ]
    },
    {
     "data": {
      "text/html": [
       "<div>\n",
       "<style scoped>\n",
       "    .dataframe tbody tr th:only-of-type {\n",
       "        vertical-align: middle;\n",
       "    }\n",
       "\n",
       "    .dataframe tbody tr th {\n",
       "        vertical-align: top;\n",
       "    }\n",
       "\n",
       "    .dataframe thead th {\n",
       "        text-align: right;\n",
       "    }\n",
       "</style>\n",
       "<table border=\"1\" class=\"dataframe\">\n",
       "  <thead>\n",
       "    <tr style=\"text-align: right;\">\n",
       "      <th></th>\n",
       "      <th>Symbol</th>\n",
       "      <th>Name</th>\n",
       "      <th>Price</th>\n",
       "    </tr>\n",
       "  </thead>\n",
       "  <tbody>\n",
       "    <tr>\n",
       "      <th>0</th>\n",
       "      <td>tom</td>\n",
       "      <td>reacher</td>\n",
       "      <td>25.0</td>\n",
       "    </tr>\n",
       "    <tr>\n",
       "      <th>1</th>\n",
       "      <td>krish</td>\n",
       "      <td>pete</td>\n",
       "      <td>30.0</td>\n",
       "    </tr>\n",
       "    <tr>\n",
       "      <th>2</th>\n",
       "      <td>nick</td>\n",
       "      <td>wilson</td>\n",
       "      <td>26.0</td>\n",
       "    </tr>\n",
       "    <tr>\n",
       "      <th>3</th>\n",
       "      <td>juli</td>\n",
       "      <td>williams</td>\n",
       "      <td>22.0</td>\n",
       "    </tr>\n",
       "  </tbody>\n",
       "</table>\n",
       "</div>"
      ],
      "text/plain": [
       "  Symbol      Name  Price\n",
       "0    tom   reacher   25.0\n",
       "1  krish      pete   30.0\n",
       "2   nick    wilson   26.0\n",
       "3   juli  williams   22.0"
      ]
     },
     "execution_count": 37,
     "metadata": {},
     "output_type": "execute_result"
    }
   ],
   "source": [
    "import csv\n",
    "\n",
    "with open('crypto.csv', newline='',) as f:\n",
    "    reader = csv.reader(f)\n",
    "    data = list(reader)\n",
    "\n",
    "print(data)\n",
    "\n",
    "# import pandas as pd\n",
    "import pandas as pd \n",
    "\n",
    "#Liste muss in diesem Format dargestellt werden können.\n",
    "# List1 \n",
    "lst = [['tom', 'reacher', 25], ['krish', 'pete', 30],\n",
    "       ['nick', 'wilson', 26], ['juli', 'williams', 22]]\n",
    "    \n",
    "df = pd.DataFrame(lst, columns =['Symbol', 'Name', 'Price'], dtype = float)\n",
    "df\n"
   ]
  },
  {
   "cell_type": "markdown",
   "id": "8ce0109b-2ad3-4824-a7b3-5fba9de77099",
   "metadata": {},
   "source": [
    "## Data Cleansing and Preparation onvista"
   ]
  },
  {
   "cell_type": "code",
   "execution_count": 46,
   "id": "c7310a80-8715-41cf-b889-4451eec6eedd",
   "metadata": {
    "scrolled": true,
    "tags": []
   },
   "outputs": [
    {
     "data": {
      "text/plain": [
       "[           Datum   Eröffnung        Hoch        Tief     Schluss      Volumen\n",
       " 0     04.01.1988     943,880     943,880     943,880     943,880            0\n",
       " 1     05.01.1988   1.004,340   1.004,340   1.004,340   1.004,340            0\n",
       " 2     06.01.1988   1.020,160   1.020,160   1.020,160   1.020,160            0\n",
       " 3     07.01.1988   1.009,010   1.009,010   1.009,010   1.009,010            0\n",
       " 4     08.01.1988   1.025,280   1.025,280   1.025,280   1.025,280            0\n",
       " ...          ...         ...         ...         ...         ...          ...\n",
       " 8663  09.05.2022  13.624,920  13.697,900  13.380,670  13.380,670   85.515.461\n",
       " 8664  10.05.2022  13.550,020  13.719,950  13.514,490  13.534,740   89.522.786\n",
       " 8665  11.05.2022  13.587,290  13.829,100  13.508,560  13.828,640  119.122.134\n",
       " 8666  12.05.2022  13.512,130  13.808,090  13.479,360  13.739,640  112.508.536\n",
       " 8667  13.05.2022  13.837,420  14.034,150  13.795,640  14.027,930  90.139.477\"\n",
       " \n",
       " [8668 rows x 6 columns],\n",
       "             Datum   Eröffnung        Hoch        Tief     Schluss      Volumen\n",
       " 0      04.01.1988     943,880     943,880     943,880     943,880            0\n",
       " 1      05.01.1988   1.004,340   1.004,340   1.004,340   1.004,340            0\n",
       " 2      06.01.1988   1.020,160   1.020,160   1.020,160   1.020,160            0\n",
       " 3      07.01.1988   1.009,010   1.009,010   1.009,010   1.009,010            0\n",
       " 4      08.01.1988   1.025,280   1.025,280   1.025,280   1.025,280            0\n",
       " ...           ...         ...         ...         ...         ...          ...\n",
       " 17331  09.05.2022  13.624,920  13.697,900  13.380,670  13.380,670   85.515.461\n",
       " 17332  10.05.2022  13.550,020  13.719,950  13.514,490  13.534,740   89.522.786\n",
       " 17333  11.05.2022  13.587,290  13.829,100  13.508,560  13.828,640  119.122.134\n",
       " 17334  12.05.2022  13.512,130  13.808,090  13.479,360  13.739,640  112.508.536\n",
       " 17335  13.05.2022  13.837,420  14.034,150  13.795,640  14.027,930  90.139.477\"\n",
       " \n",
       " [17336 rows x 6 columns],\n",
       "             Datum   Eröffnung        Hoch        Tief     Schluss      Volumen\n",
       " 0      04.01.1988     943,880     943,880     943,880     943,880            0\n",
       " 1      05.01.1988   1.004,340   1.004,340   1.004,340   1.004,340            0\n",
       " 2      06.01.1988   1.020,160   1.020,160   1.020,160   1.020,160            0\n",
       " 3      07.01.1988   1.009,010   1.009,010   1.009,010   1.009,010            0\n",
       " 4      08.01.1988   1.025,280   1.025,280   1.025,280   1.025,280            0\n",
       " ...           ...         ...         ...         ...         ...          ...\n",
       " 25999  09.05.2022  13.624,920  13.697,900  13.380,670  13.380,670   85.515.461\n",
       " 26000  10.05.2022  13.550,020  13.719,950  13.514,490  13.534,740   89.522.786\n",
       " 26001  11.05.2022  13.587,290  13.829,100  13.508,560  13.828,640  119.122.134\n",
       " 26002  12.05.2022  13.512,130  13.808,090  13.479,360  13.739,640  112.508.536\n",
       " 26003  13.05.2022  13.837,420  14.034,150  13.795,640  14.027,930  90.139.477\"\n",
       " \n",
       " [26004 rows x 6 columns],\n",
       "             Datum   Eröffnung        Hoch        Tief     Schluss      Volumen\n",
       " 0      04.01.1988     943,880     943,880     943,880     943,880            0\n",
       " 1      05.01.1988   1.004,340   1.004,340   1.004,340   1.004,340            0\n",
       " 2      06.01.1988   1.020,160   1.020,160   1.020,160   1.020,160            0\n",
       " 3      07.01.1988   1.009,010   1.009,010   1.009,010   1.009,010            0\n",
       " 4      08.01.1988   1.025,280   1.025,280   1.025,280   1.025,280            0\n",
       " ...           ...         ...         ...         ...         ...          ...\n",
       " 34667  09.05.2022  13.624,920  13.697,900  13.380,670  13.380,670   85.515.461\n",
       " 34668  10.05.2022  13.550,020  13.719,950  13.514,490  13.534,740   89.522.786\n",
       " 34669  11.05.2022  13.587,290  13.829,100  13.508,560  13.828,640  119.122.134\n",
       " 34670  12.05.2022  13.512,130  13.808,090  13.479,360  13.739,640  112.508.536\n",
       " 34671  13.05.2022  13.837,420  14.034,150  13.795,640  14.027,930  90.139.477\"\n",
       " \n",
       " [34672 rows x 6 columns],\n",
       "             Datum   Eröffnung        Hoch        Tief     Schluss      Volumen\n",
       " 0      04.01.1988     943,880     943,880     943,880     943,880            0\n",
       " 1      05.01.1988   1.004,340   1.004,340   1.004,340   1.004,340            0\n",
       " 2      06.01.1988   1.020,160   1.020,160   1.020,160   1.020,160            0\n",
       " 3      07.01.1988   1.009,010   1.009,010   1.009,010   1.009,010            0\n",
       " 4      08.01.1988   1.025,280   1.025,280   1.025,280   1.025,280            0\n",
       " ...           ...         ...         ...         ...         ...          ...\n",
       " 43335  09.05.2022  13.624,920  13.697,900  13.380,670  13.380,670   85.515.461\n",
       " 43336  10.05.2022  13.550,020  13.719,950  13.514,490  13.534,740   89.522.786\n",
       " 43337  11.05.2022  13.587,290  13.829,100  13.508,560  13.828,640  119.122.134\n",
       " 43338  12.05.2022  13.512,130  13.808,090  13.479,360  13.739,640  112.508.536\n",
       " 43339  13.05.2022  13.837,420  14.034,150  13.795,640  14.027,930  90.139.477\"\n",
       " \n",
       " [43340 rows x 6 columns],\n",
       "             Datum   Eröffnung        Hoch        Tief     Schluss      Volumen\n",
       " 0      04.01.1988     943,880     943,880     943,880     943,880            0\n",
       " 1      05.01.1988   1.004,340   1.004,340   1.004,340   1.004,340            0\n",
       " 2      06.01.1988   1.020,160   1.020,160   1.020,160   1.020,160            0\n",
       " 3      07.01.1988   1.009,010   1.009,010   1.009,010   1.009,010            0\n",
       " 4      08.01.1988   1.025,280   1.025,280   1.025,280   1.025,280            0\n",
       " ...           ...         ...         ...         ...         ...          ...\n",
       " 52003  09.05.2022  13.624,920  13.697,900  13.380,670  13.380,670   85.515.461\n",
       " 52004  10.05.2022  13.550,020  13.719,950  13.514,490  13.534,740   89.522.786\n",
       " 52005  11.05.2022  13.587,290  13.829,100  13.508,560  13.828,640  119.122.134\n",
       " 52006  12.05.2022  13.512,130  13.808,090  13.479,360  13.739,640  112.508.536\n",
       " 52007  13.05.2022  13.837,420  14.034,150  13.795,640  14.027,930  90.139.477\"\n",
       " \n",
       " [52008 rows x 6 columns],\n",
       "             Datum   Eröffnung        Hoch        Tief     Schluss      Volumen\n",
       " 0      04.01.1988     943,880     943,880     943,880     943,880            0\n",
       " 1      05.01.1988   1.004,340   1.004,340   1.004,340   1.004,340            0\n",
       " 2      06.01.1988   1.020,160   1.020,160   1.020,160   1.020,160            0\n",
       " 3      07.01.1988   1.009,010   1.009,010   1.009,010   1.009,010            0\n",
       " 4      08.01.1988   1.025,280   1.025,280   1.025,280   1.025,280            0\n",
       " ...           ...         ...         ...         ...         ...          ...\n",
       " 60671  09.05.2022  13.624,920  13.697,900  13.380,670  13.380,670   85.515.461\n",
       " 60672  10.05.2022  13.550,020  13.719,950  13.514,490  13.534,740   89.522.786\n",
       " 60673  11.05.2022  13.587,290  13.829,100  13.508,560  13.828,640  119.122.134\n",
       " 60674  12.05.2022  13.512,130  13.808,090  13.479,360  13.739,640  112.508.536\n",
       " 60675  13.05.2022  13.837,420  14.034,150  13.795,640  14.027,930  90.139.477\"\n",
       " \n",
       " [60676 rows x 6 columns],\n",
       "             Datum   Eröffnung        Hoch        Tief     Schluss      Volumen\n",
       " 0      04.01.1988     943,880     943,880     943,880     943,880            0\n",
       " 1      05.01.1988   1.004,340   1.004,340   1.004,340   1.004,340            0\n",
       " 2      06.01.1988   1.020,160   1.020,160   1.020,160   1.020,160            0\n",
       " 3      07.01.1988   1.009,010   1.009,010   1.009,010   1.009,010            0\n",
       " 4      08.01.1988   1.025,280   1.025,280   1.025,280   1.025,280            0\n",
       " ...           ...         ...         ...         ...         ...          ...\n",
       " 69339  09.05.2022  13.624,920  13.697,900  13.380,670  13.380,670   85.515.461\n",
       " 69340  10.05.2022  13.550,020  13.719,950  13.514,490  13.534,740   89.522.786\n",
       " 69341  11.05.2022  13.587,290  13.829,100  13.508,560  13.828,640  119.122.134\n",
       " 69342  12.05.2022  13.512,130  13.808,090  13.479,360  13.739,640  112.508.536\n",
       " 69343  13.05.2022  13.837,420  14.034,150  13.795,640  14.027,930  90.139.477\"\n",
       " \n",
       " [69344 rows x 6 columns],\n",
       "             Datum   Eröffnung        Hoch        Tief     Schluss      Volumen\n",
       " 0      04.01.1988     943,880     943,880     943,880     943,880            0\n",
       " 1      05.01.1988   1.004,340   1.004,340   1.004,340   1.004,340            0\n",
       " 2      06.01.1988   1.020,160   1.020,160   1.020,160   1.020,160            0\n",
       " 3      07.01.1988   1.009,010   1.009,010   1.009,010   1.009,010            0\n",
       " 4      08.01.1988   1.025,280   1.025,280   1.025,280   1.025,280            0\n",
       " ...           ...         ...         ...         ...         ...          ...\n",
       " 78007  09.05.2022  13.624,920  13.697,900  13.380,670  13.380,670   85.515.461\n",
       " 78008  10.05.2022  13.550,020  13.719,950  13.514,490  13.534,740   89.522.786\n",
       " 78009  11.05.2022  13.587,290  13.829,100  13.508,560  13.828,640  119.122.134\n",
       " 78010  12.05.2022  13.512,130  13.808,090  13.479,360  13.739,640  112.508.536\n",
       " 78011  13.05.2022  13.837,420  14.034,150  13.795,640  14.027,930  90.139.477\"\n",
       " \n",
       " [78012 rows x 6 columns],\n",
       "             Datum   Eröffnung        Hoch        Tief     Schluss      Volumen\n",
       " 0      04.01.1988     943,880     943,880     943,880     943,880            0\n",
       " 1      05.01.1988   1.004,340   1.004,340   1.004,340   1.004,340            0\n",
       " 2      06.01.1988   1.020,160   1.020,160   1.020,160   1.020,160            0\n",
       " 3      07.01.1988   1.009,010   1.009,010   1.009,010   1.009,010            0\n",
       " 4      08.01.1988   1.025,280   1.025,280   1.025,280   1.025,280            0\n",
       " ...           ...         ...         ...         ...         ...          ...\n",
       " 86675  09.05.2022  13.624,920  13.697,900  13.380,670  13.380,670   85.515.461\n",
       " 86676  10.05.2022  13.550,020  13.719,950  13.514,490  13.534,740   89.522.786\n",
       " 86677  11.05.2022  13.587,290  13.829,100  13.508,560  13.828,640  119.122.134\n",
       " 86678  12.05.2022  13.512,130  13.808,090  13.479,360  13.739,640  112.508.536\n",
       " 86679  13.05.2022  13.837,420  14.034,150  13.795,640  14.027,930  90.139.477\"\n",
       " \n",
       " [86680 rows x 6 columns],\n",
       "             Datum   Eröffnung        Hoch        Tief     Schluss      Volumen\n",
       " 0      04.01.1988     943,880     943,880     943,880     943,880            0\n",
       " 1      05.01.1988   1.004,340   1.004,340   1.004,340   1.004,340            0\n",
       " 2      06.01.1988   1.020,160   1.020,160   1.020,160   1.020,160            0\n",
       " 3      07.01.1988   1.009,010   1.009,010   1.009,010   1.009,010            0\n",
       " 4      08.01.1988   1.025,280   1.025,280   1.025,280   1.025,280            0\n",
       " ...           ...         ...         ...         ...         ...          ...\n",
       " 95343  09.05.2022  13.624,920  13.697,900  13.380,670  13.380,670   85.515.461\n",
       " 95344  10.05.2022  13.550,020  13.719,950  13.514,490  13.534,740   89.522.786\n",
       " 95345  11.05.2022  13.587,290  13.829,100  13.508,560  13.828,640  119.122.134\n",
       " 95346  12.05.2022  13.512,130  13.808,090  13.479,360  13.739,640  112.508.536\n",
       " 95347  13.05.2022  13.837,420  14.034,150  13.795,640  14.027,930  90.139.477\"\n",
       " \n",
       " [95348 rows x 6 columns],\n",
       "              Datum   Eröffnung        Hoch        Tief     Schluss  \\\n",
       " 0       04.01.1988     943,880     943,880     943,880     943,880   \n",
       " 1       05.01.1988   1.004,340   1.004,340   1.004,340   1.004,340   \n",
       " 2       06.01.1988   1.020,160   1.020,160   1.020,160   1.020,160   \n",
       " 3       07.01.1988   1.009,010   1.009,010   1.009,010   1.009,010   \n",
       " 4       08.01.1988   1.025,280   1.025,280   1.025,280   1.025,280   \n",
       " ...            ...         ...         ...         ...         ...   \n",
       " 104011  09.05.2022  13.624,920  13.697,900  13.380,670  13.380,670   \n",
       " 104012  10.05.2022  13.550,020  13.719,950  13.514,490  13.534,740   \n",
       " 104013  11.05.2022  13.587,290  13.829,100  13.508,560  13.828,640   \n",
       " 104014  12.05.2022  13.512,130  13.808,090  13.479,360  13.739,640   \n",
       " 104015  13.05.2022  13.837,420  14.034,150  13.795,640  14.027,930   \n",
       " \n",
       "             Volumen  \n",
       " 0                 0  \n",
       " 1                 0  \n",
       " 2                 0  \n",
       " 3                 0  \n",
       " 4                 0  \n",
       " ...             ...  \n",
       " 104011   85.515.461  \n",
       " 104012   89.522.786  \n",
       " 104013  119.122.134  \n",
       " 104014  112.508.536  \n",
       " 104015  90.139.477\"  \n",
       " \n",
       " [104016 rows x 6 columns],\n",
       "              Datum   Eröffnung        Hoch        Tief     Schluss  \\\n",
       " 0       04.01.1988     943,880     943,880     943,880     943,880   \n",
       " 1       05.01.1988   1.004,340   1.004,340   1.004,340   1.004,340   \n",
       " 2       06.01.1988   1.020,160   1.020,160   1.020,160   1.020,160   \n",
       " 3       07.01.1988   1.009,010   1.009,010   1.009,010   1.009,010   \n",
       " 4       08.01.1988   1.025,280   1.025,280   1.025,280   1.025,280   \n",
       " ...            ...         ...         ...         ...         ...   \n",
       " 112679  09.05.2022  13.624,920  13.697,900  13.380,670  13.380,670   \n",
       " 112680  10.05.2022  13.550,020  13.719,950  13.514,490  13.534,740   \n",
       " 112681  11.05.2022  13.587,290  13.829,100  13.508,560  13.828,640   \n",
       " 112682  12.05.2022  13.512,130  13.808,090  13.479,360  13.739,640   \n",
       " 112683  13.05.2022  13.837,420  14.034,150  13.795,640  14.027,930   \n",
       " \n",
       "             Volumen  \n",
       " 0                 0  \n",
       " 1                 0  \n",
       " 2                 0  \n",
       " 3                 0  \n",
       " 4                 0  \n",
       " ...             ...  \n",
       " 112679   85.515.461  \n",
       " 112680   89.522.786  \n",
       " 112681  119.122.134  \n",
       " 112682  112.508.536  \n",
       " 112683  90.139.477\"  \n",
       " \n",
       " [112684 rows x 6 columns]]"
      ]
     },
     "execution_count": 46,
     "metadata": {},
     "output_type": "execute_result"
    }
   ],
   "source": [
    "# Load the libraries\n",
    "import pandas as pd\n",
    "import numpy as np\n",
    "import matplotlib.pyplot as plt\n",
    "import seaborn as sns\n",
    "plt.style.use('seaborn-whitegrid')\n",
    "%matplotlib inline\n",
    "IndexListe= [\"DAX\", \"EURO STOXX 50\", \"Dow Jones\",  \"SMI\", \"MSCI World\", \"FTSE\", \"ATX\", \"SDAX\", \"Tec DAX\", \"NASDAQ 100\", \"Nikkei\", \"Hang Song\", \"SHANGHAI STOCK EXCHANGE B SHARES\"]\n",
    "Indexdf= [\"dfDAX\", \"dfEURO STOXX 50\", \"dfDow Jones\",  \"dfSMI\", \"dfMSCI World\", \"dfFTSE\", \"dfATX\", \"dfSDAX\", \"dfTec DAX\", \"dfNASDAQ 100\", \"dfNikkei\", \"dfHang Song\", \"dfSHANGHAI STOCK EXCHANGE B SHARES\"]\n",
    "x=0\n",
    "while x < len(IndexListe):\n",
    "    Indexdf[x]= pd.read_csv(IndexListe[x]+\".csv\", delimiter=' ', header=None, skiprows=2, names=['Datum','Eröffnung','Hoch','Tief','Schluss','Volumen'], index_col=False)\n",
    "    x+=1\n",
    "#pd.read_csv('Finanzdaten.csv', index_col=False)\n",
    "#df = pd.DataFrame(text)\n",
    "#df\n",
    "\n",
    "# Show the content of the dataframe:\n",
    "\n",
    "Indexdf"
   ]
  },
  {
   "cell_type": "code",
   "execution_count": 48,
   "id": "a727ecdf-cc92-49d1-980d-630d84e0bd45",
   "metadata": {},
   "outputs": [
    {
     "name": "stdout",
     "output_type": "stream",
     "text": [
      "<class 'pandas.core.frame.DataFrame'>\n",
      "MultiIndex: 1 entries, (\"['BTC', 'Bitcoin', '29337.2441304391116895']\", \"['ETH', 'Ethereum', '2023.4701636735380049']\", \"['USDT', 'Tether', '0.9988962058377347']\", \"['USDC', 'USD Coin', '1.0014449037873577']\", \"['BNB', 'BNB', '282.6411785045200786']\", \"['XRP', 'XRP', '0.4223017948813970']\", \"['BUSD', 'Binance USD', '1.0014164805798776']\", \"['ADA', 'Cardano', '0.5167232048043537']\", \"['SOL', 'Solana', '48.9375316258889769']\", \"['DOGE', 'Dogecoin', '0.0887041589053242']\", \"['DOT', 'Polkadot', '10.3621217556360470']\", \"['AVAX', 'Avalanche', '31.7478260146862245']\", \"['WBTC', 'Wrapped Bitcoin', '29340.5550370649114023']\", \"['TRX', 'TRON', '0.0737913590505944']\", \"['SHIB', 'Shiba Inu', '0.0000119616114131']\", \"['STETH', 'Lido Staked ETH', '1875.9375486280791723']\", \"['DAI', 'Multi Collateral DAI', '1.0007366082577365']\", \"['MATIC', 'Polygon', '0.6472537200237022']\", \"['LEO', 'UNUS SED LEO', '5.0038425722525216']\", \"['LTC', 'Litecoin', '67.1081936058771234']\", \"['CRO', 'Crypto.com Coin', '0.1798361746401527']\", \"['NEAR', 'NEAR Protocol', '6.3329207329873714']\", \"['FTT', 'FTX Token', '30.8564892682883919']\", \"['BCH', 'Bitcoin Cash', '197.7303274194361865']\", \"['UNI', 'Uniswap', '4.9537008402390671']\", \"['XLM', 'Stellar', '0.1327008148432290']\", \"['LINK', 'Chainlink', '6.9241294304910772']\", \"['BTCB', 'Bitcoin BEP2', '29317.3699289905200090']\", \"['ALGO', 'Algorand', '0.4387176235938570']\", \"['FLOW', 'Flow', '2.8586561249122491']\", \"['ETC', 'Ethereum Classic', '20.4573354858827783']\", \"['ATOM', 'Cosmos', '10.3858378158711141']\", \"['XMR', 'Monero', '140.3140742618153255']\", \"['UST', 'TerraUSD', '0.2156123132868323']\", \"['MANA', 'Decentraland', '1.1500744566741614']\", \"['VET', 'VeChain', '0.0301308125917797']\", \"['ICP', 'Internet Computer', '8.2745282072163318']\", \"['EGLD', 'Elrond', '86.6715173209009067']\", \"['FIL', 'Filecoin', '8.5355870047457079']\", \"['SAND', 'The Sandbox', '1.2906090166143826']\", \"['XTZ', 'Tezos', '1.7494435141679287']\", \"['DFI', 'DeFiChain', '3.0219674863411499']\", \"['HBAR', 'Hedera Hashgraph', '0.0981589425100766']\", \"['MKR', 'Maker', '1484.5825788744381568']\", \"['ZEC', 'Zcash', '97.0405441144230639']\", \"['THETA', 'THETA', '1.3816167840308722']\", \"['EOS', 'EOS', '1.3196121275069868']\", \"['TUSD', 'TrueUSD', '1.0009959752649634']\", \"['KCS', 'KuCoin Token', '12.3964699483372517']\", \"['CAKE', 'PancakeSwap', '4.1108150189099582']\", \"['AXS', 'Axie Infinity', '19.9382896947854284']\", \"['HNT', 'Helium', '9.5030030792143682']\", \"['AAVE', 'Aave', '81.1838417623031273']\", \"['KLAY', 'Klaytn', '0.3831062323244939']\", \"['HT', 'Huobi Token', '6.9522286319739639']\", \"['TTT', 'TrustNote', '3.4709776561981174']\", \"['GRT', 'The Graph', '0.1511145079633953']\", \"['RUNE', 'THORChain', '3.1351178936016227']\", \"['BSV', 'Bitcoin SV', '50.9717990480155031']\", \"['USDP', 'Pax Dollar', '1.0009517893008659']\", \"['MIOTA', 'IOTA', '0.3233429034632352']\", \"['USDN', 'Neutrino USD', '0.9391685450220501']\", \"['FTM', 'Fantom', '0.3151920190119885']\", \"['QNT', 'Quant', '65.3208352331394040']\", \"['CVX', 'Convex Finance', '12.7795239567732768']\", \"['XEC', 'eCash', '0.0000398285810804']\", \"['NEXO', 'Nexo', '1.3277509953221069']\", \"['WAVES', 'Waves', '6.7944337495314519']\", \"['OKB', 'OKB', '12.1787715258025534']\", \"['NEO', 'Neo', '10.1362548561675217']\", \"['STX', 'Stacks', '0.5421602563333139']\", \"['CHZ', 'Chiliz', '0.1128904930971951']\", \"['CELO', 'Celo', '1.4857969166670634']\", \"['DASH', 'Dash', '60.1588661987631824']\", \"['ZIL', 'Zilliqa', '0.0486368126102063']\", \"['GALA', 'Gala', '0.0879685009257547']\", \"['ENJ', 'Enjin Coin', '0.6892222156316015']\", \"['CRV', 'Curve DAO Token', '1.3309287784129566']\", \"['LRC', 'Loopring', '0.4516293722253988']\", \"['KSM', 'Kusama', '70.3936432709244677']\", \"['PAXG', 'PAX Gold', '1805.9757985173723557']\", \"['BAT', 'Basic Attention Token', '0.3867911144476668']\", \"['GNO', 'Gnosis', '224.3653345946195408']\", \"['ONE', 'Harmony', '0.0467063186122664']\", \"['AMP', 'Amp', '0.0130864680801595']\", \"['XDC', 'XinFin Network', '0.0438987723334945']\", \"['MINA', 'Mina', '0.9980802459494483']\", \"['XEM', 'NEM', '0.0541054568667183']\", \"['COMP', 'Compound', '67.5675411961031559']\", \"['DCR', 'Decred', '32.8869051148679402']\", \"['AR', 'Arweave', '13.6641400668150046']\", \"['HOT', 'Holo', '0.0025892514060623']\", \"['KDA', 'Kadena', '2.3465813053276247']\", \"['LDO', 'Lido DAO', '1.3792369797262258']\", \"['GT', 'GateToken', '5.3756971022908009']\", \"['FEI', 'Fei Protocol', '0.9828271698376570']\", \"['QTUM', 'Qtum', '3.8936355713413271']\") to (\"['BTC', 'Bitcoin', '29337.2441304391116895']\", \"['ETH', 'Ethereum', '2023.4701636735380049']\", \"['USDT', 'Tether', '0.9988962058377347']\", \"['USDC', 'USD Coin', '1.0014449037873577']\", \"['BNB', 'BNB', '282.6411785045200786']\", \"['XRP', 'XRP', '0.4223017948813970']\", \"['BUSD', 'Binance USD', '1.0014164805798776']\", \"['ADA', 'Cardano', '0.5167232048043537']\", \"['SOL', 'Solana', '48.9375316258889769']\", \"['DOGE', 'Dogecoin', '0.0887041589053242']\", \"['DOT', 'Polkadot', '10.3621217556360470']\", \"['AVAX', 'Avalanche', '31.7478260146862245']\", \"['WBTC', 'Wrapped Bitcoin', '29340.5550370649114023']\", \"['TRX', 'TRON', '0.0737913590505944']\", \"['SHIB', 'Shiba Inu', '0.0000119616114131']\", \"['STETH', 'Lido Staked ETH', '1875.9375486280791723']\", \"['DAI', 'Multi Collateral DAI', '1.0007366082577365']\", \"['MATIC', 'Polygon', '0.6472537200237022']\", \"['LEO', 'UNUS SED LEO', '5.0038425722525216']\", \"['LTC', 'Litecoin', '67.1081936058771234']\", \"['CRO', 'Crypto.com Coin', '0.1798361746401527']\", \"['NEAR', 'NEAR Protocol', '6.3329207329873714']\", \"['FTT', 'FTX Token', '30.8564892682883919']\", \"['BCH', 'Bitcoin Cash', '197.7303274194361865']\", \"['UNI', 'Uniswap', '4.9537008402390671']\", \"['XLM', 'Stellar', '0.1327008148432290']\", \"['LINK', 'Chainlink', '6.9241294304910772']\", \"['BTCB', 'Bitcoin BEP2', '29317.3699289905200090']\", \"['ALGO', 'Algorand', '0.4387176235938570']\", \"['FLOW', 'Flow', '2.8586561249122491']\", \"['ETC', 'Ethereum Classic', '20.4573354858827783']\", \"['ATOM', 'Cosmos', '10.3858378158711141']\", \"['XMR', 'Monero', '140.3140742618153255']\", \"['UST', 'TerraUSD', '0.2156123132868323']\", \"['MANA', 'Decentraland', '1.1500744566741614']\", \"['VET', 'VeChain', '0.0301308125917797']\", \"['ICP', 'Internet Computer', '8.2745282072163318']\", \"['EGLD', 'Elrond', '86.6715173209009067']\", \"['FIL', 'Filecoin', '8.5355870047457079']\", \"['SAND', 'The Sandbox', '1.2906090166143826']\", \"['XTZ', 'Tezos', '1.7494435141679287']\", \"['DFI', 'DeFiChain', '3.0219674863411499']\", \"['HBAR', 'Hedera Hashgraph', '0.0981589425100766']\", \"['MKR', 'Maker', '1484.5825788744381568']\", \"['ZEC', 'Zcash', '97.0405441144230639']\", \"['THETA', 'THETA', '1.3816167840308722']\", \"['EOS', 'EOS', '1.3196121275069868']\", \"['TUSD', 'TrueUSD', '1.0009959752649634']\", \"['KCS', 'KuCoin Token', '12.3964699483372517']\", \"['CAKE', 'PancakeSwap', '4.1108150189099582']\", \"['AXS', 'Axie Infinity', '19.9382896947854284']\", \"['HNT', 'Helium', '9.5030030792143682']\", \"['AAVE', 'Aave', '81.1838417623031273']\", \"['KLAY', 'Klaytn', '0.3831062323244939']\", \"['HT', 'Huobi Token', '6.9522286319739639']\", \"['TTT', 'TrustNote', '3.4709776561981174']\", \"['GRT', 'The Graph', '0.1511145079633953']\", \"['RUNE', 'THORChain', '3.1351178936016227']\", \"['BSV', 'Bitcoin SV', '50.9717990480155031']\", \"['USDP', 'Pax Dollar', '1.0009517893008659']\", \"['MIOTA', 'IOTA', '0.3233429034632352']\", \"['USDN', 'Neutrino USD', '0.9391685450220501']\", \"['FTM', 'Fantom', '0.3151920190119885']\", \"['QNT', 'Quant', '65.3208352331394040']\", \"['CVX', 'Convex Finance', '12.7795239567732768']\", \"['XEC', 'eCash', '0.0000398285810804']\", \"['NEXO', 'Nexo', '1.3277509953221069']\", \"['WAVES', 'Waves', '6.7944337495314519']\", \"['OKB', 'OKB', '12.1787715258025534']\", \"['NEO', 'Neo', '10.1362548561675217']\", \"['STX', 'Stacks', '0.5421602563333139']\", \"['CHZ', 'Chiliz', '0.1128904930971951']\", \"['CELO', 'Celo', '1.4857969166670634']\", \"['DASH', 'Dash', '60.1588661987631824']\", \"['ZIL', 'Zilliqa', '0.0486368126102063']\", \"['GALA', 'Gala', '0.0879685009257547']\", \"['ENJ', 'Enjin Coin', '0.6892222156316015']\", \"['CRV', 'Curve DAO Token', '1.3309287784129566']\", \"['LRC', 'Loopring', '0.4516293722253988']\", \"['KSM', 'Kusama', '70.3936432709244677']\", \"['PAXG', 'PAX Gold', '1805.9757985173723557']\", \"['BAT', 'Basic Attention Token', '0.3867911144476668']\", \"['GNO', 'Gnosis', '224.3653345946195408']\", \"['ONE', 'Harmony', '0.0467063186122664']\", \"['AMP', 'Amp', '0.0130864680801595']\", \"['XDC', 'XinFin Network', '0.0438987723334945']\", \"['MINA', 'Mina', '0.9980802459494483']\", \"['XEM', 'NEM', '0.0541054568667183']\", \"['COMP', 'Compound', '67.5675411961031559']\", \"['DCR', 'Decred', '32.8869051148679402']\", \"['AR', 'Arweave', '13.6641400668150046']\", \"['HOT', 'Holo', '0.0025892514060623']\", \"['KDA', 'Kadena', '2.3465813053276247']\", \"['LDO', 'Lido DAO', '1.3792369797262258']\", \"['GT', 'GateToken', '5.3756971022908009']\", \"['FEI', 'Fei Protocol', '0.9828271698376570']\", \"['QTUM', 'Qtum', '3.8936355713413271']\")\n",
      "Data columns (total 3 columns):\n",
      " #   Column      Non-Null Count  Dtype \n",
      "---  ------      --------------  ----- \n",
      " 0   SYMBOL      1 non-null      object\n",
      " 1   NAME        1 non-null      object\n",
      " 2   PRICE(USD)  1 non-null      object\n",
      "dtypes: object(3)\n",
      "memory usage: 12.6+ KB\n"
     ]
    }
   ],
   "source": [
    "df.info()\n"
   ]
  },
  {
   "cell_type": "code",
   "execution_count": null,
   "id": "abcdc6af-96b4-424b-bc55-3e0e4b6cb7a0",
   "metadata": {},
   "outputs": [],
   "source": []
  }
 ],
 "metadata": {
  "kernelspec": {
   "display_name": "Python 3 (ipykernel)",
   "language": "python",
   "name": "python3"
  },
  "language_info": {
   "codemirror_mode": {
    "name": "ipython",
    "version": 3
   },
   "file_extension": ".py",
   "mimetype": "text/x-python",
   "name": "python",
   "nbconvert_exporter": "python",
   "pygments_lexer": "ipython3",
   "version": "3.8.12"
  }
 },
 "nbformat": 4,
 "nbformat_minor": 5
}
